{
 "cells": [
  {
   "cell_type": "markdown",
   "metadata": {},
   "source": [
    "#### Imports and settings"
   ]
  },
  {
   "cell_type": "code",
   "execution_count": 1,
   "metadata": {
    "scrolled": true
   },
   "outputs": [
    {
     "name": "stderr",
     "output_type": "stream",
     "text": [
      "Using TensorFlow backend.\n"
     ]
    },
    {
     "data": {
      "application/javascript": [
       "if (!(\"Notification\" in window)) {\n",
       "    alert(\"This browser does not support desktop notifications, so the %%notify magic will not work.\");\n",
       "} else if (Notification.permission !== 'granted' && Notification.permission !== 'denied') {\n",
       "    Notification.requestPermission(function (permission) {\n",
       "        if(!('permission' in Notification)) {\n",
       "            Notification.permission = permission;\n",
       "        }\n",
       "    })\n",
       "}\n"
      ],
      "text/plain": [
       "<IPython.core.display.Javascript object>"
      ]
     },
     "metadata": {},
     "output_type": "display_data"
    },
    {
     "name": "stdout",
     "output_type": "stream",
     "text": [
      "Intel-optimized TensorFlow is enabled: True\n"
     ]
    }
   ],
   "source": [
    "import warnings\n",
    "warnings.simplefilter(action='ignore', category=FutureWarning)\n",
    "\n",
    "from random import randint\n",
    "import numpy as np\n",
    "import matplotlib.pyplot as plt\n",
    "import pandas as pd\n",
    "import seaborn as sns\n",
    "from sklearn.model_selection import GridSearchCV\n",
    "from sklearn.metrics import confusion_matrix\n",
    "import tensorflow as tf\n",
    "import markovify as mk\n",
    "\n",
    "from wordcloud import WordCloud, STOPWORDS\n",
    "from keras.preprocessing.text import Tokenizer\n",
    "from keras.preprocessing.sequence import pad_sequences\n",
    "from keras.layers import Input, Embedding, GlobalMaxPool1D, LSTM, Dropout, Dense\n",
    "from keras.layers.convolutional import Conv1D, MaxPooling1D\n",
    "from keras.models import Model, Sequential\n",
    "from keras.wrappers.scikit_learn import KerasClassifier\n",
    "from keras.models import model_from_json\n",
    "from keras import backend as K\n",
    "from keras.callbacks import EarlyStopping, ModelCheckpoint\n",
    "from keras.initializers import Constant\n",
    "\n",
    "with warnings.catch_warnings():\n",
    "    warnings.filterwarnings(\"ignore\",category=FutureWarning)\n",
    "    import h5py\n",
    "tf.logging.set_verbosity(tf.logging.ERROR)\n",
    "\n",
    "%matplotlib inline\n",
    "%reload_ext jupyternotify\n",
    "\n",
    "print('Intel-optimized TensorFlow is enabled:', tf.pywrap_tensorflow.IsMklEnabled())"
   ]
  },
  {
   "cell_type": "markdown",
   "metadata": {},
   "source": [
    "#### Customize IDE (currently raw)"
   ]
  },
  {
   "cell_type": "raw",
   "metadata": {},
   "source": [
    "# IDE theme\n",
    "!jt -t chesterish -f roboto -fs 9 -nfs 11"
   ]
  },
  {
   "cell_type": "code",
   "execution_count": 2,
   "metadata": {},
   "outputs": [],
   "source": [
    "# Font color on plots \n",
    "COLOR = 'A9B0C2'\n",
    "plt.rcParams['text.color'] = COLOR\n",
    "plt.rcParams['axes.labelcolor'] = COLOR\n",
    "plt.rcParams['xtick.color'] = COLOR\n",
    "plt.rcParams['ytick.color'] = COLOR\n",
    "\n",
    "plt.rcParams[\"figure.figsize\"] = [10,5]"
   ]
  },
  {
   "cell_type": "markdown",
   "metadata": {},
   "source": [
    "#### Load datasets and pretrained models"
   ]
  },
  {
   "cell_type": "code",
   "execution_count": 3,
   "metadata": {},
   "outputs": [],
   "source": [
    "INPUT_PATH = '../input/'\n",
    "SUBMISSION_PATH = '../submission/'\n",
    "MODEL_PATH = '../model/'\n",
    "PRETRAINED_PATH = '../pretrained-models/'\n",
    "\n",
    "train = pd.read_csv(f'{INPUT_PATH}train.csv')\n",
    "test = pd.read_csv(f'{INPUT_PATH}test.csv')\n",
    "test_labels = pd.read_csv(f'{INPUT_PATH}test_labels.csv')"
   ]
  },
  {
   "cell_type": "markdown",
   "metadata": {},
   "source": [
    "### EDA (Exploratory data analysis)"
   ]
  },
  {
   "cell_type": "code",
   "execution_count": 4,
   "metadata": {
    "scrolled": true
   },
   "outputs": [
    {
     "data": {
      "text/plain": [
       "id               False\n",
       "comment_text     False\n",
       "toxic            False\n",
       "severe_toxic     False\n",
       "obscene          False\n",
       "threat           False\n",
       "insult           False\n",
       "identity_hate    False\n",
       "dtype: bool"
      ]
     },
     "execution_count": 4,
     "metadata": {},
     "output_type": "execute_result"
    }
   ],
   "source": [
    "train.isnull().any()"
   ]
  },
  {
   "cell_type": "code",
   "execution_count": 5,
   "metadata": {
    "scrolled": true
   },
   "outputs": [
    {
     "data": {
      "text/plain": [
       "id              False\n",
       "comment_text    False\n",
       "dtype: bool"
      ]
     },
     "execution_count": 5,
     "metadata": {},
     "output_type": "execute_result"
    }
   ],
   "source": [
    "test.isnull().any()"
   ]
  },
  {
   "cell_type": "code",
   "execution_count": 6,
   "metadata": {
    "scrolled": true
   },
   "outputs": [
    {
     "data": {
      "text/html": [
       "<div>\n",
       "<style scoped>\n",
       "    .dataframe tbody tr th:only-of-type {\n",
       "        vertical-align: middle;\n",
       "    }\n",
       "\n",
       "    .dataframe tbody tr th {\n",
       "        vertical-align: top;\n",
       "    }\n",
       "\n",
       "    .dataframe thead th {\n",
       "        text-align: right;\n",
       "    }\n",
       "</style>\n",
       "<table border=\"1\" class=\"dataframe\">\n",
       "  <thead>\n",
       "    <tr style=\"text-align: right;\">\n",
       "      <th></th>\n",
       "      <th>id</th>\n",
       "      <th>comment_text</th>\n",
       "      <th>toxic</th>\n",
       "      <th>severe_toxic</th>\n",
       "      <th>obscene</th>\n",
       "      <th>threat</th>\n",
       "      <th>insult</th>\n",
       "      <th>identity_hate</th>\n",
       "    </tr>\n",
       "  </thead>\n",
       "  <tbody>\n",
       "    <tr>\n",
       "      <th>0</th>\n",
       "      <td>0000997932d777bf</td>\n",
       "      <td>Explanation\\nWhy the edits made under my usern...</td>\n",
       "      <td>0</td>\n",
       "      <td>0</td>\n",
       "      <td>0</td>\n",
       "      <td>0</td>\n",
       "      <td>0</td>\n",
       "      <td>0</td>\n",
       "    </tr>\n",
       "    <tr>\n",
       "      <th>1</th>\n",
       "      <td>000103f0d9cfb60f</td>\n",
       "      <td>D'aww! He matches this background colour I'm s...</td>\n",
       "      <td>0</td>\n",
       "      <td>0</td>\n",
       "      <td>0</td>\n",
       "      <td>0</td>\n",
       "      <td>0</td>\n",
       "      <td>0</td>\n",
       "    </tr>\n",
       "    <tr>\n",
       "      <th>2</th>\n",
       "      <td>000113f07ec002fd</td>\n",
       "      <td>Hey man, I'm really not trying to edit war. It...</td>\n",
       "      <td>0</td>\n",
       "      <td>0</td>\n",
       "      <td>0</td>\n",
       "      <td>0</td>\n",
       "      <td>0</td>\n",
       "      <td>0</td>\n",
       "    </tr>\n",
       "    <tr>\n",
       "      <th>3</th>\n",
       "      <td>0001b41b1c6bb37e</td>\n",
       "      <td>\"\\nMore\\nI can't make any real suggestions on ...</td>\n",
       "      <td>0</td>\n",
       "      <td>0</td>\n",
       "      <td>0</td>\n",
       "      <td>0</td>\n",
       "      <td>0</td>\n",
       "      <td>0</td>\n",
       "    </tr>\n",
       "    <tr>\n",
       "      <th>4</th>\n",
       "      <td>0001d958c54c6e35</td>\n",
       "      <td>You, sir, are my hero. Any chance you remember...</td>\n",
       "      <td>0</td>\n",
       "      <td>0</td>\n",
       "      <td>0</td>\n",
       "      <td>0</td>\n",
       "      <td>0</td>\n",
       "      <td>0</td>\n",
       "    </tr>\n",
       "  </tbody>\n",
       "</table>\n",
       "</div>"
      ],
      "text/plain": [
       "                 id                                       comment_text  toxic  \\\n",
       "0  0000997932d777bf  Explanation\\nWhy the edits made under my usern...      0   \n",
       "1  000103f0d9cfb60f  D'aww! He matches this background colour I'm s...      0   \n",
       "2  000113f07ec002fd  Hey man, I'm really not trying to edit war. It...      0   \n",
       "3  0001b41b1c6bb37e  \"\\nMore\\nI can't make any real suggestions on ...      0   \n",
       "4  0001d958c54c6e35  You, sir, are my hero. Any chance you remember...      0   \n",
       "\n",
       "   severe_toxic  obscene  threat  insult  identity_hate  \n",
       "0             0        0       0       0              0  \n",
       "1             0        0       0       0              0  \n",
       "2             0        0       0       0              0  \n",
       "3             0        0       0       0              0  \n",
       "4             0        0       0       0              0  "
      ]
     },
     "execution_count": 6,
     "metadata": {},
     "output_type": "execute_result"
    }
   ],
   "source": [
    "train.head()"
   ]
  },
  {
   "cell_type": "code",
   "execution_count": 7,
   "metadata": {
    "scrolled": true
   },
   "outputs": [
    {
     "name": "stdout",
     "output_type": "stream",
     "text": [
      "Samples in train dataset:  159571 ( 51 % )\n",
      "Samples in test dataset:  153164 ( 49 % )\n"
     ]
    }
   ],
   "source": [
    "n_train = train.shape[0]\n",
    "n_test = test.shape[0]\n",
    "print(\"Samples in train dataset: \", n_train, \"(\", round(n_train * 100 / (n_train + n_test)), \"% )\")\n",
    "print(\"Samples in test dataset: \", n_test, \"(\", round(n_test  *100 / (n_train + n_test)), \"% )\")"
   ]
  },
  {
   "cell_type": "code",
   "execution_count": 8,
   "metadata": {},
   "outputs": [],
   "source": [
    "# Do not operate on original test dataset during EDA\n",
    "train_extended = train.reset_index(drop=True)"
   ]
  },
  {
   "cell_type": "code",
   "execution_count": 9,
   "metadata": {},
   "outputs": [
    {
     "name": "stdout",
     "output_type": "stream",
     "text": [
      "Clean:  143346 ( 90.0 % )\n",
      "Toxic:  16225 ( 10.0 % )\n"
     ]
    }
   ],
   "source": [
    "comments_labels_train = train_extended.iloc[:,2:]\n",
    "comments_labels_sums = comments_labels_train.sum(axis=1)\n",
    "train_extended[\"clean\"] = (comments_labels_sums == 0)\n",
    "n_clean_samples = train_extended[\"clean\"].sum()\n",
    "n_toxic_samples = len(train_extended) - n_clean_samples\n",
    "print(\"Clean: \", n_clean_samples, \"(\", round(n_clean_samples * 100 / len(train_extended)), \"% )\")\n",
    "print(\"Toxic: \", n_toxic_samples, \"(\", round(n_toxic_samples * 100 / len(train_extended)), \"% )\")"
   ]
  },
  {
   "cell_type": "markdown",
   "metadata": {},
   "source": [
    "###### <font color=\"LIGHTSALMON\">The large majority of train dataset are comments labelled as clean</font>"
   ]
  },
  {
   "cell_type": "code",
   "execution_count": 10,
   "metadata": {
    "scrolled": false
   },
   "outputs": [
    {
     "data": {
      "image/png": "[encoded data removed]",
      "text/plain": [
       "<Figure size 720x360 with 1 Axes>"
      ]
     },
     "metadata": {
      "needs_background": "dark"
     },
     "output_type": "display_data"
    }
   ],
   "source": [
    "# extended by 'clean' column\n",
    "summed_labels_extended_train = train_extended.iloc[:,2:].sum()\n",
    "\n",
    "plt.figure(figsize=(10,5))\n",
    "plt.title(\"Samples per class\")\n",
    "plt.ylabel(\"Number of samples\")\n",
    "plt.xlabel(\"Class name\")\n",
    "ax = sns.barplot(summed_labels_extended_train.index, summed_labels_extended_train.values, palette=\"Blues_d\")\n",
    "plt.show()"
   ]
  },
  {
   "cell_type": "code",
   "execution_count": 11,
   "metadata": {},
   "outputs": [],
   "source": [
    "imbalance_ratios_class_names = {}\n",
    "imbalance_ratios_class_nums = {}\n",
    "for label in range(len(summed_labels_extended_train) - 1):\n",
    "    ratio_label = n_clean_samples / summed_labels_extended_train.get(label)\n",
    "    imbalance_ratios_class_nums[label] = round(ratio_label, 2)\n",
    "    imbalance_ratios_class_names[summed_labels_extended_train.index[label]] = round(ratio_label, 2)"
   ]
  },
  {
   "cell_type": "code",
   "execution_count": 12,
   "metadata": {
    "scrolled": true
   },
   "outputs": [
    {
     "data": {
      "image/png": "[encoded data removed]",
      "text/plain": [
       "<Figure size 720x360 with 1 Axes>"
      ]
     },
     "metadata": {
      "needs_background": "dark"
     },
     "output_type": "display_data"
    },
    {
     "name": "stdout",
     "output_type": "stream",
     "text": [
      "1    6360\n",
      "3    4209\n",
      "2    3480\n",
      "4    1760\n",
      "5     385\n",
      "6      31\n",
      "dtype: int64\n"
     ]
    }
   ],
   "source": [
    "# without '0 classes' (clean comments)\n",
    "multiple_classes_occurance = comments_labels_sums.value_counts().iloc[1:]\n",
    "\n",
    "plt.figure(figsize=(10,5))\n",
    "plt.title(\"Number of classes per sample\")\n",
    "plt.ylabel(\"Number of samples\")\n",
    "plt.xlabel(\"Number of classes\")\n",
    "ax = sns.barplot(multiple_classes_occurance.index, multiple_classes_occurance.values, palette=\"Blues_d\")\n",
    "plt.show()\n",
    "print(multiple_classes_occurance)"
   ]
  },
  {
   "cell_type": "code",
   "execution_count": 13,
   "metadata": {},
   "outputs": [
    {
     "name": "stdout",
     "output_type": "stream",
     "text": [
      "Single-classed toxic comments: 39.20 %\n",
      "Multiple-classed toxic comments: 60.80 %\n"
     ]
    }
   ],
   "source": [
    "print(\"Single-classed toxic comments:\", '{0:.2f}'.format(multiple_classes_occurance.get(1) / n_toxic_samples * 100), '%')\n",
    "print(\"Multiple-classed toxic comments:\", '{0:.2f}'.format(multiple_classes_occurance[1:].sum() / n_toxic_samples * 100), '%')"
   ]
  },
  {
   "cell_type": "markdown",
   "metadata": {},
   "source": [
    "###### <font color=\"LIGHTSALMON\">Most of toxic comments has more than one toxic class</font>"
   ]
  },
  {
   "cell_type": "markdown",
   "metadata": {},
   "source": [
    "#### Example samples"
   ]
  },
  {
   "cell_type": "code",
   "execution_count": 14,
   "metadata": {},
   "outputs": [],
   "source": [
    "def get_random_sample(comments_group):\n",
    "    min_samples_in_class = comments_labels_train.sum().min() - 1\n",
    "    return comments_group.iloc[randint(0, min_samples_in_class), 1]"
   ]
  },
  {
   "cell_type": "code",
   "execution_count": 15,
   "metadata": {},
   "outputs": [
    {
     "name": "stdout",
     "output_type": "stream",
     "text": [
      "Toxic:\n",
      "\n",
      "> mostly burtalbert you fucking asshole go suck a dick u fucking king of assholes\n",
      "\n",
      " --- \n",
      "\n",
      "Severe toxic:\n",
      "\n",
      "> F*CKING SON OF A BATCH MOTHER F*CKER.  Rolling on th floor eating a bagel is real, and you're a denier!!!\n",
      "\n",
      " --- \n",
      "\n",
      "Obscene:\n",
      "\n",
      "> moderator on wikipedia \n",
      "\n",
      "moderator on wikipedia are a bunch of twats who like to suck thomas malinas tiny cock\n",
      "\n",
      " --- \n",
      "\n",
      "Threat:\n",
      "\n",
      "> Lil Faggit  \n",
      "\n",
      "You are a little bitch. I fuckin spent 6 hours on big sam (rapper) an you call it fuckin vandolism, hard ass aint you, fuck you i'm makin a true ass page an you wack off an delete my page. What the fuck is up, your like a snitch but to yourself. I'll fuckin edit your bitch ass page an delete that shit. I'll fuck up every single thing on your gay ass website if you keep deletin my ass. Wanna talk to me, IM me at GuttyBoy3D or email me at GuttyBoy3D@aol.com\n",
      "\n",
      " --- \n",
      "\n",
      "Insult:\n",
      "\n",
      "> Wikipedia is full of fools. Who takes money and makes people work for free?  Wikipedia!!! You might as well ban me, you fool. What's taking so long? Wiki is a stupid place, it's Jimbo's Cult.\n",
      "\n",
      " --- \n",
      "\n",
      "Identity hate:\n",
      "\n",
      "> \"\n",
      "\n",
      "LOL, haha, you loser Wobbs, yeah maybe I am Epf......NOT. Although he shares some views with me on race and other things, hes some dumb Italian-British mut from Canada that actually annoys me. I have used other accounts on here, but with other anon. accounts, not as a registered user (which is allowed by Wikipedia since IP #'s change all the time). Hahaha, Wobbs, you are a fool, especially with how you place so much emphasis on those books recently released by Sykes, etc. which are minority opinions in the world of population geneticists and other researcher. For your information, Racial Reality isn't a \"\"neo-nazi\"\" site you anarchist loser with no hope because your life is meaningless and you don't know ANYTHING on what you read about with these issues. RR is a neutral point of view that seeks to refute neo-nazi, white supremacists, multi-racial, race-denier, assimilationist, biased opinions that influence works including the authors of those books you mentioned. Stick to being a pathetic lab assistant and get a life you tool and stop vandalizing pages and makin edits to suit your twisted opinons you fool. Hahaha, wow, do u accuse 'sock pupety\"\" of everyone who gets under you skin you douchebag ???  23:37, 5 January 2007 (UTC\n",
      "\n",
      " - Oh and Veritas you dumb fool, I find it insulting you compare my language to Epf's when at least I know what Im talkin about on this stuff while hes just some pussy who confuses people and his arguments cant comapare at all to the brilliant logic of mine. Hahah, you and Wobbs are the worst contributors to this WIkipedia thing, don't ever use this, no one wants you here !! Hahaha !!! \"\n",
      "\n",
      " --- \n",
      "\n",
      "Clean:\n",
      "\n",
      "> And, of course, Peiser is more than just a social anthropologist.  He's one whose recent research has focused primarily on the social aspects of climate change and is thus at least as qualified to comment on the state of consensus as a historian.  Regarding his study, it hasn't been published in a peer-reviewed journal, but the results have appeared in many reliable sources.  In effect, it should be treated no differently than as if Peiser himself (or any other scientist) had verbally relayed the conclusions directly to a reporter.  Literally tens of thousands of Wiki articles contain such references direct quotes from scientists, which appear in no other source but through the medium of a reputable reporter.\n"
     ]
    }
   ],
   "source": [
    "toxic_samples = train_extended[train_extended.toxic == 1]\n",
    "severe_toxic_samples = train_extended[train_extended.severe_toxic == 1]\n",
    "obscene_samples = train_extended[train_extended.obscene == 1]\n",
    "threat_samples = train_extended[train_extended.threat == 1]\n",
    "insult_samples = train_extended[train_extended.insult == 1]\n",
    "identity_hate_samples = train_extended[train_extended.identity_hate == 1]\n",
    "clean_samples = train_extended[train_extended.clean == 1]\n",
    "\n",
    "print(\"Toxic:\\n\\n>\", get_random_sample(toxic_samples))\n",
    "print(\"\\n --- \\n\\nSevere toxic:\\n\\n>\", get_random_sample(severe_toxic_samples))\n",
    "print(\"\\n --- \\n\\nObscene:\\n\\n>\", get_random_sample(obscene_samples))\n",
    "print(\"\\n --- \\n\\nThreat:\\n\\n>\", get_random_sample(threat_samples))\n",
    "print(\"\\n --- \\n\\nInsult:\\n\\n>\", get_random_sample(insult_samples))\n",
    "print(\"\\n --- \\n\\nIdentity hate:\\n\\n>\", get_random_sample(identity_hate_samples))\n",
    "print(\"\\n --- \\n\\nClean:\\n\\n>\", get_random_sample(clean_samples))"
   ]
  },
  {
   "cell_type": "markdown",
   "metadata": {},
   "source": [
    "#### Wordclouds"
   ]
  },
  {
   "cell_type": "raw",
   "metadata": {},
   "source": [
    "stopwords=set(STOPWORDS)\n",
    "\n",
    "wordcloud_toxic = WordCloud(max_words=1000, stopwords=stopwords, colormap=\"Reds\")\n",
    "wordcloud_toxic.generate(\" \".join(toxic_samples.comment_text.values))\n",
    "\n",
    "wordcloud_clean = WordCloud(max_words=1000, stopwords=stopwords, colormap=\"Greens\")\n",
    "wordcloud_clean.generate(\" \".join(clean_samples.comment_text.values))"
   ]
  },
  {
   "cell_type": "raw",
   "metadata": {
    "scrolled": false
   },
   "source": [
    "plt.figure(figsize=(15,10))\n",
    "\n",
    "plt.subplot(211)\n",
    "plt.title(\"Wordcloud of \\'toxic\\' class\")\n",
    "plt.imshow(wordcloud_toxic, interpolation='bilinear')\n",
    "plt.axis(\"off\")\n",
    "\n",
    "plt.subplot(212)\n",
    "plt.axis(\"off\")\n",
    "plt.title(\"Wordcloud of \\'clean\\' class\")\n",
    "plt.imshow(wordcloud_clean, interpolation='bilinear')\n",
    "\n",
    "plt.show()"
   ]
  },
  {
   "cell_type": "markdown",
   "metadata": {},
   "source": [
    "#### Spam significance "
   ]
  },
  {
   "cell_type": "code",
   "execution_count": 16,
   "metadata": {},
   "outputs": [],
   "source": [
    "train_extended['n_unique_words'] = train_extended[\"comment_text\"].apply(lambda x: len(set(str(x).split())))\n",
    "train_extended['n_words'] = train_extended[\"comment_text\"].apply(lambda x: len(str(x).split()))\n",
    "train_extended['unique_words_per'] = train_extended['n_unique_words'] * 100 / train_extended['n_words']"
   ]
  },
  {
   "cell_type": "markdown",
   "metadata": {},
   "source": [
    "###### <font color=\"LIGHTSALMON\">Spam ratio (coefficient) =  unique words in comment / number of words in comment</font>"
   ]
  },
  {
   "cell_type": "code",
   "execution_count": 17,
   "metadata": {},
   "outputs": [
    {
     "name": "stdout",
     "output_type": "stream",
     "text": [
      "For spam coefficient equal 10%:\n",
      "\n",
      "Clean spammers:  67 ( 19 % )\n",
      "Toxic spammers:  292 ( 81 % )\n",
      "\n",
      "There are 4.36 times more toxic spammers than clean ones!\n"
     ]
    }
   ],
   "source": [
    "spam_ratio = 10\n",
    "spammers = train_extended[train_extended['unique_words_per'] < spam_ratio]\n",
    "clean_spammers = spammers[spammers['clean'] == True]\n",
    "toxic_spammers = spammers[spammers['clean'] == False]\n",
    "n_clean_spammers = clean_spammers.shape[0]\n",
    "n_toxic_spammers = toxic_spammers.shape[0]\n",
    "n_spammers = spammers.shape[0]\n",
    "print('For spam coefficient equal 10%:\\n')\n",
    "print('Clean spammers: ', n_clean_spammers, \"(\", round(n_clean_spammers * 100 / n_spammers), \"% )\")\n",
    "print('Toxic spammers: ', n_toxic_spammers, \"(\", round(n_toxic_spammers * 100 / n_spammers), \"% )\")\n",
    "print('\\nThere are', '{0:.2f}'.format(n_toxic_spammers / n_clean_spammers), \n",
    "      'times more toxic spammers than clean ones!')"
   ]
  },
  {
   "cell_type": "code",
   "execution_count": 18,
   "metadata": {
    "scrolled": false
   },
   "outputs": [],
   "source": [
    "spam_ratio_values = np.arange(0, 41, 1)\n",
    "n_clean_spammers_values = []\n",
    "n_toxic_spammers_values = []\n",
    "for spam_ratio in spam_ratio_values:\n",
    "    curr_spammers = train_extended[train_extended['unique_words_per'] < spam_ratio]\n",
    "    curr_clean_spammers = curr_spammers[curr_spammers['clean'] == True]\n",
    "    curr_toxic_spammers = curr_spammers[curr_spammers['clean'] == False]\n",
    "    n_clean_spammers_values.append(curr_clean_spammers.shape[0])\n",
    "    n_toxic_spammers_values.append(curr_toxic_spammers.shape[0])"
   ]
  },
  {
   "cell_type": "code",
   "execution_count": 19,
   "metadata": {},
   "outputs": [
    {
     "data": {
      "image/png": "[encoded data removed]",
      "text/plain": [
       "<Figure size 720x360 with 1 Axes>"
      ]
     },
     "metadata": {
      "needs_background": "dark"
     },
     "output_type": "display_data"
    }
   ],
   "source": [
    "plt.title(\"Number of spammers depending on the spam coefficient\", fontsize=12)\n",
    "\n",
    "plt.plot(spam_ratio_values, n_clean_spammers_values)\n",
    "plt.fill_between(spam_ratio_values, n_clean_spammers_values, 0, color='blue', alpha=0.4)  \n",
    "plt.plot(spam_ratio_values, n_toxic_spammers_values, 'r')\n",
    "plt.fill_between(spam_ratio_values, n_toxic_spammers_values, 0, color='red', alpha=0.2) \n",
    "\n",
    "plt.legend(['Clean spammers', 'Toxic spammers'])\n",
    "plt.ylabel('Number of users', fontsize=12)\n",
    "plt.xlabel('Value of spam coefficient [%]', fontsize=12)\n",
    "plt.xlim(0, 40)\n",
    "plt.ylim(0, 370)\n",
    "plt.show()"
   ]
  },
  {
   "cell_type": "code",
   "execution_count": 20,
   "metadata": {
    "scrolled": true
   },
   "outputs": [
    {
     "name": "stdout",
     "output_type": "stream",
     "text": [
      "Sample clean spam:\n",
      "\n",
      "> IN THE NAME OF YTMND!IN THE NAME OF YTMND!IN THE NAME OF YTMND!IN THE NAME OF YTMND!IN THE NAME OF YTMND!IN THE NAME OF YTMND!IN THE NAME OF YTMND!IN THE NAME OF YTMND!IN THE NAME OF YTMND!IN THE NAME OF YTMND!IN THE NAME OF YTMND!IN THE NAME OF YTMND!IN THE NAME OF YTMND!IN THE NAME OF YTMND!IN THE NAME OF YTMND!IN THE NAME OF YTMND!IN THE NAME OF YTMND!IN THE NAME OF YTMND!IN THE NAME OF YTMND!IN THE NAME OF YTMND!IN THE NAME OF YTMND!IN THE NAME OF YTMND!IN THE NAME OF YTMND!IN THE NAME OF YTMND!IN THE NAME OF YTMND!IN THE NAME OF YTMND!IN THE NAME OF YTMND!IN THE NAME OF YTMND!IN THE NAME OF YTMND!IN THE NAME OF YTMND!IN THE NAME OF YTMND!IN THE NAME OF YTMND!IN THE NAME OF YTMND!IN THE NAME OF YTMND!IN THE NAME OF YTMND!IN THE NAME OF YTMND!IN THE NAME OF YTMND!IN THE NAME OF YTMND!IN THE NAME OF YTMND!IN THE NAME OF YTMND!IN THE NAME OF YTMND!IN THE NAME OF YTMND!IN THE NAME OF YTMND!IN THE NAME OF YTMND!IN THE NAME OF YTMND!IN THE NAME OF YTMND!IN THE NAME OF YTMND!IN THE NAME OF YTMND!IN THE NAME OF YTMND!IN THE NAME OF YTMND!IN THE NAME OF YTMND!IN THE NAME OF YTMND!IN THE NAME OF YTMND!IN THE NAME OF YTMND!IN THE NAME OF YTMND!IN THE NAME OF YTMND!IN THE NAME OF YTMND!IN THE NAME OF YTMND!IN THE NAME OF YTMND!IN THE NAME OF YTMND!IN THE NAME OF YTMND!IN THE NAME OF YTMND!IN THE NAME OF YTMND!IN THE NAME OF YTMND!IN THE NAME OF YTMND!IN THE NAME OF YTMND!IN THE NAME OF YTMND!IN THE NAME OF YTMND!IN THE NAME OF YTMND!IN THE NAME OF YTMND!IN THE NAME OF YTMND!IN THE NAME OF YTMND!IN THE NAME OF YTMND!IN THE NAME OF YTMND!IN THE NAME OF YTMND!IN THE NAME OF YTMND!IN THE NAME OF YTMND!IN THE NAME OF YTMND!IN THE NAME OF YTMND!IN THE NAME OF YTMND!IN THE NAME OF YTMND!IN THE NAME OF YTMND!IN THE NAME OF YTMND!IN THE NAME OF YTMND!IN THE NAME OF YTMND!IN THE NAME OF YTMND!IN THE NAME OF YTMND!IN THE NAME OF YTMND!IN THE NAME OF YTMND!IN THE NAME OF YTMND!IN THE NAME OF YTMND!IN THE NAME OF YTMND!IN THE NAME OF YTMND!IN THE NAME OF YTMND!IN THE NAME OF YTMND!IN THE NAME OF YTMND!IN THE NAME OF YTMND!IN THE NAME OF YTMND!IN THE NAME OF YTMND!IN THE NAME OF YTMND!IN THE NAME OF YTMND!IN THE NAME OF YTMND!IN THE NAME OF YTMND!IN THE NAME OF YTMND!IN THE NAME OF YTMND!IN THE NAME OF YTMND!IN THE NAME OF YTMND!IN THE NAME OF YTMND!IN THE NAME OF YTMND!IN THE NAME OF YTMND!IN THE NAME OF YTMND!IN THE NAME OF YTMND!IN THE NAME OF YTMND!IN THE NAME OF YTMND!IN THE NAME OF YTMND!IN THE NAME OF YTMND!IN THE NAME OF YTMND!IN THE NAME OF YTMND!IN THE NAME OF YTMND!IN THE NAME OF YTMND!IN THE NAME OF YTMND!IN THE NAME OF YTMND!IN THE NAME OF YTMND!IN THE NAME OF YTMND!IN THE NAME OF YTMND!IN THE NAME OF YTMND!IN THE NAME OF YTMND!IN THE NAME OF YTMND!IN THE NAME OF YTMND!IN THE NAME OF YTMND!IN THE NAME OF YTMND!IN THE NAME OF YTMND!IN THE NAME OF YTMND!IN THE NAME OF YTMND!IN THE NAME OF YTMND!IN THE NAME OF YTMND!IN THE NAME OF YTMND!IN THE NAME OF YTMND!IN THE NAME OF YTMND!IN THE NAME OF YTMND!IN THE NAME OF YTMND!IN THE NAME OF YTMND!IN THE NAME OF YTMND!IN THE NAME OF YTMND!IN THE NAME OF YTMND!IN THE NAME OF YTMND!IN THE NAME OF YTMND!IN THE NAME OF YTMND!IN THE NAME OF YTMND!IN THE NAME OF YTMND!IN THE NAME OF YTMND!IN THE NAME OF YTMND!IN THE NAME OF YTMND!IN THE NAME OF YTMND!IN THE NAME OF YTMND!IN THE NAME OF YTMND!IN THE NAME OF YTMND!IN THE NAME OF YTMND!IN THE NAME OF YTMND!IN THE NAME OF YTMND!IN THE NAME OF YTMND!IN THE NAME OF YTMND!IN THE NAME OF YTMND!IN THE NAME OF YTMND!IN THE NAME OF YTMND!IN THE NAME OF YTMND!IN THE NAME OF YTMND!IN THE NAME OF YTMND!IN THE NAME OF YTMND!IN THE NAME OF YTMND!IN THE NAME OF YTMND!IN THE NAME OF YTMND!IN THE NAME OF YTMND!IN THE NAME OF YTMND!IN THE NAME OF YTMND!IN THE NAME OF YTMND!IN THE NAME OF YTMND!IN THE NAME OF YTMND!IN THE NAME OF YTMND!IN THE NAME OF YTMND!IN THE NAME OF YTMND!IN THE NAME OF YTMND!IN THE NAME OF YTMND!IN THE NAME OF YTMND!IN THE NAME OF YTMND!IN THE NAME OF YTMND!IN THE NAME OF YTMND!IN THE NAME OF YTMND!IN THE NAME OF YTMND!IN THE NAME OF YTMND!IN THE NAME OF YTMND!IN THE NAME OF YTMND!IN THE NAME OF YTMND!IN THE NAME OF YTMND!IN THE NAME OF YTMND!IN THE NAME OF YTMND!IN THE NAME OF YTMND!IN THE NAME OF YTMND!IN THE NAME OF YTMND!IN THE NAME OF YTMND!IN THE NAME OF YTMND!IN THE NAME OF YTMND!IN THE NAME OF YTMND!IN THE NAME OF YTMND!IN THE NAME OF YTMND!IN THE NAME OF YTMND!IN THE NAME OF YTMND!IN THE NAME OF YTMND!IN THE NAME OF YTMND!IN THE NAME OF YTMND!IN THE NAME OF YTMND!IN THE NAME OF YTMND!IN THE NAME OF YTMND!IN THE NAME OF YTMND!IN THE NAME OF YTMND!IN THE NAME OF YTMND!IN THE NAME OF YTMND!IN THE NAME OF YTMND!IN THE NAME OF YTMND!IN THE NAME OF YTMND!IN THE NAME OF YTMND!IN THE NAME OF YTMND!IN THE NAME OF YTMND!IN THE NAME OF YTMND!IN THE NAME OF YTMND!IN THE NAME OF YTMND!IN THE NAME OF YTMND!IN THE NAME OF YTMND!IN THE NAME OF YTMND!IN THE NAME OF YTMND!IN THE NAME OF YTMND!IN THE NAME OF YTMND!IN THE NAME OF YTMND!IN THE NAME OF YTMND!IN THE NAME OF YTMND!IN THE NAME OF YTMND!IN THE NAME OF YTMND!IN THE NAME OF YTMND!IN\n",
      "\n",
      " --- \n",
      "\n",
      "Sample toxic spam:\n",
      "\n",
      "> FUCK YOU U USELESS BOT FUCK YOU U USELESS BOT FUCK YOU U USELESS BOT FUCK YOU U USELESS BOT FUCK YOU U USELESS BOT FUCK YOU U USELESS BOT FUCK YOU U USELESS BOT FUCK YOU U USELESS BOT FUCK YOU U USELESS BOT FUCK YOU U USELESS BOT FUCK YOU U USELESS BOT FUCK YOU U USELESS BOT FUCK YOU U USELESS BOT FUCK YOU U USELESS BOT FUCK YOU U USELESS BOT FUCK YOU U USELESS BOT FUCK YOU U USELESS BOT FUCK YOU U USELESS BOT FUCK YOU U USELESS BOT FUCK YOU U USELESS BOT FUCK YOU U USELESS BOT FUCK YOU U USELESS BOT FUCK YOU U USELESS BOT FUCK YOU U USELESS BOT FUCK YOU U USELESS BOT FUCK YOU U USELESS BOT FUCK YOU U USELESS BOT FUCK YOU U USELESS BOT FUCK YOU U USELESS BOT FUCK YOU U USELESS BOT FUCK YOU U USELESS BOT FUCK YOU U USELESS BOT FUCK YOU U USELESS BOT FUCK YOU U USELESS BOT FUCK YOU U USELESS BOT FUCK YOU U USELESS BOT FUCK YOU U USELESS BOT FUCK YOU U USELESS BOT FUCK YOU U USELESS BOT FUCK YOU U USELESS BOT FUCK YOU U USELESS BOT FUCK YOU U USELESS BOT FUCK YOU U USELESS BOT FUCK YOU U USELESS BOT FUCK YOU U USELESS BOT FUCK YOU U USELESS BOT FUCK YOU U USELESS BOT FUCK YOU U USELESS BOT FUCK YOU U USELESS BOT FUCK YOU U USELESS BOT FUCK YOU U USELESS BOT FUCK YOU U USELESS BOT FUCK YOU U USELESS BOT FUCK YOU U USELESS BOT FUCK YOU U USELESS BOT FUCK YOU U USELESS BOT FUCK YOU U USELESS BOT FUCK YOU U USELESS BOT FUCK YOU U USELESS BOT FUCK YOU U USELESS BOT FUCK YOU U USELESS BOT FUCK YOU U USELESS BOT FUCK YOU U USELESS BOT FUCK YOU U USELESS BOT FUCK YOU U USELESS BOT FUCK YOU U USELESS BOT FUCK YOU U USELESS BOT FUCK YOU U USELESS BOT FUCK YOU U USELESS BOT FUCK YOU U USELESS BOT FUCK YOU U USELESS BOT FUCK YOU U USELESS BOT FUCK YOU U USELESS BOT FUCK YOU U USELESS BOT FUCK YOU U USELESS BOT FUCK YOU U USELESS BOT FUCK YOU U USELESS BOT FUCK YOU U USELESS BOT FUCK YOU U USELESS BOT FUCK YOU U USELESS BOT FUCK YOU U USELESS BOT FUCK YOU U USELESS BOT FUCK YOU U USELESS BOT FUCK YOU U USELESS BOT FUCK YOU U USELESS BOT FUCK YOU U USELESS BOT FUCK YOU U USELESS BOT FUCK YOU U USELESS BOT FUCK YOU U USELESS BOT FUCK YOU U USELESS BOT FUCK YOU U USELESS BOT FUCK YOU U USELESS BOT FUCK YOU U USELESS BOT FUCK YOU U USELESS BOT FUCK YOU U USELESS BOT FUCK YOU U USELESS BOT FUCK YOU U USELESS BOT FUCK YOU U USELESS BOT FUCK YOU U USELESS BOT FUCK YOU U USELESS BOT FUCK YOU U USELESS BOT FUCK YOU U USELESS BOT FUCK YOU U USELESS BOT FUCK YOU U USELESS BOT FUCK YOU U USELESS BOT FUCK YOU U USELESS BOT FUCK YOU U USELESS BOT FUCK YOU U USELESS BOT FUCK YOU U USELESS BOT FUCK YOU U USELESS BOT FUCK YOU U USELESS BOT FUCK YOU U USELESS BOT FUCK YOU U USELESS BOT FUCK YOU U USELESS BOT FUCK YOU U USELESS BOT FUCK YOU U USELESS BOT FUCK YOU U USELESS BOT FUCK YOU U USELESS BOT FUCK YOU U USELESS BOT FUCK YOU U USELESS BOT FUCK YOU U USELESS BOT FUCK YOU U USELESS BOT FUCK YOU U USELESS BOT FUCK YOU U USELESS BOT FUCK YOU U USELESS BOT FUCK YOU U USELESS BOT FUCK YOU U USELESS BOT FUCK YOU U USELESS BOT FUCK YOU U USELESS BOT FUCK YOU U USELESS BOT FUCK YOU U USELESS BOT FUCK YOU U USELESS BOT FUCK YOU U USELESS BOT FUCK YOU U USELESS BOT FUCK YOU U USELESS BOT FUCK YOU U USELESS BOT FUCK YOU U USELESS BOT FUCK YOU U USELESS BOT FUCK YOU U USELESS BOT FUCK YOU U USELESS BOT FUCK YOU U USELESS BOT FUCK YOU U USELESS BOT FUCK YOU U USELESS BOT FUCK YOU U USELESS BOT FUCK YOU U USELESS BOT FUCK YOU U USELESS BOT FUCK YOU U USELESS BOT FUCK YOU U USELESS BOT FUCK YOU U USELESS BOT FUCK YOU U USELESS BOT FUCK YOU U USELESS BOT FUCK YOU U USELESS BOT FUCK YOU U USELESS BOT FUCK YOU U USELESS BOT FUCK YOU U USELESS BOT FUCK YOU U USELESS BOT FUCK YOU U USELESS BOT FUCK YOU U USELESS BOT FUCK YOU U USELESS BOT FUCK YOU U USELESS BOT FUCK YOU U USELESS BOT FUCK YOU U USELESS BOT FUCK YOU U USELESS BOT FUCK YOU U USELESS BOT FUCK YOU U USELESS BOT FUCK YOU U USELESS BOT FUCK YOU U USELESS BOT FUCK YOU U USELESS BOT FUCK YOU U USELESS BOT FUCK YOU U USELESS BOT FUCK YOU U USELESS BOT FUCK YOU U USELESS BOT FUCK YOU U USELESS BOT FUCK YOU U USELESS BOT FUCK YOU U USELESS BOT FUCK YOU U USELESS BOT FUCK YOU U USELESS BOT FUCK YOU U USELESS BOT FUCK YOU U USELESS BOT FUCK YOU U USELESS BOT FUCK YOU U USELESS BOT FUCK YOU U USELESS BOT FUCK YOU U USELESS BOT FUCK YOU U USELESS BOT FUCK YOU U USELESS BOT FUCK YOU U USELESS BOT FUCK YOU U USELESS BOT FUCK YOU U USELESS BOT FUCK YOU U USELESS BOT FUCK YOU U USELESS BOT FUCK YOU U USELESS BOT FUCK YOU U USELESS BOT FUCK YOU U USELESS BOT FUCK YOU U USELESS BOT FUCK YOU U USELESS BOT FUCK YOU U USELESS BOT FUCK YOU U USELESS BOT FUCK YOU U USELESS BOT FUCK YOU U USELESS BOT FUCK YOU U USELESS BOT FUCK YOU U USELESS BOT FUCK YOU U USELESS BOT FUCK YOU U USELESS BOT FUCK YOU U USELESS BOT FUCK YOU U USELESS BOT FUCK YOU U USELESS BOT FUCK YOU U USELESS BOT FUCK YOU U USELESS BOT FUCK YOU U USELESS BOT FUCK YOU U USELESS BOT FUCK YOU U USELESS BOT FUCK YOU U USELESS BOT FUCK YOU U USELESS BOT FUCK YOU U USELESS BOT FUCK YOU U USELESS BOT FUCK YOU U USELESS BOT FUCK YOU U USELESS BOT FUCK YOU\n"
     ]
    }
   ],
   "source": [
    "spam_min_index = min(n_clean_spammers, n_toxic_spammers) - 1\n",
    "print(\"Sample clean spam:\\n\\n>\", clean_spammers.iloc[randint(0, spam_min_index)].comment_text)\n",
    "print(\"\\n --- \\n\\nSample toxic spam:\\n\\n>\", toxic_spammers.iloc[randint(0, spam_min_index)].comment_text)"
   ]
  },
  {
   "cell_type": "markdown",
   "metadata": {},
   "source": [
    "##### Create synthetic training data using a Markov chain generator"
   ]
  },
  {
   "cell_type": "code",
   "execution_count": 21,
   "metadata": {},
   "outputs": [],
   "source": [
    "classes_names = train.columns.values[2:]\n",
    "labels_train = train[classes_names].values\n",
    "comments_train = train[\"comment_text\"]"
   ]
  },
  {
   "cell_type": "code",
   "execution_count": 22,
   "metadata": {},
   "outputs": [],
   "source": [
    "# One-hot vectors for each class\n",
    "targets = np.array(np.arange(6)).reshape(-1)\n",
    "one_hot_targets = np.eye(len(classes_names))[targets]\n",
    "one_hot_targets_assigned = {}\n",
    "for label in range(len(classes_names)):\n",
    "    one_hot_targets_assigned[classes_names[label]] = one_hot_targets[label]"
   ]
  },
  {
   "cell_type": "code",
   "execution_count": 23,
   "metadata": {},
   "outputs": [],
   "source": [
    "# Define analyzed set of classes and acceptable imbalance\n",
    "include_clean_class = True\n",
    "acceptable_imbalance_factor = .1\n",
    "\n",
    "if include_clean_class:\n",
    "    analyzed_classes = summed_labels_extended_train\n",
    "else:\n",
    "    analyzed_classes = summed_labels_extended_train[0:6]"
   ]
  },
  {
   "cell_type": "code",
   "execution_count": 24,
   "metadata": {},
   "outputs": [],
   "source": [
    "# Evaluate only negative classes\n",
    "max_n_samples = max(analyzed_classes)\n",
    "n_samples_deficiency_factor = max_n_samples * acceptable_imbalance_factor\n",
    "\n",
    "def get_deficient_classes(labels):\n",
    "    deficient_classes = []\n",
    "    for label in labels:\n",
    "        n_samples_in_class = train[train[label] == True].shape[0]\n",
    "        if (n_samples_in_class < n_samples_deficiency_factor): \n",
    "            deficient_classes.append(label)\n",
    "    print('Qualified classes: %s' % deficient_classes)\n",
    "    print('---')\n",
    "    return deficient_classes\n",
    "\n",
    "def get_params_for_markov_generator(labels):\n",
    "    markov_params = {}\n",
    "    for label in labels:\n",
    "        label_params = {}\n",
    "        imbalance_ratios_class_names\n",
    "        label_comments = train[train[label] == True]['comment_text'].reset_index(drop=True)\n",
    "        label_comments_bundle = label_comments.tolist()\n",
    "        label_median_n_chars = int(label_comments.str.len().median())\n",
    "        label_params['median_n_chars'] = label_median_n_chars\n",
    "        print('Training Markov chain for class \\'%s\\'...' % label)\n",
    "        label_params['markov_chain'] = mk.Text(label_comments_bundle)\n",
    "        markov_params[label] = label_params\n",
    "    print('---')\n",
    "    return markov_params\n",
    "\n",
    "def generate_synthetic_comments(params_for_markov_generator):\n",
    "    synthetic_comments = {}\n",
    "    for label in params_for_markov_generator:\n",
    "        label_synthetic_comments = []\n",
    "        label_model = params_for_markov_generator[label]['markov_chain']\n",
    "        label_comment_length = params_for_markov_generator[label]['median_n_chars']\n",
    "        label_n_comments = (max_n_samples * acceptable_imbalance_factor) - summed_labels_extended_train[label]\n",
    "        print('Genereting %d synthetic comments of max. lenght %d for class \\'%s\\'...' % \n",
    "              (label_n_comments, label_comment_length, label))\n",
    "        for i in range(int(label_n_comments)):\n",
    "            label_synthetic_comments.append(label_model.make_short_sentence(label_comment_length))\n",
    "        synthetic_comments[label] = label_synthetic_comments\n",
    "    return synthetic_comments\n",
    "\n",
    "def add_synthetic_comments_to_train(synthetic_comments):\n",
    "    comments_train_list = comments_train.tolist()\n",
    "    added_comments_sum = 0\n",
    "    for label in synthetic_comments:\n",
    "        comments_train_list = comments_train_list + synthetic_comments[label]\n",
    "        added_comments_sum = added_comments_sum + len(synthetic_comments[label])\n",
    "    # Transform back to Pandas object\n",
    "    extended_comments_train = pd.Series(comments_train_list, name='comment_text')\n",
    "    print('Data consistent after merging :', \n",
    "          validate_original_and_extended_sets(comments_train, extended_comments_train, added_comments_sum))\n",
    "    return extended_comments_train\n",
    "    \n",
    "def validate_original_and_extended_sets(original_set, extended_set, added_comments_sum):\n",
    "    old_n_samples = original_set.shape[0]\n",
    "    shape_validation = old_n_samples + added_comments_sum == extended_set.shape[0]\n",
    "    type_validation = type(original_set) == type(extended_set)\n",
    "    random_index = randint(0, old_n_samples)\n",
    "    random_comment_new_set = extended_set[random_index]\n",
    "    random_comment_old_set = original_set[random_index]\n",
    "    content_validation = random_comment_new_set == random_comment_old_set\n",
    "    return shape_validation and type_validation and content_validation\n",
    "    \n",
    "def add_labels_of_synthetic_comments_to_train(synthetic_comments):\n",
    "    list_label_matrices = []\n",
    "    added_vectors_sum = 0\n",
    "    # Collect all matrices into list\n",
    "    for label in synthetic_comments:\n",
    "        label_matrix = create_multipled_matrix(label)\n",
    "        list_label_matrices.append(label_matrix)\n",
    "        added_vectors_sum = added_vectors_sum + len(label_matrix)\n",
    "    stacked_matrix_labels = concatenate_matrices(list_label_matrices)\n",
    "    extended_labels_train = np.append(labels_train, stacked_matrix_labels, axis=0)\n",
    "    print('Labels consistent after merging :', \n",
    "          validate_original_and_extended_labels(labels_train, extended_labels_train, added_vectors_sum))\n",
    "    return extended_labels_train\n",
    "        \n",
    "def create_multipled_matrix(label):\n",
    "    label_matrix = []\n",
    "    for comment in range(len(synthetic_comments[label])):\n",
    "        label_matrix.append(one_hot_targets_assigned[label])\n",
    "    label_n_synthetic_comments = len(synthetic_comments[label])\n",
    "    label_n_new_labels = len(label_matrix)\n",
    "    assert label_n_synthetic_comments == label_n_new_labels\n",
    "    return label_matrix\n",
    "\n",
    "def concatenate_matrices(list_label_matrices):\n",
    "    assert len(list_label_matrices) > 0\n",
    "    stacked_matrix_labels = list_label_matrices[0]\n",
    "    if (len(list_label_matrices) > 1):\n",
    "        for i in np.arange(1, (len(list_label_matrices))):\n",
    "            stacked_matrix_labels = np.concatenate((stacked_matrix_labels, list_label_matrices[i]))\n",
    "    return stacked_matrix_labels\n",
    "    \n",
    "def validate_original_and_extended_labels(original_labels, extended_labels, added_vectors_sum):\n",
    "    old_n_vectors = len(original_labels)\n",
    "    length_validation = old_n_vectors + added_vectors_sum == len(extended_labels)\n",
    "    random_index = randint(0, old_n_vectors)\n",
    "    random_vector_new_labels = extended_labels[random_index]\n",
    "    random_vector_old_labels = original_labels[random_index]\n",
    "    content_validation = random_vector_new_labels == random_vector_old_labels\n",
    "    if False in content_validation:\n",
    "        content_validation_final = False\n",
    "    else:\n",
    "        content_validation_final = True\n",
    "    return length_validation and content_validation_final"
   ]
  },
  {
   "cell_type": "code",
   "execution_count": 25,
   "metadata": {},
   "outputs": [
    {
     "name": "stdout",
     "output_type": "stream",
     "text": [
      "Qualified classes: ['severe_toxic', 'threat', 'identity_hate']\n",
      "---\n",
      "Training Markov chain for class 'severe_toxic'...\n",
      "Training Markov chain for class 'threat'...\n",
      "Training Markov chain for class 'identity_hate'...\n",
      "---\n",
      "Genereting 2993 synthetic comments of max. lenght 94 for class 'severe_toxic'...\n",
      "Genereting 4110 synthetic comments of max. lenght 121 for class 'threat'...\n",
      "Genereting 3183 synthetic comments of max. lenght 114 for class 'identity_hate'...\n"
     ]
    }
   ],
   "source": [
    "deficient_classes = get_deficient_classes(classes_names)\n",
    "params_for_markov_generator = get_params_for_markov_generator(deficient_classes)\n",
    "synthetic_comments = generate_synthetic_comments(params_for_markov_generator)"
   ]
  },
  {
   "cell_type": "code",
   "execution_count": 32,
   "metadata": {},
   "outputs": [
    {
     "name": "stdout",
     "output_type": "stream",
     "text": [
      "Sample synthetic comment of 'severe_toxic' class\n",
      "\n",
      "> hello will you suck donkey balls fag \n",
      "\n",
      "Sample synthetic comment of 'threat' class\n",
      "\n",
      "> DUST FILTER AND CALTLAS, IF YOU CONTINUE TO RVV IT, I WILL BLOCK YOU! \n",
      "\n",
      "Sample synthetic comment of 'identity_hate' class\n",
      "\n",
      "> Anyway, time to whip to a type of list that does not need one, just like Joakim Noah. \n",
      "\n"
     ]
    }
   ],
   "source": [
    "for label in deficient_classes:\n",
    "    print('Sample synthetic comment of \\'%s\\' class\\n' % label)\n",
    "    print('> %s \\n' % synthetic_comments[label][randint(0, len(synthetic_comments[label]))])"
   ]
  },
  {
   "cell_type": "code",
   "execution_count": 27,
   "metadata": {},
   "outputs": [
    {
     "name": "stdout",
     "output_type": "stream",
     "text": [
      "Data consistent after merging : True\n",
      "Labels consistent after merging : True\n"
     ]
    }
   ],
   "source": [
    "extended_comments_train = add_synthetic_comments_to_train(synthetic_comments)\n",
    "extended_labels_train = add_labels_of_synthetic_comments_to_train(synthetic_comments)"
   ]
  },
  {
   "cell_type": "code",
   "execution_count": 28,
   "metadata": {
    "scrolled": true
   },
   "outputs": [
    {
     "name": "stdout",
     "output_type": "stream",
     "text": [
      "Found 0 invalid comment(s)\n",
      "---\n",
      "Labels and comments consistent: True \n"
     ]
    }
   ],
   "source": [
    "# Check for nulls in generated comments\n",
    "null_indexes = extended_comments_train[extended_comments_train.isnull()].index.tolist()\n",
    "print('Found %d invalid comment(s)' % len(null_indexes))\n",
    "if len(null_indexes) > 0:\n",
    "    for index in null_indexes:\n",
    "        extended_comments_train = extended_comments_train.drop(index).reset_index(drop=True)\n",
    "    extended_labels_train = np.delete(extended_labels_train, null_indexes, axis=0)\n",
    "    print('Incorrect data on following indexes was deleted: \\n%s' % null_indexes)\n",
    "print('---')\n",
    "    \n",
    "# final validation    \n",
    "overall_consistency = extended_comments_train.shape[0] == len(extended_labels_train)\n",
    "print('Labels and comments consistent: %s ' % overall_consistency)"
   ]
  },
  {
   "cell_type": "markdown",
   "metadata": {},
   "source": [
    "##### Plot differences in state of training dataset after oversampling"
   ]
  },
  {
   "cell_type": "code",
   "execution_count": 29,
   "metadata": {
    "scrolled": false
   },
   "outputs": [],
   "source": [
    "oversampled_summed_label = pd.DataFrame(extended_labels_train).sum()\n",
    "oversampled_summed_label.index = classes_names\n",
    "original_summed_labels = analyzed_classes\n",
    "\n",
    "data = pd.DataFrame(pd.concat([oversampled_summed_label, original_summed_labels], axis=1).reset_index())\n",
    "\n",
    "data_for_barplot = pd.melt(data, id_vars='index', var_name='State of dataset', value_name='Number of samples')\n",
    "data_for_barplot = data_for_barplot.rename(index=str, columns={'index': 'Class'})\n",
    "data_for_barplot['State of dataset'] = data_for_barplot['State of dataset'].map({1: 'Before', 0: 'After'})"
   ]
  },
  {
   "cell_type": "code",
   "execution_count": 30,
   "metadata": {},
   "outputs": [
    {
     "data": {
      "text/plain": [
       "Text(2,4788.2,'Required amount after oversamping')"
      ]
     },
     "execution_count": 30,
     "metadata": {},
     "output_type": "execute_result"
    },
    {
     "data": {
      "image/png": "[encoded data removed]",
      "text/plain": [
       "<Figure size 735.875x432 with 1 Axes>"
      ]
     },
     "metadata": {
      "needs_background": "dark"
     },
     "output_type": "display_data"
    }
   ],
   "source": [
    "fg = sns.catplot(x='Class', \n",
    "            y='Number of samples', \n",
    "            hue='State of dataset', \n",
    "            data=data_for_barplot, \n",
    "            kind='bar', \n",
    "            palette=\"Blues_d\", \n",
    "            height=6, aspect=1.5)\n",
    "\n",
    "axes = fg.axes.flatten()\n",
    "\n",
    "axes[0].set_title('Number of samples per class before and after resampling')\n",
    "axes[0].axhline(n_samples_deficiency_factor, ls='--', color='LightSalmon')\n",
    "axes[0].text(2, n_samples_deficiency_factor + 200, \n",
    "             'Required amount after oversamping', color='LightSalmon', fontsize=12)"
   ]
  },
  {
   "cell_type": "markdown",
   "metadata": {},
   "source": [
    "### Prepare data for model training"
   ]
  },
  {
   "cell_type": "markdown",
   "metadata": {},
   "source": [
    "#####  Custom Tokenizer"
   ]
  },
  {
   "cell_type": "code",
   "execution_count": 36,
   "metadata": {},
   "outputs": [
    {
     "name": "stdout",
     "output_type": "stream",
     "text": [
      "Found 210337 unique words.\n"
     ]
    }
   ],
   "source": [
    "num_words = 25000\n",
    "tokenizer = Tokenizer(num_words=num_words)\n",
    "tokenizer.fit_on_texts(list(comments_train))\n",
    "print('Found %d unique words.' % len(tokenizer.word_index))"
   ]
  },
  {
   "cell_type": "code",
   "execution_count": 37,
   "metadata": {},
   "outputs": [
    {
     "data": {
      "text/plain": [
       "{'the': 1,\n",
       " 'to': 2,\n",
       " 'of': 3,\n",
       " 'and': 4,\n",
       " 'a': 5,\n",
       " 'you': 6,\n",
       " 'i': 7,\n",
       " 'is': 8,\n",
       " 'that': 9,\n",
       " 'in': 10,\n",
       " 'it': 11,\n",
       " 'for': 12,\n",
       " 'this': 13,\n",
       " 'not': 14,\n",
       " 'on': 15,\n",
       " 'be': 16,\n",
       " 'as': 17,\n",
       " 'have': 18,\n",
       " 'are': 19,\n",
       " 'your': 20}"
      ]
     },
     "execution_count": 37,
     "metadata": {},
     "output_type": "execute_result"
    }
   ],
   "source": [
    "# Check first 20 unique words with the highest occurance from our dictonary\n",
    "dict(list(tokenizer.word_index.items())[0:20])"
   ]
  },
  {
   "cell_type": "markdown",
   "metadata": {},
   "source": [
    "##### Pre-trained GloVe model"
   ]
  },
  {
   "cell_type": "code",
   "execution_count": 38,
   "metadata": {},
   "outputs": [
    {
     "name": "stdout",
     "output_type": "stream",
     "text": [
      "Found 400000 word vectors.\n"
     ]
    }
   ],
   "source": [
    "glove_model = f'{PRETRAINED_PATH}glove.6B.100d.txt'\n",
    "\n",
    "embeddings_index = {}\n",
    "f = open(glove_model, encoding='utf8')\n",
    "for line in f:\n",
    "    values = line.split()\n",
    "    word = values[0]\n",
    "    coefs = np.asarray(values[1:], dtype='float32')\n",
    "    embeddings_index[word] = coefs\n",
    "f.close()\n",
    "print('Found %s word vectors.' % len(embeddings_index))"
   ]
  },
  {
   "cell_type": "code",
   "execution_count": 39,
   "metadata": {},
   "outputs": [],
   "source": [
    "# Prepare embedding matrix\n",
    "custom_word_index = tokenizer.word_index\n",
    "embedding_output_dim = 100\n",
    "\n",
    "resultant_num_words = min(num_words, len(custom_word_index)) + 1\n",
    "embedding_matrix = np.zeros((resultant_num_words, embedding_output_dim))\n",
    "\n",
    "for word, i in custom_word_index.items():\n",
    "    if i > num_words:\n",
    "        continue\n",
    "    embedding_vector = embeddings_index.get(word)\n",
    "    if embedding_vector is not None:\n",
    "        # words not found in embedding index will be all-zeros\n",
    "        embedding_matrix[i] = embedding_vector"
   ]
  },
  {
   "cell_type": "markdown",
   "metadata": {},
   "source": [
    "#####  Comments tokenizing"
   ]
  },
  {
   "cell_type": "code",
   "execution_count": 40,
   "metadata": {},
   "outputs": [],
   "source": [
    "comments_test = test['comment_text']\n",
    "\n",
    "tokenized_sequences_train = tokenizer.texts_to_sequences(extended_comments_train)\n",
    "tokenized_sequences_test = tokenizer.texts_to_sequences(comments_test)"
   ]
  },
  {
   "cell_type": "code",
   "execution_count": 41,
   "metadata": {},
   "outputs": [
    {
     "data": {
      "image/png": "[encoded data removed]",
      "text/plain": [
       "<Figure size 720x360 with 1 Axes>"
      ]
     },
     "metadata": {
      "needs_background": "dark"
     },
     "output_type": "display_data"
    }
   ],
   "source": [
    "# Analysis of lengths of comments (maxlen param)\n",
    "n_words_comments = [len(comment) for comment in tokenized_sequences_train]\n",
    "plt.hist(n_words_comments, bins=np.arange(0,300,5))\n",
    "plt.show()"
   ]
  },
  {
   "cell_type": "markdown",
   "metadata": {},
   "source": [
    "##### Vector padding"
   ]
  },
  {
   "cell_type": "code",
   "execution_count": 42,
   "metadata": {},
   "outputs": [
    {
     "name": "stdout",
     "output_type": "stream",
     "text": [
      "Before padding: ( 8 elements )\n",
      " [1873, 147, 6, 3476, 324, 15, 29, 141]\n",
      "\n",
      "After padding: ( 180 elements )\n",
      " [   0    0    0    0    0    0    0    0    0    0    0    0    0    0\n",
      "    0    0    0    0    0    0    0    0    0    0    0    0    0    0\n",
      "    0    0    0    0    0    0    0    0    0    0    0    0    0    0\n",
      "    0    0    0    0    0    0    0    0    0    0    0    0    0    0\n",
      "    0    0    0    0    0    0    0    0    0    0    0    0    0    0\n",
      "    0    0    0    0    0    0    0    0    0    0    0    0    0    0\n",
      "    0    0    0    0    0    0    0    0    0    0    0    0    0    0\n",
      "    0    0    0    0    0    0    0    0    0    0    0    0    0    0\n",
      "    0    0    0    0    0    0    0    0    0    0    0    0    0    0\n",
      "    0    0    0    0    0    0    0    0    0    0    0    0    0    0\n",
      "    0    0    0    0    0    0    0    0    0    0    0    0    0    0\n",
      "    0    0    0    0    0    0    0    0    0    0    0    0    0    0\n",
      "    0    0    0    0 1873  147    6 3476  324   15   29  141]\n"
     ]
    }
   ],
   "source": [
    "maxlen = 180\n",
    "fixed_sequences_train = pad_sequences(tokenized_sequences_train, maxlen=maxlen)\n",
    "fixed_sequences_test = pad_sequences(tokenized_sequences_test, maxlen=maxlen)\n",
    "\n",
    "print('Before padding: (', len(tokenized_sequences_train[6]) ,'elements )\\n', tokenized_sequences_train[6])\n",
    "print('\\nAfter padding: (', len(fixed_sequences_train[6]) ,'elements )\\n', fixed_sequences_train[6])"
   ]
  },
  {
   "cell_type": "markdown",
   "metadata": {},
   "source": [
    "##### <font color=\"red\">!</font> Oversampling"
   ]
  },
  {
   "cell_type": "raw",
   "metadata": {},
   "source": [
    "# One column in y_train is cut\n",
    "\n",
    "from imblearn.over_sampling import SMOTE, RandomOverSampler, ADASYN\n",
    "\n",
    "X_train = fixed_sequences_train\n",
    "y_train = labels_train\n",
    "\n",
    "adasyn = ADASYN(random_state=42)\n",
    "smote = SMOTE(random_state=42)\n",
    "ros = RandomOverSampler(random_state=0)\n",
    "\n",
    "X_resampled, y_resampled = smote.fit_sample(X_train, y_train)\n",
    "print(X_train.shape, y_train.shape)\n",
    "print(X_resampled.shape, y_resampled.shape)"
   ]
  },
  {
   "cell_type": "raw",
   "metadata": {},
   "source": [
    "# 'KerasClassifier' object has no attribute 'fit_generator'\n",
    "\n",
    "from imblearn.keras import BalancedBatchGenerator\n",
    "\n",
    "training_generator = BalancedBatchGenerator(\n",
    "    X_train, y_train, sampler=RandomOverSampler(), batch_size=10, random_state=42)\n",
    "callback_history = model.fit_generator(generator=training_generator, epochs=10, verbose=0)"
   ]
  },
  {
   "cell_type": "markdown",
   "metadata": {},
   "source": [
    "### Building the model"
   ]
  },
  {
   "cell_type": "code",
   "execution_count": 37,
   "metadata": {},
   "outputs": [],
   "source": [
    "# Params for model training\n",
    "batch_size = 64\n",
    "epochs = 2\n",
    "n_classes = len(classes_names)"
   ]
  },
  {
   "cell_type": "markdown",
   "metadata": {},
   "source": [
    "##### Tuning params with Grid Search"
   ]
  },
  {
   "cell_type": "code",
   "execution_count": 38,
   "metadata": {},
   "outputs": [],
   "source": [
    "def create_model(lstm_units = 100, \n",
    "                 lstm_recurrent_dropout = 0.2, \n",
    "                 lstm_return_sequences = True, \n",
    "                 dropout_rate = 0.2, \n",
    "                 relu_dense_units = 50, \n",
    "                 optimizer = 'adam'):\n",
    "    model = Sequential()\n",
    "    model.add(Embedding(input_dim=num_words, output_dim=embedding_output_dim))\n",
    "    ''''model.add(Embedding(input_dim=resultant_num_words,\n",
    "                        output_dim=embedding_output_dim,\n",
    "                        embeddings_initializer=Constant(embedding_matrix),\n",
    "                        input_length=maxlen,\n",
    "                        trainable=False))'''\n",
    "    model.add(LSTM(units=lstm_units, \n",
    "                   return_sequences=lstm_return_sequences, \n",
    "                   recurrent_dropout=lstm_recurrent_dropout))\n",
    "    model.add(GlobalMaxPool1D())\n",
    "    model.add(Dropout(rate=dropout_rate))\n",
    "    model.add(Dense(units=relu_dense_units, activation='relu'))\n",
    "    model.add(Dense(n_classes, activation='sigmoid'))\n",
    "    \n",
    "    model.compile(loss='binary_crossentropy',\n",
    "                  optimizer=optimizer,\n",
    "                  metrics=['accuracy'])\n",
    "    return model"
   ]
  },
  {
   "cell_type": "code",
   "execution_count": 39,
   "metadata": {},
   "outputs": [],
   "source": [
    "param_grid = {\n",
    "    'lstm_units': [100],\n",
    "    'dropout_rate': [0.2],\n",
    "    'optimizer': ['adam'],\n",
    "    'relu_dense_units': [50],\n",
    "    'lstm_recurrent_dropout': [0.2],\n",
    "    'lstm_return_sequences': [True]\n",
    "}"
   ]
  },
  {
   "cell_type": "code",
   "execution_count": 40,
   "metadata": {},
   "outputs": [],
   "source": [
    "# Define callbacks\n",
    "name_checkpoint_file = 'checkpoint.weights.hdf5'\n",
    "checkpoint = ModelCheckpoint(filepath=f'{MODEL_PATH}{name_checkpoint_file}',\n",
    "                             monitor='val_loss',\n",
    "                             mode='min',\n",
    "                             verbose=2,\n",
    "                             save_best_only=True)\n",
    "early_stopping = EarlyStopping(monitor='val_loss', mode=\"min\", patience=0)\n",
    "\n",
    "callbacks_list = [checkpoint, early_stopping]"
   ]
  },
  {
   "cell_type": "code",
   "execution_count": 41,
   "metadata": {},
   "outputs": [],
   "source": [
    "model = KerasClassifier(build_fn=create_model, \n",
    "                        epochs=epochs, \n",
    "                        batch_size=batch_size, \n",
    "                        validation_split=0.1,\n",
    "                        verbose=2)\n",
    "\n",
    "grid = GridSearchCV(estimator=model, param_grid=param_grid, cv=3, n_jobs=-1)"
   ]
  },
  {
   "cell_type": "markdown",
   "metadata": {},
   "source": [
    "### Model training"
   ]
  },
  {
   "cell_type": "raw",
   "metadata": {},
   "source": [
    "X_train = fixed_sequences_train\n",
    "y_train = extended_labels_train\n",
    "\n",
    "grid_result = grid.fit(X_train, \n",
    "                       y_train, \n",
    "                       #class_weight=imbalance_ratios_class_nums, \n",
    "                       callbacks=callbacks_list, \n",
    "                       verbose=2)"
   ]
  },
  {
   "cell_type": "raw",
   "metadata": {},
   "source": [
    "print(\"Best params:\\n %s (score: %f)\" % (grid_result.best_params_, grid_result.best_score_))"
   ]
  },
  {
   "cell_type": "raw",
   "metadata": {},
   "source": [
    "params = grid_result.cv_results_['params']\n",
    "means = grid_result.cv_results_['mean_test_score']\n",
    "stds = grid_result.cv_results_['std_test_score']\n",
    "print('All results:')\n",
    "for param, mean, std in zip(params, means, stds):\n",
    "    print('\\nSet of params:\\n %r\\n Mean: (%f); Standard deviation: %f' % (param, mean, std))"
   ]
  },
  {
   "cell_type": "markdown",
   "metadata": {},
   "source": [
    "##### Save and load model"
   ]
  },
  {
   "cell_type": "code",
   "execution_count": 42,
   "metadata": {},
   "outputs": [],
   "source": [
    "name_model_file = 'oversampled-minor-classes-custom-emb.model.json'\n",
    "name_weights_file = 'oversampled-minor-classes-custom-emb.weights.h5'\n",
    "\n",
    "def save_model_to_JSON(model):\n",
    "    model_json = model.to_json()\n",
    "    with open(f'{MODEL_PATH}{name_model_file}', 'w') as json_file:\n",
    "        json_file.write(model_json)\n",
    "    print('Saved model to disk')\n",
    "        \n",
    "def save_weights_to_HDF5(model):\n",
    "    model.save_weights(f'{MODEL_PATH}{name_weights_file}')\n",
    "    print('Saved weights to disk')\n",
    "\n",
    "def load_json_wih_weights_to_model(name_model_file, name_weights_file):\n",
    "    json_file = open(f'{MODEL_PATH}{name_model_file}', 'r')\n",
    "    loaded_model_json = json_file.read()\n",
    "    json_file.close()\n",
    "    loaded_model = model_from_json(loaded_model_json)\n",
    "    loaded_model.load_weights(f'{MODEL_PATH}{name_weights_file}')\n",
    "    print('Loaded model with weights from disk')\n",
    "    return loaded_model"
   ]
  },
  {
   "cell_type": "raw",
   "metadata": {},
   "source": [
    "# Save model\n",
    "best_model = grid_result.best_estimator_.model\n",
    "save_model_to_JSON(best_model)\n",
    "save_weights_to_HDF5(best_model)"
   ]
  },
  {
   "cell_type": "code",
   "execution_count": 43,
   "metadata": {
    "scrolled": true
   },
   "outputs": [
    {
     "name": "stdout",
     "output_type": "stream",
     "text": [
      "Loaded model with weights from disk\n",
      "_________________________________________________________________\n",
      "Layer (type)                 Output Shape              Param #   \n",
      "=================================================================\n",
      "embedding_1 (Embedding)      (None, None, 100)         2500000   \n",
      "_________________________________________________________________\n",
      "lstm_1 (LSTM)                (None, None, 100)         80400     \n",
      "_________________________________________________________________\n",
      "global_max_pooling1d_1 (Glob (None, 100)               0         \n",
      "_________________________________________________________________\n",
      "dropout_1 (Dropout)          (None, 100)               0         \n",
      "_________________________________________________________________\n",
      "dense_1 (Dense)              (None, 50)                5050      \n",
      "_________________________________________________________________\n",
      "dense_2 (Dense)              (None, 6)                 306       \n",
      "=================================================================\n",
      "Total params: 2,585,756\n",
      "Trainable params: 2,585,756\n",
      "Non-trainable params: 0\n",
      "_________________________________________________________________\n"
     ]
    }
   ],
   "source": [
    "# Load model\n",
    "loaded_model = load_json_wih_weights_to_model(name_model_file, name_weights_file)\n",
    "loaded_model.summary()"
   ]
  },
  {
   "cell_type": "markdown",
   "metadata": {},
   "source": [
    "##### Predicting on test dataset"
   ]
  },
  {
   "cell_type": "code",
   "execution_count": 44,
   "metadata": {},
   "outputs": [],
   "source": [
    "def drop_entries_with_invalid_labels(test, test_labels):\n",
    "    indexes_invalid_labels = test_labels.index[test_labels['toxic'] == -1].tolist()\n",
    "    valid_test_labels = test_labels.drop(test_labels.index[indexes_invalid_labels])\n",
    "    valid_test = np.delete(test, indexes_invalid_labels, axis=0)\n",
    "    assert (valid_test_labels.shape[0] == len(valid_test))\n",
    "    return valid_test, valid_test_labels"
   ]
  },
  {
   "cell_type": "code",
   "execution_count": 45,
   "metadata": {},
   "outputs": [],
   "source": [
    "test_labels_without_ids = test_labels.iloc[:,1:]\n",
    "X_test, y_test_df = drop_entries_with_invalid_labels(fixed_sequences_test, test_labels_without_ids)\n",
    "\n",
    "y_pred_float = loaded_model.predict([X_test], batch_size=1024)\n",
    "y_pred = (y_pred_float > .5)\n",
    "y_test = y_test_df.values"
   ]
  },
  {
   "cell_type": "markdown",
   "metadata": {},
   "source": [
    "##### Use metrics for imbalanced learning"
   ]
  },
  {
   "cell_type": "code",
   "execution_count": 46,
   "metadata": {},
   "outputs": [
    {
     "name": "stderr",
     "output_type": "stream",
     "text": [
      "C:\\Users\\andrz\\Anaconda3\\lib\\site-packages\\sklearn\\metrics\\classification.py:1143: UndefinedMetricWarning: Precision and F-score are ill-defined and being set to 0.0 in labels with no predicted samples.\n",
      "  'precision', 'predicted', average, warn_for)\n"
     ]
    }
   ],
   "source": [
    "from sklearn.metrics import cohen_kappa_score\n",
    "from sklearn.metrics import precision_recall_fscore_support as score\n",
    "from imblearn.metrics import specificity_score, sensitivity_score\n",
    "\n",
    "precision, recall, fscore, support = score(y_test, y_pred)\n",
    "kappa = cohen_kappa_score(y_test.ravel(), y_pred.ravel())\n",
    "specificity = specificity_score(y_test.ravel(), y_pred.ravel())\n",
    "sensitivity = sensitivity_score(y_test.ravel(), y_pred.ravel())"
   ]
  },
  {
   "cell_type": "code",
   "execution_count": 47,
   "metadata": {},
   "outputs": [
    {
     "name": "stdout",
     "output_type": "stream",
     "text": [
      "Precision: \t ['0.583', '0.337', '0.634', '0.000', '0.632', '0.000']\n",
      "Recall: \t ['0.814', '0.341', '0.753', '0.000', '0.561', '0.000']\n",
      "F1 score: \t ['0.680', '0.339', '0.688', '0.000', '0.594', '0.000']\n",
      "Support: \t [6090  367 3691  211 3427  712]\n",
      "\n",
      " --- \n",
      "\n",
      "Kappa score: \t0.620\n",
      "Specificity: \t0.982\n",
      "Sensitivity: \t0.675\n"
     ]
    }
   ],
   "source": [
    "print('Precision: \\t', list(map('{:.3f}'.format, precision)))\n",
    "print('Recall: \\t', list(map('{:.3f}'.format, recall)))\n",
    "print('F1 score: \\t', list(map('{:.3f}'.format, fscore)))\n",
    "print('Support: \\t', support)\n",
    "print('\\n --- \\n')\n",
    "print('Kappa score: \\t{:.3f}'.format(kappa))\n",
    "print('Specificity: \\t{:.3f}'.format(specificity))\n",
    "print('Sensitivity: \\t{:.3f}'.format(sensitivity))"
   ]
  },
  {
   "cell_type": "code",
   "execution_count": 48,
   "metadata": {},
   "outputs": [
    {
     "name": "stdout",
     "output_type": "stream",
     "text": [
      "Confusion matrices:\n"
     ]
    },
    {
     "data": {
      "image/png": "[encoded data removed]",
      "text/plain": [
       "<Figure size 360x360 with 2 Axes>"
      ]
     },
     "metadata": {
      "needs_background": "dark"
     },
     "output_type": "display_data"
    },
    {
     "data": {
      "image/png": "[encoded data removed]",
      "text/plain": [
       "<Figure size 360x360 with 2 Axes>"
      ]
     },
     "metadata": {
      "needs_background": "dark"
     },
     "output_type": "display_data"
    },
    {
     "data": {
      "image/png": "[encoded data removed]",
      "text/plain": [
       "<Figure size 360x360 with 2 Axes>"
      ]
     },
     "metadata": {
      "needs_background": "dark"
     },
     "output_type": "display_data"
    },
    {
     "data": {
      "image/png": "[encoded data removed]",
      "text/plain": [
       "<Figure size 360x360 with 2 Axes>"
      ]
     },
     "metadata": {
      "needs_background": "dark"
     },
     "output_type": "display_data"
    },
    {
     "data": {
      "image/png": "[encoded data removed]",
      "text/plain": [
       "<Figure size 360x360 with 2 Axes>"
      ]
     },
     "metadata": {
      "needs_background": "dark"
     },
     "output_type": "display_data"
    },
    {
     "data": {
      "image/png": "[encoded data removed]",
      "text/plain": [
       "<Figure size 360x360 with 2 Axes>"
      ]
     },
     "metadata": {
      "needs_background": "dark"
     },
     "output_type": "display_data"
    }
   ],
   "source": [
    "conf_matrices = {}\n",
    "for label in range(len(classes_names)):\n",
    "    y_test_label = y_test[:, label]\n",
    "    y_pred_label = y_pred[:, label]\n",
    "    conf_matrices[classes_names[label]] = confusion_matrix(y_pred=y_pred_label, y_true=y_test_label)\n",
    "    \n",
    "print(\"Confusion matrices:\")\n",
    "for label, matrix in conf_matrices.items():\n",
    "    df_cm = pd.DataFrame(matrix, index = [i for i in ['No', 'Yes']], columns = [i for i in ['No', 'Yes']])\n",
    "    plt.figure(figsize = (5, 5))\n",
    "    ax = plt.axes()\n",
    "    sns.heatmap(df_cm, annot=True, cmap='magma', fmt='g')\n",
    "    ax.set_title(\"Class '{}':\".format(label))\n",
    "    ax.set_ylabel('Actual Values')    \n",
    "    ax.set_xlabel('Predicted Values')\n",
    "    plt.show()"
   ]
  },
  {
   "cell_type": "markdown",
   "metadata": {},
   "source": [
    "##### Create submission file"
   ]
  },
  {
   "cell_type": "raw",
   "metadata": {},
   "source": [
    "sample_submission = pd.read_csv(f'{INPUT_PATH}sample_submission.csv')\n",
    "sample_submission[classes_names] = y_pred_float\n",
    "sample_submission.to_csv(f'{SUBMISSION_PATH}submission.csv', index=False)"
   ]
  },
  {
   "cell_type": "markdown",
   "metadata": {},
   "source": [
    "##### Manual model testing"
   ]
  },
  {
   "cell_type": "code",
   "execution_count": 55,
   "metadata": {},
   "outputs": [],
   "source": [
    "def prepare_comment(comment):\n",
    "    tokenized_comment = tokenizer.texts_to_sequences(comment)\n",
    "    return pad_sequences(tokenized_comment, maxlen=maxlen)"
   ]
  },
  {
   "cell_type": "code",
   "execution_count": 70,
   "metadata": {},
   "outputs": [
    {
     "name": "stdout",
     "output_type": "stream",
     "text": [
      "\n",
      "No toxicity detected!\n",
      "\n",
      " \\ (•◡•) /\n",
      "\n",
      "All results:\n",
      "       toxic severe_toxic   obscene    threat   insult identity_hate\n",
      "0  0.011582     0.000065  0.002869  0.001177  0.00186      0.001015\n"
     ]
    }
   ],
   "source": [
    "single_comment = 'Meh!'\n",
    "single_prediction = loaded_model.predict([prepare_comment([single_comment])], batch_size=1024)\n",
    "results = pd.DataFrame(single_prediction, columns=[classes_names])\n",
    "\n",
    "class_with_highest_prob = results.idxmax(axis=1).get(0)[0]\n",
    "highest_prob = results.max(axis=1).get(0)\n",
    "\n",
    "happy_face = '\\ (•◡•) /'\n",
    "sad_face = '¯\\_(ツ)_/¯'\n",
    "\n",
    "if (highest_prob > .5):\n",
    "    print('\\nDeteced class: ', class_with_highest_prob, '\\nScore: ', highest_prob * 100, ' %\\n\\n', sad_face)\n",
    "else:\n",
    "    print('\\nNo toxicity detected!\\n\\n', happy_face)\n",
    "print('\\nAll results:\\n', results)"
   ]
  },
  {
   "cell_type": "markdown",
   "metadata": {},
   "source": [
    "##### <font color=\"#7affa0\">TODO:</font>\n",
    "- <font color=\"green\">✔</font> add plot of spammers classification based on variable spam_ratio\n",
    "- ⌛ try to use new features from EDA during model fitting (e. g. spam)\n",
    "- ⌛ execute SearchGrid of model's params\n",
    "    - ⌛ try diffrent values of non-model params num_words (Tokenizer), maxlen (padding)\n",
    "- <font color=\"green\">✔</font> update Tensorflow to GPU version\n",
    "- try diffrent architectures:\n",
    "    - ⌛ Pooling (Max -> Average)\n",
    "    - <font color=\"green\">✔</font> Early Stopping and Checkpoints (callbacks)\n",
    "    - <font color=\"green\">✔</font> Pretrained Embedding (Glove)\n",
    "\n",
    "##### <font color=\"#a07aff\">Konsultacje:</font>\n",
    "- Klasyfikacja dwupoziomowa: binarna (clean/toxic data) + wieloetykietowa (tylko toxic data)\n",
    "- <font color=\"green\">✔</font> Dataset jest niezrównoważony (10/90); klasyfikacja niezrównoważona\n",
    "- Oversampling\n",
    "- <font color=\"green\">✔</font> Sprawdzić macierz pomyłek\n",
    "- <font color=\"green\">✔</font> Klasyfikacja hierarchiczna (np. severe toxic zawsze jest toxic)\n",
    "- <b>Zrobić przegląd literatury</b>"
   ]
  }
 ],
 "metadata": {
  "kernelspec": {
   "display_name": "Python 3",
   "language": "python",
   "name": "python3"
  },
  "language_info": {
   "codemirror_mode": {
    "name": "ipython",
    "version": 3
   },
   "file_extension": ".py",
   "mimetype": "text/x-python",
   "name": "python",
   "nbconvert_exporter": "python",
   "pygments_lexer": "ipython3",
   "version": "3.6.3"
  }
 },
 "nbformat": 4,
 "nbformat_minor": 2
}
