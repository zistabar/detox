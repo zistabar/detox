{
 "cells": [
  {
   "cell_type": "markdown",
   "metadata": {},
   "source": [
    "#### Imports and settings"
   ]
  },
  {
   "cell_type": "code",
   "execution_count": 2,
   "metadata": {},
   "outputs": [
    {
     "name": "stderr",
     "output_type": "stream",
     "text": [
      "c:\\users\\andrz\\anaconda3\\lib\\site-packages\\h5py\\__init__.py:34: FutureWarning: Conversion of the second argument of issubdtype from `float` to `np.floating` is deprecated. In future, it will be treated as `np.float64 == np.dtype(float).type`.\n",
      "  from ._conv import register_converters as _register_converters\n",
      "Using TensorFlow backend.\n"
     ]
    },
    {
     "data": {
      "application/javascript": [
       "if (!(\"Notification\" in window)) {\n",
       "    alert(\"This browser does not support desktop notifications, so the %%notify magic will not work.\");\n",
       "} else if (Notification.permission !== 'granted' && Notification.permission !== 'denied') {\n",
       "    Notification.requestPermission(function (permission) {\n",
       "        if(!('permission' in Notification)) {\n",
       "            Notification.permission = permission;\n",
       "        }\n",
       "    })\n",
       "}\n"
      ],
      "text/plain": [
       "<IPython.core.display.Javascript object>"
      ]
     },
     "metadata": {},
     "output_type": "display_data"
    },
    {
     "name": "stdout",
     "output_type": "stream",
     "text": [
      "Intel-optimized TensorFlow is enabled: True\n"
     ]
    }
   ],
   "source": [
    "from random import randint\n",
    "import numpy as np\n",
    "import matplotlib.pyplot as plt\n",
    "import pandas as pd\n",
    "import seaborn as sns\n",
    "from sklearn.model_selection import GridSearchCV\n",
    "import tensorflow\n",
    "\n",
    "from wordcloud import WordCloud, STOPWORDS\n",
    "from keras.preprocessing.text import Tokenizer\n",
    "from keras.preprocessing.sequence import pad_sequences\n",
    "from keras.layers import Input, Embedding, GlobalMaxPool1D, LSTM, Dropout, Dense\n",
    "from keras.layers.convolutional import Conv1D, MaxPooling1D\n",
    "from keras.models import Model, Sequential\n",
    "from keras.wrappers.scikit_learn import KerasClassifier\n",
    "from keras.models import model_from_json\n",
    "\n",
    "%matplotlib inline\n",
    "%load_ext jupyternotify\n",
    "\n",
    "print('Intel-optimized TensorFlow is enabled:', tensorflow.pywrap_tensorflow.IsMklEnabled())"
   ]
  },
  {
   "cell_type": "markdown",
   "metadata": {},
   "source": [
    "#### Customize IDE (currently raw)"
   ]
  },
  {
   "cell_type": "raw",
   "metadata": {},
   "source": [
    "# IDE theme\n",
    "!jt -t chesterish -f roboto -fs 9 -nfs 11"
   ]
  },
  {
   "cell_type": "code",
   "execution_count": 3,
   "metadata": {},
   "outputs": [],
   "source": [
    "# Font color on plots \n",
    "COLOR = 'A9B0C2'\n",
    "plt.rcParams['text.color'] = COLOR\n",
    "plt.rcParams['axes.labelcolor'] = COLOR\n",
    "plt.rcParams['xtick.color'] = COLOR\n",
    "plt.rcParams['ytick.color'] = COLOR\n",
    "\n",
    "plt.rcParams[\"figure.figsize\"] = [10,5]"
   ]
  },
  {
   "cell_type": "markdown",
   "metadata": {},
   "source": [
    "#### Load datasets and pretrained models"
   ]
  },
  {
   "cell_type": "code",
   "execution_count": 4,
   "metadata": {},
   "outputs": [],
   "source": [
    "INPUT_PATH = '../input/'\n",
    "SUBMISSION_PATH = '../submission/'\n",
    "MODEL_PATH = '../model/'\n",
    "PRETRAINED_PATH = '../pretrained-models/'\n",
    "\n",
    "glove_model = f'{PRETRAINED_PATH}glove.6B.50d.txt'\n",
    "train = pd.read_csv(f'{INPUT_PATH}train.csv')\n",
    "test = pd.read_csv(f'{INPUT_PATH}test.csv')"
   ]
  },
  {
   "cell_type": "markdown",
   "metadata": {},
   "source": [
    "### EDA (Exploratory data analysis)"
   ]
  },
  {
   "cell_type": "code",
   "execution_count": 5,
   "metadata": {
    "scrolled": true
   },
   "outputs": [
    {
     "data": {
      "text/plain": [
       "id               False\n",
       "comment_text     False\n",
       "toxic            False\n",
       "severe_toxic     False\n",
       "obscene          False\n",
       "threat           False\n",
       "insult           False\n",
       "identity_hate    False\n",
       "dtype: bool"
      ]
     },
     "execution_count": 5,
     "metadata": {},
     "output_type": "execute_result"
    }
   ],
   "source": [
    "train.isnull().any()"
   ]
  },
  {
   "cell_type": "code",
   "execution_count": 6,
   "metadata": {
    "scrolled": true
   },
   "outputs": [
    {
     "data": {
      "text/plain": [
       "id              False\n",
       "comment_text    False\n",
       "dtype: bool"
      ]
     },
     "execution_count": 6,
     "metadata": {},
     "output_type": "execute_result"
    }
   ],
   "source": [
    "test.isnull().any()"
   ]
  },
  {
   "cell_type": "code",
   "execution_count": 7,
   "metadata": {
    "scrolled": true
   },
   "outputs": [
    {
     "data": {
      "text/html": [
       "<div>\n",
       "<style scoped>\n",
       "    .dataframe tbody tr th:only-of-type {\n",
       "        vertical-align: middle;\n",
       "    }\n",
       "\n",
       "    .dataframe tbody tr th {\n",
       "        vertical-align: top;\n",
       "    }\n",
       "\n",
       "    .dataframe thead th {\n",
       "        text-align: right;\n",
       "    }\n",
       "</style>\n",
       "<table border=\"1\" class=\"dataframe\">\n",
       "  <thead>\n",
       "    <tr style=\"text-align: right;\">\n",
       "      <th></th>\n",
       "      <th>id</th>\n",
       "      <th>comment_text</th>\n",
       "      <th>toxic</th>\n",
       "      <th>severe_toxic</th>\n",
       "      <th>obscene</th>\n",
       "      <th>threat</th>\n",
       "      <th>insult</th>\n",
       "      <th>identity_hate</th>\n",
       "    </tr>\n",
       "  </thead>\n",
       "  <tbody>\n",
       "    <tr>\n",
       "      <th>0</th>\n",
       "      <td>0000997932d777bf</td>\n",
       "      <td>Explanation\\nWhy the edits made under my usern...</td>\n",
       "      <td>0</td>\n",
       "      <td>0</td>\n",
       "      <td>0</td>\n",
       "      <td>0</td>\n",
       "      <td>0</td>\n",
       "      <td>0</td>\n",
       "    </tr>\n",
       "    <tr>\n",
       "      <th>1</th>\n",
       "      <td>000103f0d9cfb60f</td>\n",
       "      <td>D'aww! He matches this background colour I'm s...</td>\n",
       "      <td>0</td>\n",
       "      <td>0</td>\n",
       "      <td>0</td>\n",
       "      <td>0</td>\n",
       "      <td>0</td>\n",
       "      <td>0</td>\n",
       "    </tr>\n",
       "    <tr>\n",
       "      <th>2</th>\n",
       "      <td>000113f07ec002fd</td>\n",
       "      <td>Hey man, I'm really not trying to edit war. It...</td>\n",
       "      <td>0</td>\n",
       "      <td>0</td>\n",
       "      <td>0</td>\n",
       "      <td>0</td>\n",
       "      <td>0</td>\n",
       "      <td>0</td>\n",
       "    </tr>\n",
       "    <tr>\n",
       "      <th>3</th>\n",
       "      <td>0001b41b1c6bb37e</td>\n",
       "      <td>\"\\nMore\\nI can't make any real suggestions on ...</td>\n",
       "      <td>0</td>\n",
       "      <td>0</td>\n",
       "      <td>0</td>\n",
       "      <td>0</td>\n",
       "      <td>0</td>\n",
       "      <td>0</td>\n",
       "    </tr>\n",
       "    <tr>\n",
       "      <th>4</th>\n",
       "      <td>0001d958c54c6e35</td>\n",
       "      <td>You, sir, are my hero. Any chance you remember...</td>\n",
       "      <td>0</td>\n",
       "      <td>0</td>\n",
       "      <td>0</td>\n",
       "      <td>0</td>\n",
       "      <td>0</td>\n",
       "      <td>0</td>\n",
       "    </tr>\n",
       "  </tbody>\n",
       "</table>\n",
       "</div>"
      ],
      "text/plain": [
       "                 id                                       comment_text  toxic  \\\n",
       "0  0000997932d777bf  Explanation\\nWhy the edits made under my usern...      0   \n",
       "1  000103f0d9cfb60f  D'aww! He matches this background colour I'm s...      0   \n",
       "2  000113f07ec002fd  Hey man, I'm really not trying to edit war. It...      0   \n",
       "3  0001b41b1c6bb37e  \"\\nMore\\nI can't make any real suggestions on ...      0   \n",
       "4  0001d958c54c6e35  You, sir, are my hero. Any chance you remember...      0   \n",
       "\n",
       "   severe_toxic  obscene  threat  insult  identity_hate  \n",
       "0             0        0       0       0              0  \n",
       "1             0        0       0       0              0  \n",
       "2             0        0       0       0              0  \n",
       "3             0        0       0       0              0  \n",
       "4             0        0       0       0              0  "
      ]
     },
     "execution_count": 7,
     "metadata": {},
     "output_type": "execute_result"
    }
   ],
   "source": [
    "train.head()"
   ]
  },
  {
   "cell_type": "code",
   "execution_count": 8,
   "metadata": {
    "scrolled": true
   },
   "outputs": [
    {
     "name": "stdout",
     "output_type": "stream",
     "text": [
      "Samples in train dataset:  159571 ( 51 % )\n",
      "Samples in test dataset:  153164 ( 49 % )\n"
     ]
    }
   ],
   "source": [
    "n_train = train.shape[0]\n",
    "n_test = test.shape[0]\n",
    "print(\"Samples in train dataset: \", n_train, \"(\", round(n_train * 100 / (n_train + n_test)), \"% )\")\n",
    "print(\"Samples in test dataset: \", n_test, \"(\", round(n_test  *100 / (n_train + n_test)), \"% )\")"
   ]
  },
  {
   "cell_type": "code",
   "execution_count": 10,
   "metadata": {},
   "outputs": [],
   "source": [
    "# Do not operate on original test dataset during EDA\n",
    "train_extended = train.reset_index(drop=True)"
   ]
  },
  {
   "cell_type": "code",
   "execution_count": 11,
   "metadata": {},
   "outputs": [
    {
     "name": "stdout",
     "output_type": "stream",
     "text": [
      "Clean:  143346 ( 90.0 % )\n",
      "Toxic:  16225 ( 10.0 % )\n"
     ]
    }
   ],
   "source": [
    "comments_labels_train = train_extended.iloc[:,2:]\n",
    "comments_labels_sums = comments_labels_train.sum(axis=1)\n",
    "train_extended[\"clean\"] = (comments_labels_sums == 0)\n",
    "n_clean_samples = train_extended[\"clean\"].sum()\n",
    "n_toxic_samples = len(train_extended) - n_clean_samples\n",
    "print(\"Clean: \", n_clean_samples, \"(\", round(n_clean_samples * 100 / len(train_extended)), \"% )\")\n",
    "print(\"Toxic: \", n_toxic_samples, \"(\", round(n_toxic_samples * 100 / len(train_extended)), \"% )\")"
   ]
  },
  {
   "cell_type": "markdown",
   "metadata": {},
   "source": [
    "###### <font color=\"LIGHTSALMON\">The large majority of train dataset are comments labelled as clean</font>"
   ]
  },
  {
   "cell_type": "code",
   "execution_count": 14,
   "metadata": {
    "scrolled": true
   },
   "outputs": [
    {
     "data": {
      "image/png": "[encoded data removed]",
      "text/plain": [
       "<Figure size 720x360 with 1 Axes>"
      ]
     },
     "metadata": {
      "needs_background": "dark"
     },
     "output_type": "display_data"
    }
   ],
   "source": [
    "# extended by 'clean' column\n",
    "summed_labels_extended_train = train_extended.iloc[:,2:].sum()\n",
    "\n",
    "plt.figure(figsize=(10,5))\n",
    "plt.title(\"Samples per class\")\n",
    "plt.ylabel(\"Number of samples\")\n",
    "plt.xlabel(\"Class name\")\n",
    "ax = sns.barplot(summed_labels_extended_train.index, summed_labels_extended_train.values, palette=\"Blues_d\")\n",
    "plt.show()"
   ]
  },
  {
   "cell_type": "code",
   "execution_count": 15,
   "metadata": {
    "scrolled": true
   },
   "outputs": [
    {
     "data": {
      "image/png": "[encoded data removed]",
      "text/plain": [
       "<Figure size 720x360 with 1 Axes>"
      ]
     },
     "metadata": {
      "needs_background": "dark"
     },
     "output_type": "display_data"
    },
    {
     "name": "stdout",
     "output_type": "stream",
     "text": [
      "1    6360\n",
      "3    4209\n",
      "2    3480\n",
      "4    1760\n",
      "5     385\n",
      "6      31\n",
      "dtype: int64\n"
     ]
    }
   ],
   "source": [
    "# without '0 classes' (clean comments)\n",
    "multiple_classes_occurance = comments_labels_sums.value_counts().iloc[1:]\n",
    "\n",
    "plt.figure(figsize=(10,5))\n",
    "plt.title(\"Number of classes per sample\")\n",
    "plt.ylabel(\"Number of samples\")\n",
    "plt.xlabel(\"Number of classes\")\n",
    "ax = sns.barplot(multiple_classes_occurance.index, multiple_classes_occurance.values, palette=\"Blues_d\")\n",
    "plt.show()\n",
    "print(multiple_classes_occurance)"
   ]
  },
  {
   "cell_type": "code",
   "execution_count": 16,
   "metadata": {},
   "outputs": [
    {
     "name": "stdout",
     "output_type": "stream",
     "text": [
      "Single-classed toxic comments: 39.20 %\n",
      "Multiple-classed toxic comments: 60.80 %\n"
     ]
    }
   ],
   "source": [
    "print(\"Single-classed toxic comments:\", '{0:.2f}'.format(multiple_classes_occurance.get(1) / n_toxic_samples * 100), '%')\n",
    "print(\"Multiple-classed toxic comments:\", '{0:.2f}'.format(multiple_classes_occurance[1:].sum() / n_toxic_samples * 100), '%')"
   ]
  },
  {
   "cell_type": "markdown",
   "metadata": {},
   "source": [
    "###### <font color=\"LIGHTSALMON\">Most of toxic comments has more than one toxic class</font>"
   ]
  },
  {
   "cell_type": "markdown",
   "metadata": {},
   "source": [
    "#### Example samples"
   ]
  },
  {
   "cell_type": "code",
   "execution_count": 17,
   "metadata": {},
   "outputs": [],
   "source": [
    "def get_random_sample(comments_group):\n",
    "    min_samples_in_class = comments_labels_train.sum().min() - 1\n",
    "    return comments_group.iloc[randint(0, min_samples_in_class), 1]"
   ]
  },
  {
   "cell_type": "code",
   "execution_count": 18,
   "metadata": {},
   "outputs": [
    {
     "name": "stdout",
     "output_type": "stream",
     "text": [
      "Toxic:\n",
      "\n",
      "> ii CAN STILL POST WITH THIS COMPUTER...I SAID BLOCK ME, COME THE FUCK DOWN HERE AND ARREST ME...SAN DIEGO CALIFORNIA, CHULA VISTA, FUCKING GET YOUR INFORMATION RIGHT FAGGOT SHITHEAD!!i CAN STILL POST WITH THIS COMPUTER...I SAID BLOCK ME, COME THE FUCK DOWN HERE AND ARREST ME...SAN DIEGO CALIFORNIA, CHULA VISTA, FUCKING GET YOUR INFORMATION RIGHT FAGGOT SHITHEAD!!i CAN STILL POST WITH THIS COMPUTER...I SAID BLOCK ME, COME THE FUCK DOWN HERE AND ARREST ME...SAN DIEGO CALIFORNIA, CHULA VISTA, FUCKING GET YOUR INFORMATION RIGHT FAGGOT SHITHEAD!!i CAN STILL POST WITH THIS COMPUTER...I SAID BLOCK ME, COME THE FUCK DOWN HERE AND ARREST ME...SAN DIEGO CALIFORNIA, CHULA VISTA, FUCKING GET YOUR INFORMATION RIGHT FAGGOT SHITHEAD!!i CAN STILL POST WITH THIS COMPUTER...I SAID BLOCK ME, COME THE FUCK DOWN HERE AND ARREST ME...SAN DIEGO CALIFORNIA, CHULA VISTA, FUCKING GET YOUR INFORMATION RIGHT FAGGOT SHITHEAD!!i CAN STILL POST WITH THIS COMPUTER...I SAID BLOCK ME, COME THE FUCK DOWN HERE AND ARREST ME...SAN DIEGO CALIFORNIA, CHULA VISTA, FUCKING GET YOUR INFORMATION RIGHT FAGGOT SHITHEAD!!i CAN STILL POST WITH THIS COMPUTER...I SAID BLOCK ME, COME THE FUCK DOWN HERE AND ARREST ME...SAN DIEGO CALIFORNIA, CHULA VISTA, FUCKING GET YOUR INFORMATION RIGHT FAGGOT SHITHEAD!!i CAN STILL POST WITH THIS COMPUTER...I SAID BLOCK ME, COME THE FUCK DOWN HERE AND ARREST ME...SAN DIEGO CALIFORNIA, CHULA VISTA, FUCKING GET YOUR INFORMATION RIGHT FAGGOT SHITHEAD!!i CAN STILL POST WITH THIS COMPUTER...I SAID BLOCK ME, COME THE FUCK DOWN HERE AND ARREST ME...SAN DIEGO CALIFORNIA, CHULA VISTA, FUCKING GET YOUR INFORMATION RIGHT FAGGOT SHITHEAD!!i CAN STILL POST WITH THIS COMPUTER...I SAID BLOCK ME, COME THE FUCK DOWN HERE AND ARREST ME...SAN DIEGO CALIFORNIA, CHULA VISTA, FUCKING GET YOUR INFORMATION RIGHT FAGGOT SHITHEAD!!i CAN STILL POST WITH THIS COMPUTER...I SAID BLOCK ME, COME THE FUCK DOWN HERE AND ARREST ME...SAN DIEGO CALIFORNIA, CHULA VISTA, FUCKING GET YOUR INFORMATION RIGHT FAGGOT SHITHEAD!!i CAN STILL POST WITH THIS COMPUTER...I SAID BLOCK ME, COME THE FUCK DOWN HERE AND ARREST ME...SAN DIEGO CALIFORNIA, CHULA VISTA, FUCKING GET YOUR INFORMATION RIGHT FAGGOT SHITHEAD!!i CAN STILL POST WITH THIS COMPUTER...I SAID BLOCK ME, COME THE FUCK DOWN HERE AND ARREST ME...SAN DIEGO CALIFORNIA, CHULA VISTA, FUCKING GET YOUR INFORMATION RIGHT FAGGOT SHITHEAD!!i CAN STILL POST WITH THIS COMPUTER...I SAID BLOCK ME, COME THE FUCK DOWN HERE AND ARREST ME...SAN DIEGO CALIFORNIA, CHULA VISTA, FUCKING GET YOUR INFORMATION RIGHT FAGGOT SHITHEAD!!i CAN STILL POST WITH THIS COMPUTER...I SAID BLOCK ME, COME THE FUCK DOWN HERE AND ARREST ME...SAN DIEGO CALIFORNIA, CHULA VISTA, FUCKING GET YOUR INFORMATION RIGHT FAGGOT SHITHEAD!!i CAN STILL POST WITH THIS COMPUTER...I SAID BLOCK ME, COME THE FUCK DOWN HERE AND ARREST ME...SAN DIEGO CALIFORNIA, CHULA VISTA, FUCKING GET YOUR INFORMATION RIGHT FAGGOT SHITHEAD!!i CAN STILL POST WITH THIS COMPUTER...I SAID BLOCK ME, COME THE FUCK DOWN HERE AND ARREST ME...SAN DIEGO CALIFORNIA, CHULA VISTA, FUCKING GET YOUR INFORMATION RIGHT FAGGOT SHITHEAD!!i CAN STILL POST WITH THIS COMPUTER...I SAID BLOCK ME, COME THE FUCK DOWN HERE AND ARREST ME...SAN DIEGO CALIFORNIA, CHULA VISTA, FUCKING GET YOUR INFORMATION RIGHT FAGGOT SHITHEAD!!i CAN STILL POST WITH THIS COMPUTER...I SAID BLOCK ME, COME THE FUCK DOWN HERE AND ARREST ME...SAN DIEGO CALIFORNIA, CHULA VISTA, FUCKING GET YOUR INFORMATION RIGHT FAGGOT SHITHEAD!!i CAN STILL POST WITH THIS COMPUTER...I SAID BLOCK ME, COME THE FUCK DOWN HERE AND ARREST ME...SAN DIEGO CALIFORNIA, CHULA VISTA, FUCKING GET YOUR INFORMATION RIGHT FAGGOT SHITHEAD!!i CAN STILL POST WITH THIS COMPUTER...I SAID BLOCK ME, COME THE FUCK DOWN HERE AND ARREST ME...SAN DIEGO CALIFORNIA, CHULA VISTA, FUCKING GET YOUR INFORMATION RIGHT FAGGOT SHITHEAD!!i CAN STILL POST WITH THIS COMPUTER...I SAID BLOCK ME, COME THE FUCK DOWN HERE AND ARREST ME...SAN DIEGO CALIFORNIA, CHULA VISTA, FUCKING GET YOUR INFORMATION RIGHT FAGGOT SHITHEAD!!i CAN STILL POST WITH THIS COMPUTER...I SAID BLOCK ME, COME THE FUCK DOWN HERE AND ARREST ME...SAN DIEGO CALIFORNIA, CHULA VISTA, FUCKING GET YOUR INFORMATION RIGHT FAGGOT SHITHEAD!!i CAN STILL POST WITH THIS COMPUTER...I SAID BLOCK ME, COME THE FUCK DOWN HERE AND ARREST ME...SAN DIEGO CALIFORNIA, CHULA VISTA, FUCKING GET YOUR INFORMATION RIGHT FAGGOT SHITHEAD!!i CAN STILL POST WITH THIS COMPUTER...I SAID BLOCK ME, COME THE FUCK DOWN HERE AND ARREST ME...SAN DIEGO CALIFORNIA, CHULA VISTA, FUCKING GET YOUR INFORMATION RIGHT FAGGOT SHITHEAD!!i CAN STILL POST WITH THIS COMPUTER...I SAID BLOCK ME, COME THE FUCK DOWN HERE AND ARREST ME...SAN DIEGO CALIFORNIA, CHULA VISTA, FUCKING GET YOUR INFORMATION RIGHT FAGGOT SHITHEAD!!i CAN STILL POST WITH THIS COMPUTER...I SAID BLOCK ME, COME THE FUCK DOWN HERE AND ARREST ME...SAN DIEGO CALIFORNIA, CHULA VISTA, FUCKING GET YOUR INFORMATION RIGHT FAGGOT SHITHEAD!!i CAN STILL POST WITH THIS COMPUTER...I SAID BLOCK ME, COME THE FUCK DOWN HERE AND AR\n",
      "\n",
      " --- \n",
      "\n",
      "Severe toxic:\n",
      "\n",
      "> Faggot ==\n",
      "\n",
      "Dude, you are a fucking faggot. You made the right choice coming to America, but your still a pussy geeky ass brit. So fuck you nigga, I don't give a fuck what you think, I'll do what I want, when I want, where I want, and you can't do shit about it bitch. I'll change my ip. Go fuck yourself kid. Get laid. Jesus Christ, have some laughs in your life. Fucking loser. Sincerly, The Dragon.\n",
      "\n",
      "==\n",
      "\n",
      " --- \n",
      "\n",
      "Obscene:\n",
      "\n",
      "> you are a stupid fuck \n",
      "\n",
      "and your mother's cunt stinks\n",
      "\n",
      " --- \n",
      "\n",
      "Threat:\n",
      "\n",
      "> hello again\n",
      "I am BACK WITH A VENGENCE!!!!!! alright, so will block me, thats expected, so with that note on mind, i begin my rant. \n",
      "My Rant\n",
      "FUCK is an interesting word, and can be used in many ways. such as, FUCK YOU, Go Fuck yourself (no one else will) I FUCKED your mother, also who the FUCK do you think you are? do you think you are god? is that it? were you molested by your teacher as a child? i dont understand what would cause you to think your so fucking great. i raped all of your family members, and siblings, cousins, aunts and uncles. i also raped your mother (she liked it) and so you are nothing. ABSOLUTLY nothing, and you should terminate your existance A.S.A.P. (As Soon As Possible just letting you know, because you are FUCKING RETARTED!!!!!!!!!!!!!!!!!!!!) FUCK YOU, and go die. that is all.\n",
      "ps\n",
      "you fudge packing ass-monger, i have one last thing to say to you. DIE!!!!!!!!!!!!!!!!!!!!!!!!!!!!!!!!!!!!!!!!!!!!!!!!!!!!!!!!!!!!!!!!!!!!!!!!!!!!!!!!!!!!!!!!!!!!!!!!!!!!!!!!!fucker i hope you rot in hell you son of a skank.\n",
      "\n",
      " --- \n",
      "\n",
      "Insult:\n",
      "\n",
      "> FUCK YOU, YOU PARANOID BITCH!!! \n",
      "\n",
      "YOU ARE a ugly unwanted bucket of sludge who is obsessed with the unwanted festering sputum bag from hell and the teletubbie rubbing pantaloon you try to bite the mailman, you c.u.m guzzling sick minded prick who cooks for the filthy freak and the decomposing penguin groper thy fawning ill-nurtured lout hath a idle-headed maggot-pie If not for your daddy, you would be a racist cursed horny toad who eats the earwax of the brain dead snotbox and the crap eating horny toad and you lift your leg on trees, you evil naked weasel who slobbers on the wrinkly snob and the anatomically incorrect disfunctional buffoon so quit being so stupid, you cat litter munching abysmal lunatic who slobbers on the cat harassing rectum and the anatomically incorrect lunatic. \n",
      "You big smelly cunt! \n",
      "Your mums crack tastes like MINCE and  \n",
      "Fuck your mouth. Your girlfriend is ugly. \n",
      "If my dog is as ugly as you are, i would shave his ass and make him walk backwards. \n",
      "You are just cum you mom should of swallowed. \n",
      "You are just a dog that jumped the fence and ran away. \n",
      "How did you get here? Did someone leave your cage open? \n",
      "Are your parents siblings? \n",
      "Hey are you lost? Which way did you come in? \n",
      "Does she have an appetite? She looks like she has an appetite. \n",
      "Go ahead, tell them everything you know. It`ll only take 10 seconds. \n",
      "I`d love to go out with you, but my favorite commercial is on TV. \n",
      "You fail at life \n",
      "and \n",
      "Please press the reset button on your life \n",
      "You should see the expressions on their faces, priceless. __________________ \n",
      "GAME OVER MOTHERFUCKER! >:( \n",
      "\n",
      "Thanks to you neither me nor my family will  give this shit foundation a fucking dime. \n",
      "Do Wikipedia a favor and just delete your account.\n",
      "\n",
      "Have a nice day.\n",
      "\n",
      " --- \n",
      "\n",
      "Identity hate:\n",
      "\n",
      "> i completely agree with gilabrand u guys are all anti-israeli fucker why dont you and your anti-semitic freinds fuck off so that we could show israel tyo what it really is.\n",
      "\n",
      " --- \n",
      "\n",
      "Clean:\n",
      "\n",
      "> \"\n",
      "\n",
      " Can there be a more concise listing? \n",
      "\n",
      "The listing of \"\"other inventions\"\" is profoundly vague. Why group 4 different categories together? Why even mention things that the chinese received purely from outside sources? There should be a much more complete, well managed list of chinese developments, which I've yet to find- along with how these were transmitted globally, and whether or not places like Europe got them purely from the Chinese.\n",
      "\n",
      "This really needs the attention of people with some remote expertise, which I guess is somewhat there when Needham's work, which is profoundly rare in private collections was cited- not like the arrogant bigoted ass who was crying about chinese nationalism, yet then went onto say that they only invented noodles.\n",
      "\n",
      "And besides, why are things like the cannon and porcelain listed under \"\"other inventions\"\"? Who developed these independently?\"\n"
     ]
    }
   ],
   "source": [
    "toxic_samples = train_extended[train_extended.toxic == 1]\n",
    "severe_toxic_samples = train_extended[train_extended.severe_toxic == 1]\n",
    "obscene_samples = train_extended[train_extended.obscene == 1]\n",
    "threat_samples = train_extended[train_extended.threat == 1]\n",
    "insult_samples = train_extended[train_extended.insult == 1]\n",
    "identity_hate_samples = train_extended[train_extended.identity_hate == 1]\n",
    "clean_samples = train_extended[train_extended.clean == 1]\n",
    "\n",
    "print(\"Toxic:\\n\\n>\", get_random_sample(toxic_samples))\n",
    "print(\"\\n --- \\n\\nSevere toxic:\\n\\n>\", get_random_sample(severe_toxic_samples))\n",
    "print(\"\\n --- \\n\\nObscene:\\n\\n>\", get_random_sample(obscene_samples))\n",
    "print(\"\\n --- \\n\\nThreat:\\n\\n>\", get_random_sample(threat_samples))\n",
    "print(\"\\n --- \\n\\nInsult:\\n\\n>\", get_random_sample(insult_samples))\n",
    "print(\"\\n --- \\n\\nIdentity hate:\\n\\n>\", get_random_sample(identity_hate_samples))\n",
    "print(\"\\n --- \\n\\nClean:\\n\\n>\", get_random_sample(clean_samples))"
   ]
  },
  {
   "cell_type": "markdown",
   "metadata": {},
   "source": [
    "#### Wordclouds"
   ]
  },
  {
   "cell_type": "code",
   "execution_count": null,
   "metadata": {},
   "outputs": [],
   "source": [
    "stopwords=set(STOPWORDS)\n",
    "\n",
    "wordcloud_toxic = WordCloud(max_words=1000, stopwords=stopwords, colormap=\"Reds\")\n",
    "wordcloud_toxic.generate(\" \".join(toxic_samples.comment_text.values))\n",
    "\n",
    "wordcloud_clean = WordCloud(max_words=1000, stopwords=stopwords, colormap=\"Greens\")\n",
    "wordcloud_clean.generate(\" \".join(clean_samples.comment_text.values))"
   ]
  },
  {
   "cell_type": "code",
   "execution_count": null,
   "metadata": {
    "scrolled": false
   },
   "outputs": [],
   "source": [
    "plt.figure(figsize=(15,10))\n",
    "\n",
    "plt.subplot(211)\n",
    "plt.title(\"Wordcloud of \\'toxic\\' class\")\n",
    "plt.imshow(wordcloud_toxic, interpolation='bilinear')\n",
    "plt.axis(\"off\")\n",
    "\n",
    "plt.subplot(212)\n",
    "plt.axis(\"off\")\n",
    "plt.title(\"Wordcloud of \\'clean\\' class\")\n",
    "plt.imshow(wordcloud_clean, interpolation='bilinear')\n",
    "\n",
    "plt.show()"
   ]
  },
  {
   "cell_type": "markdown",
   "metadata": {},
   "source": [
    "#### Spam significance "
   ]
  },
  {
   "cell_type": "code",
   "execution_count": 19,
   "metadata": {},
   "outputs": [],
   "source": [
    "train_extended['n_unique_words'] = train_extended[\"comment_text\"].apply(lambda x: len(set(str(x).split())))\n",
    "train_extended['n_words'] = train_extended[\"comment_text\"].apply(lambda x: len(str(x).split()))\n",
    "train_extended['unique_words_per'] = train_extended['n_unique_words'] * 100 / train_extended['n_words']"
   ]
  },
  {
   "cell_type": "markdown",
   "metadata": {},
   "source": [
    "###### <font color=\"LIGHTSALMON\">Spam ratio (coefficient) =  unique words in comment / number of words in comment</font>"
   ]
  },
  {
   "cell_type": "code",
   "execution_count": 20,
   "metadata": {},
   "outputs": [
    {
     "name": "stdout",
     "output_type": "stream",
     "text": [
      "For spam coefficient equal 10 %:\n",
      "\n",
      "Clean spammers:  67 ( 19 % )\n",
      "Toxic spammers:  292 ( 81 % )\n",
      "\n",
      "There are 4.36 times more toxic spammers than clean ones!\n"
     ]
    }
   ],
   "source": [
    "spam_ratio = 10\n",
    "spammers = train_extended[train_extended['unique_words_per'] < spam_ratio]\n",
    "clean_spammers = spammers[spammers['clean'] == True]\n",
    "toxic_spammers = spammers[spammers['clean'] == False]\n",
    "n_clean_spammers = clean_spammers.shape[0]\n",
    "n_toxic_spammers = toxic_spammers.shape[0]\n",
    "n_spammers = spammers.shape[0]\n",
    "print('For spam coefficient equal 10 %:\\n')\n",
    "print('Clean spammers: ', n_clean_spammers, \"(\", round(n_clean_spammers * 100 / n_spammers), \"% )\")\n",
    "print('Toxic spammers: ', n_toxic_spammers, \"(\", round(n_toxic_spammers * 100 / n_spammers), \"% )\")\n",
    "print('\\nThere are', '{0:.2f}'.format(n_toxic_spammers / n_clean_spammers) ,'times more toxic spammers than clean ones!')"
   ]
  },
  {
   "cell_type": "code",
   "execution_count": 40,
   "metadata": {
    "scrolled": false
   },
   "outputs": [],
   "source": [
    "spam_ratio_values = np.arange(0, 41, 1)\n",
    "n_clean_spammers_values = []\n",
    "n_toxic_spammers_values = []\n",
    "for spam_ratio in spam_ratio_values:\n",
    "    curr_spammers = train_extended[train_extended['unique_words_per'] < spam_ratio]\n",
    "    curr_clean_spammers = curr_spammers[curr_spammers['clean'] == True]\n",
    "    curr_toxic_spammers = curr_spammers[curr_spammers['clean'] == False]\n",
    "    n_clean_spammers_values.append(curr_clean_spammers.shape[0])\n",
    "    n_toxic_spammers_values.append(curr_toxic_spammers.shape[0])"
   ]
  },
  {
   "cell_type": "code",
   "execution_count": 41,
   "metadata": {},
   "outputs": [
    {
     "data": {
      "image/png": "[encoded data removed]",
      "text/plain": [
       "<Figure size 720x360 with 1 Axes>"
      ]
     },
     "metadata": {
      "needs_background": "dark"
     },
     "output_type": "display_data"
    }
   ],
   "source": [
    "plt.title(\"Number of spammers depending on the spam coefficient\", fontsize=12)\n",
    "\n",
    "plt.plot(spam_ratio_values, n_clean_spammers_values)\n",
    "plt.fill_between(spam_ratio_values, n_clean_spammers_values, 0, color='blue', alpha=0.4)  \n",
    "plt.plot(spam_ratio_values, n_toxic_spammers_values, 'r')\n",
    "plt.fill_between(spam_ratio_values, n_toxic_spammers_values, 0, color='red', alpha=0.2) \n",
    "\n",
    "plt.legend(['Clean spammers', 'Toxic spammers'])\n",
    "plt.ylabel('Number of users', fontsize=12)\n",
    "plt.xlabel('Value of spam coefficient [%]', fontsize=12)\n",
    "plt.xlim(0, 40)\n",
    "plt.ylim(0, 370)\n",
    "plt.show()"
   ]
  },
  {
   "cell_type": "code",
   "execution_count": 24,
   "metadata": {
    "scrolled": true
   },
   "outputs": [
    {
     "name": "stdout",
     "output_type": "stream",
     "text": [
      "Sample clean spam:\n",
      "\n",
      "> ACCESS DENEID!! \n",
      "\n",
      "ACCESS DENEID!!ACCESS DENEID!!ACCESS DENEID!!ACCESS DENEID!!ACCESS DENEID!!ACCESS DENEID!!ACCESS DENEID!!ACCESS DENEID!!ACCESS DENEID!!ACCESS DENEID!!ACCESS DENEID!!ACCESS DENEID!!ACCESS DENEID!!ACCESS DENEID!!ACCESS DENEID!!ACCESS DENEID!!ACCESS DENEID!!ACCESS DENEID!!ACCESS DENEID!!ACCESS DENEID!!ACCESS DENEID!!ACCESS DENEID!!ACCESS DENEID!!ACCESS DENEID!!ACCESS DENEID!!ACCESS DENEID!!ACCESS DENEID!!ACCESS DENEID!!ACCESS DENEID!!ACCESS DENEID!!ACCESS DENEID!!ACCESS DENEID!!ACCESS DENEID!!ACCESS DENEID!!ACCESS DENEID!!ACCESS DENEID!!ACCESS DENEID!!ACCESS DENEID!!ACCESS DENEID!!ACCESS DENEID!!ACCESS DENEID!!ACCESS DENEID!!ACCESS DENEID!!ACCESS DENEID!!ACCESS DENEID!!ACCESS DENEID!!ACCESS DENEID!!ACCESS DENEID!!ACCESS DENEID!!ACCESS DENEID!!ACCESS DENEID!!ACCESS DENEID!!ACCESS DENEID!!ACCESS DENEID!!ACCESS DENEID!!ACCESS DENEID!!ACCESS DENEID!!ACCESS DENEID!!ACCESS DENEID!!ACCESS DENEID!!ACCESS DENEID!!ACCESS DENEID!!ACCESS DENEID!!ACCESS DENEID!!ACCESS DENEID!!ACCESS DENEID!!ACCESS DENEID!!ACCESS DENEID!!ACCESS DENEID!!ACCESS DENEID!!ACCESS DENEID!!ACCESS DENEID!!ACCESS DENEID!!ACCESS DENEID!!ACCESS DENEID!!ACCESS DENEID!!ACCESS DENEID!!ACCESS DENEID!!ACCESS DENEID!!ACCESS DENEID!!ACCESS DENEID!!ACCESS DENEID!!ACCESS DENEID!!ACCESS DENEID!!ACCESS DENEID!!ACCESS DENEID!!ACCESS DENEID!!ACCESS DENEID!!ACCESS DENEID!!ACCESS DENEID!!ACCESS DENEID!!ACCESS DENEID!!ACCESS DENEID!!ACCESS DENEID!!ACCESS DENEID!!ACCESS DENEID!!ACCESS DENEID!!ACCESS DENEID!!ACCESS DENEID!!ACCESS DENEID!!ACCESS DENEID!!ACCESS DENEID!!ACCESS DENEID!!ACCESS DENEID!!ACCESS DENEID!!ACCESS DENEID!!ACCESS DENEID!!ACCESS DENEID!!ACCESS DENEID!!ACCESS DENEID!!ACCESS DENEID!!ACCESS DENEID!!ACCESS DENEID!!ACCESS DENEID!!ACCESS DENEID!!ACCESS DENEID!!ACCESS DENEID!!ACCESS DENEID!!ACCESS DENEID!!ACCESS DENEID!!ACCESS DENEID!!ACCESS DENEID!!ACCESS DENEID!!ACCESS DENEID!!ACCESS DENEID!!ACCESS DENEID!!ACCESS DENEID!!ACCESS DENEID!!ACCESS DENEID!!ACCESS DENEID!!ACCESS DENEID!!ACCESS DENEID!!ACCESS DENEID!!ACCESS DENEID!!ACCESS DENEID!!ACCESS DENEID!!ACCESS DENEID!!ACCESS DENEID!!ACCESS DENEID!!ACCESS DENEID!!ACCESS DENEID!!ACCESS DENEID!!ACCESS DENEID!!ACCESS DENEID!!ACCESS DENEID!!ACCESS DENEID!!ACCESS DENEID!!ACCESS DENEID!!ACCESS DENEID!!ACCESS DENEID!!ACCESS DENEID!!ACCESS DENEID!!ACCESS DENEID!!ACCESS DENEID!!ACCESS DENEID!!ACCESS DENEID!!ACCESS DENEID!!ACCESS DENEID!!ACCESS DENEID!!ACCESS DENEID!!ACCESS DENEID!!ACCESS DENEID!!ACCESS DENEID!!ACCESS DENEID!!ACCESS DENEID!!ACCESS DENEID!!ACCESS DENEID!!ACCESS DENEID!!ACCESS DENEID!!ACCESS DENEID!!ACCESS DENEID!!ACCESS DENEID!!ACCESS DENEID!!ACCESS DENEID!!ACCESS DENEID!!ACCESS DENEID!!ACCESS DENEID!!ACCESS DENEID!!ACCESS DENEID!!ACCESS DENEID!!ACCESS DENEID!!ACCESS DENEID!!ACCESS DENEID!!ACCESS DENEID!!ACCESS DENEID!!ACCESS DENEID!!ACCESS DENEID!!ACCESS DENEID!!ACCESS DENEID!!ACCESS DENEID!!ACCESS DENEID!!ACCESS DENEID!!ACCESS DENEID!!ACCESS DENEID!!ACCESS DENEID!!ACCESS DENEID!!ACCESS DENEID!!ACCESS DENEID!!ACCESS DENEID!!ACCESS DENEID!!ACCESS DENEID!!ACCESS DENEID!!ACCESS DENEID!!ACCESS DENEID!!ACCESS DENEID!!ACCESS DENEID!!ACCESS DENEID!!ACCESS DENEID!!ACCESS DENEID!!ACCESS DENEID!!ACCESS DENEID!!ACCESS DENEID!!ACCESS DENEID!!ACCESS DENEID!!ACCESS DENEID!!ACCESS DENEID!!ACCESS DENEID!!ACCESS DENEID!!ACCESS DENEID!!ACCESS DENEID!!ACCESS DENEID!!ACCESS DENEID!!ACCESS DENEID!!ACCESS DENEID!!ACCESS DENEID!!ACCESS DENEID!!ACCESS DENEID!!ACCESS DENEID!!ACCESS DENEID!!ACCESS DENEID!!ACCESS DENEID!!ACCESS DENEID!!ACCESS DENEID!!ACCESS DENEID!!ACCESS DENEID!!ACCESS DENEID!!ACCESS DENEID!!ACCESS DENEID!!ACCESS DENEID!!ACCESS DENEID!!ACCESS DENEID!!ACCESS DENEID!!ACCESS DENEID!!ACCESS DENEID!!ACCESS DENEID!!ACCESS DENEID!!ACCESS DENEID!!ACCESS DENEID!!ACCESS DENEID!!ACCESS DENEID!!ACCESS DENEID!!ACCESS DENEID!!ACCESS DENEID!!ACCESS DENEID!!ACCESS DENEID!!ACCESS DENEID!!ACCESS DENEID!!ACCESS DENEID!!ACCESS DENEID!!ACCESS DENEID!!ACCESS DENEID!!ACCESS DENEID!!ACCESS DENEID!!ACCESS DENEID!!ACCESS DENEID!!ACCESS DENEID!!ACCESS DENEID!!ACCESS DENEID!!ACCESS DENEID!!ACCESS DENEID!!ACCESS DENEID!!ACCESS DENEID!!ACCESS DENEID!!ACCESS DENEID!!ACCESS DENEID!!ACCESS DENEID!!ACCESS DENEID!!ACCESS DENEID!!ACCESS DENEID!!ACCESS DENEID!!ACCESS DENEID!!ACCESS DENEID!!ACCESS DENEID!!ACCESS DENEID!!ACCESS DENEID!!ACCESS DENEID!!ACCESS DENEID!!ACCESS DENEID!!ACCESS DENEID!!ACCESS DENEID!!ACCESS DENEID!!ACCESS DENEID!!ACCESS DENEID!!ACCESS DENEID!!ACCESS DENEID!!ACCESS DENEID!!ACCESS DENEID!!ACCESS DENEID!!ACCESS DENEID!!ACCESS DENEID!!ACCESS DENEID!!ACCESS DENEID!!ACCESS DENEID!!ACCESS DENEID!!ACCESS DENEID!!ACCESS DENEID!!ACCESS DENEID!!ACCESS DENEID!!ACCESS DENEID!!ACCESS DENEID!!ACCESS DENEID!!ACCESS DENEID!!ACCESS DENEID!!ACCESS DENEID!!ACCESS DENEID!!ACCESS DENEID!!ACCESS DENEID!!ACCESS DENEID!!ACCESS DENEID!!ACCESS DENEID!!ACCESS DENEID!!ACCESS DENEID!!ACCESS DENEID!!ACCESS DENEID!!ACCESS DENEID!!ACCESS DENEID!!ACCESS DENEID!!ACCESS DENEID!!ACCESS DENEID!!ACCESS DENEID!!A\n",
      "\n",
      " --- \n",
      "\n",
      "Sample toxic spam:\n",
      "\n",
      "> SHUT THE FUCK UP!\n",
      "SHUT THE FUCK UP!\n",
      "SHUT THE FUCK UP!\n",
      "SHUT THE FUCK UP!\n",
      "SHUT THE FUCK UP!\n",
      "SHUT THE FUCK UP!\n",
      "SHUT THE FUCK UP!\n",
      "SHUT THE FUCK UP!\n",
      "SHUT THE FUCK UP!\n",
      "SHUT THE FUCK UP!\n",
      "SHUT THE FUCK UP!\n",
      "SHUT THE FUCK UP!\n",
      "SHUT THE FUCK UP!\n",
      "SHUT THE FUCK UP!\n",
      "SHUT THE FUCK UP!\n",
      "SHUT THE FUCK UP!\n",
      "SHUT THE FUCK UP!\n",
      "SHUT THE FUCK UP!\n",
      "SHUT THE FUCK UP!\n",
      "SHUT THE FUCK UP!\n",
      "SHUT THE FUCK UP!\n",
      "SHUT THE FUCK UP!\n",
      "SHUT THE FUCK UP!\n",
      "SHUT THE FUCK UP!vv\n",
      "SHUT THE FUCK UP!\n",
      "SHUT THE FUCK UP!\n",
      "SHUT THE FUCK UP!\n",
      "SHUT THE FUCK UP!\n",
      "SHUT THE FUCK UP!\n",
      "SHUT THE FUCK UP!\n",
      "SHUT THE FUCK UP!\n",
      "SHUT THE FUCK UP!\n",
      "SHUT THE FUCK UP!\n",
      "SHUT THE FUCK UP!\n",
      "SHUT THE FUCK UP!\n",
      "SHUT THE FUCK UP!\n",
      "SHUT THE FUCK UP!\n",
      "SHUT THE FUCK UP!\n",
      "SHUT THE FUCK UP!\n",
      "SHUT THE FUCK UP!\n",
      "SHUT THE FUCK UP!\n",
      "SHUT THE FUCK UP!\n",
      "SHUT THE FUCK UP!\n",
      "SHUT THE FUCK UP!\n",
      "SHUT THE FUCK UP!\n",
      "SHUT THE FUCK UP!\n",
      "SHUT THE FUCK UP!\n",
      "SHUT THE FUCK UP!\n",
      "SHUT THE FUCK UP!\n",
      "SHUT THE FUCK UP!\n",
      "SHUT THE FUCK UP!\n",
      "SHUT THE FUCK UP!\n"
     ]
    }
   ],
   "source": [
    "spam_min_index = min(n_clean_spammers, n_toxic_spammers) - 1\n",
    "print(\"Sample clean spam:\\n\\n>\", clean_spammers.iloc[randint(0, spam_min_index)].comment_text)\n",
    "print(\"\\n --- \\n\\nSample toxic spam:\\n\\n>\", toxic_spammers.iloc[randint(0, spam_min_index)].comment_text)"
   ]
  },
  {
   "cell_type": "markdown",
   "metadata": {},
   "source": [
    "### Prepare data for model training"
   ]
  },
  {
   "cell_type": "markdown",
   "metadata": {},
   "source": [
    "#####  Comments tokenizing"
   ]
  },
  {
   "cell_type": "code",
   "execution_count": 32,
   "metadata": {},
   "outputs": [],
   "source": [
    "classes_names = train.columns.values[2:]\n",
    "labels_train = train[classes_names].values\n",
    "comments_train = train[\"comment_text\"]\n",
    "comments_test = test[\"comment_text\"]"
   ]
  },
  {
   "cell_type": "code",
   "execution_count": 33,
   "metadata": {},
   "outputs": [
    {
     "name": "stdout",
     "output_type": "stream",
     "text": [
      "Found 210337 unique words.\n"
     ]
    }
   ],
   "source": [
    "num_words = 25000\n",
    "tokenizer = Tokenizer(num_words=num_words)\n",
    "tokenizer.fit_on_texts(list(comments_train))\n",
    "print('Found %d unique words.' % len(tokenizer.word_index))"
   ]
  },
  {
   "cell_type": "code",
   "execution_count": 27,
   "metadata": {},
   "outputs": [
    {
     "data": {
      "text/plain": [
       "{'the': 1,\n",
       " 'to': 2,\n",
       " 'of': 3,\n",
       " 'and': 4,\n",
       " 'a': 5,\n",
       " 'you': 6,\n",
       " 'i': 7,\n",
       " 'is': 8,\n",
       " 'that': 9,\n",
       " 'in': 10,\n",
       " 'it': 11,\n",
       " 'for': 12,\n",
       " 'this': 13,\n",
       " 'not': 14,\n",
       " 'on': 15,\n",
       " 'be': 16,\n",
       " 'as': 17,\n",
       " 'have': 18,\n",
       " 'are': 19,\n",
       " 'your': 20}"
      ]
     },
     "execution_count": 27,
     "metadata": {},
     "output_type": "execute_result"
    }
   ],
   "source": [
    "# Check first 20 unique words with the highest occurance from our dictonary\n",
    "dict(list(tokenizer.word_index.items())[0:20])"
   ]
  },
  {
   "cell_type": "code",
   "execution_count": 28,
   "metadata": {},
   "outputs": [],
   "source": [
    "tokenized_sequences_train = tokenizer.texts_to_sequences(comments_train)\n",
    "tokenized_sequences_test = tokenizer.texts_to_sequences(comments_test)"
   ]
  },
  {
   "cell_type": "code",
   "execution_count": 29,
   "metadata": {},
   "outputs": [
    {
     "data": {
      "image/png": "[encoded data removed]",
      "text/plain": [
       "<Figure size 432x288 with 1 Axes>"
      ]
     },
     "metadata": {
      "needs_background": "dark"
     },
     "output_type": "display_data"
    }
   ],
   "source": [
    "# Analysis of lengths of comments (maxlen param)\n",
    "n_words_comments = [len(comment) for comment in tokenized_sequences_train]\n",
    "plt.hist(n_words_comments, bins=np.arange(0,300,5))\n",
    "plt.show()"
   ]
  },
  {
   "cell_type": "markdown",
   "metadata": {},
   "source": [
    "##### Vector padding"
   ]
  },
  {
   "cell_type": "code",
   "execution_count": 30,
   "metadata": {},
   "outputs": [
    {
     "name": "stdout",
     "output_type": "stream",
     "text": [
      "Before padding: ( 8 elements )\n",
      " [1873, 147, 6, 3476, 324, 15, 29, 141]\n",
      "\n",
      "After padding: ( 180 elements )\n",
      " [   0    0    0    0    0    0    0    0    0    0    0    0    0    0\n",
      "    0    0    0    0    0    0    0    0    0    0    0    0    0    0\n",
      "    0    0    0    0    0    0    0    0    0    0    0    0    0    0\n",
      "    0    0    0    0    0    0    0    0    0    0    0    0    0    0\n",
      "    0    0    0    0    0    0    0    0    0    0    0    0    0    0\n",
      "    0    0    0    0    0    0    0    0    0    0    0    0    0    0\n",
      "    0    0    0    0    0    0    0    0    0    0    0    0    0    0\n",
      "    0    0    0    0    0    0    0    0    0    0    0    0    0    0\n",
      "    0    0    0    0    0    0    0    0    0    0    0    0    0    0\n",
      "    0    0    0    0    0    0    0    0    0    0    0    0    0    0\n",
      "    0    0    0    0    0    0    0    0    0    0    0    0    0    0\n",
      "    0    0    0    0    0    0    0    0    0    0    0    0    0    0\n",
      "    0    0    0    0 1873  147    6 3476  324   15   29  141]\n"
     ]
    }
   ],
   "source": [
    "maxlen = 180\n",
    "fixed_sequences_train = pad_sequences(tokenized_sequences_train, maxlen=maxlen)\n",
    "fixed_sequences_test = pad_sequences(tokenized_sequences_test, maxlen=maxlen)\n",
    "\n",
    "print('Before padding: (', len(tokenized_sequences_train[6]) ,'elements )\\n', tokenized_sequences_train[6])\n",
    "print('\\nAfter padding: (', len(fixed_sequences_train[6]) ,'elements )\\n', fixed_sequences_train[6])"
   ]
  },
  {
   "cell_type": "markdown",
   "metadata": {},
   "source": [
    "### Building the model"
   ]
  },
  {
   "cell_type": "code",
   "execution_count": 31,
   "metadata": {},
   "outputs": [],
   "source": [
    "# Initialize all params used in both solutions of bulding the model\n",
    "# Commented params are tuned by Grid Search\n",
    "embedding_output_dim = 64\n",
    "lstm_units = 100\n",
    "# dropout_rate = 0.2 \n",
    "dense_units = 50\n",
    "n_classes = len(classes_names)"
   ]
  },
  {
   "cell_type": "code",
   "execution_count": 32,
   "metadata": {},
   "outputs": [],
   "source": [
    "# Params for model training\n",
    "batch_size = 64\n",
    "epochs = 2"
   ]
  },
  {
   "cell_type": "markdown",
   "metadata": {},
   "source": [
    "##### First version of model; Grid Search is not possible to execute with this solution\n",
    "<font color=\"LIGHTSALMON\">All cells from section below made raw ('R'); to enable them again, press 'Y' on each of them</font>"
   ]
  },
  {
   "cell_type": "raw",
   "metadata": {},
   "source": [
    "input_layer = Input(shape=(maxlen, ))\n",
    "embedding_layer = Embedding(input_dim=num_words, output_dim=embedding_output_dim)(input_layer)\n",
    "lstm_layer = LSTM(units=lstm_units, return_sequences=True, recurrent_dropout=0.2)(embedding_layer)\n",
    "max_pooling_layer = GlobalMaxPool1D()(lstm_layer)\n",
    "dropout_layer = Dropout(rate=dropout_rate)(max_pooling_layer)\n",
    "relu_layer = Dense(units=dense_units, activation='relu')(dropout_layer)\n",
    "sigmoid_layer = Dense(n_classes, activation='sigmoid')(relu_layer)"
   ]
  },
  {
   "cell_type": "raw",
   "metadata": {},
   "source": [
    "model = Model(inputs=input_layer, outputs=sigmoid_layer)\n",
    "model.compile(loss='binary_crossentropy', optimizer='adam', metrics=['accuracy'])"
   ]
  },
  {
   "cell_type": "markdown",
   "metadata": {},
   "source": [
    "##### Tuning params with Grid Search"
   ]
  },
  {
   "cell_type": "code",
   "execution_count": 33,
   "metadata": {},
   "outputs": [],
   "source": [
    "def create_model(dropout_rate=0.1):\n",
    "    model = Sequential()\n",
    "    model.add(Embedding(input_dim=num_words, output_dim=embedding_output_dim))\n",
    "    model.add(LSTM(units=lstm_units, return_sequences=True, recurrent_dropout=0.2))\n",
    "    model.add(GlobalMaxPool1D())\n",
    "    model.add(Dropout(rate=dropout_rate))\n",
    "    model.add(Dense(units=dense_units, activation='relu'))\n",
    "    model.add(Dense(n_classes, activation='sigmoid'))\n",
    "    \n",
    "    model.compile(loss='binary_crossentropy', optimizer='adam', metrics=['accuracy'])\n",
    "    return model"
   ]
  },
  {
   "cell_type": "code",
   "execution_count": 34,
   "metadata": {},
   "outputs": [],
   "source": [
    "model = KerasClassifier(build_fn=create_model, epochs=epochs, batch_size=batch_size, validation_split=0.1, verbose=1)\n",
    "\n",
    "dropout_rate = [0.2, 0.4]\n",
    "param_grid = dict(dropout_rate=dropout_rate)\n",
    "grid = GridSearchCV(estimator=model, param_grid=param_grid, n_jobs=-1)"
   ]
  },
  {
   "cell_type": "markdown",
   "metadata": {},
   "source": [
    "### Model training"
   ]
  },
  {
   "cell_type": "code",
   "execution_count": 35,
   "metadata": {},
   "outputs": [],
   "source": [
    "X_train = fixed_sequences_train\n",
    "y_train = labels_train"
   ]
  },
  {
   "cell_type": "markdown",
   "metadata": {},
   "source": [
    "##### <font color=\"LIGHTSALMON\">Classic training - not used, made raw ('R'); to enable them again, press 'Y'</font>"
   ]
  },
  {
   "cell_type": "raw",
   "metadata": {},
   "source": [
    "model.fit(X_train, y_train, batch_size=batch_size, epochs=epochs, validation_split=0.1)\n",
    "model.summary()"
   ]
  },
  {
   "cell_type": "markdown",
   "metadata": {},
   "source": [
    "##### Training with Grid Search"
   ]
  },
  {
   "cell_type": "code",
   "execution_count": null,
   "metadata": {},
   "outputs": [],
   "source": [
    "grid_result = grid.fit(X_train, y_train)"
   ]
  },
  {
   "cell_type": "code",
   "execution_count": 44,
   "metadata": {},
   "outputs": [
    {
     "name": "stdout",
     "output_type": "stream",
     "text": [
      "Best params: {'dropout_rate': 0.2} (0.981812)\n"
     ]
    }
   ],
   "source": [
    "print(\"Best params: %s (%f)\" % (grid_result.best_params_, grid_result.best_score_))"
   ]
  },
  {
   "cell_type": "code",
   "execution_count": 55,
   "metadata": {},
   "outputs": [
    {
     "name": "stdout",
     "output_type": "stream",
     "text": [
      "All results:\n",
      "\n",
      "Set of params: {'dropout_rate': 0.2}\n",
      " Mean: (0.981812); Standard deviation: 0.000457\n",
      "\n",
      "Set of params: {'dropout_rate': 0.4}\n",
      " Mean: (0.981774); Standard deviation: 0.000395\n"
     ]
    }
   ],
   "source": [
    "params = grid_result.cv_results_['params']\n",
    "means = grid_result.cv_results_['mean_test_score']\n",
    "stds = grid_result.cv_results_['std_test_score']\n",
    "print('All results:')\n",
    "for param, mean, std in zip(params, means, stds):\n",
    "    print('\\nSet of params: %r\\n Mean: (%f); Standard deviation: %f' % (param, mean, std))"
   ]
  },
  {
   "cell_type": "code",
   "execution_count": 35,
   "metadata": {},
   "outputs": [],
   "source": [
    "name_model_file = 'best-model-gridsearch.json'\n",
    "name_weights_file = 'best-weights-gridsearch.h5'\n",
    "\n",
    "def save_model_to_JSON(model):\n",
    "    model_json = model.to_json()\n",
    "    with open(f'{MODEL_PATH}{name_model_file}', 'w') as json_file:\n",
    "        json_file.write(model_json)\n",
    "    print('Saved model to disk')\n",
    "        \n",
    "def save_weights_to_HDF5(model):\n",
    "    model.save_weights(f'{MODEL_PATH}{name_weights_file}')\n",
    "    print('Saved weights to disk')\n",
    "\n",
    "def load_json_wih_weights_to_model():\n",
    "    json_file = open(f'{MODEL_PATH}{name_model_file}', 'r')\n",
    "    loaded_model_json = json_file.read()\n",
    "    json_file.close()\n",
    "    loaded_model = model_from_json(loaded_model_json)\n",
    "    loaded_model.load_weights(f'{MODEL_PATH}{name_weights_file}')\n",
    "    print('Loaded model with weights from disk')\n",
    "    return loaded_model"
   ]
  },
  {
   "cell_type": "code",
   "execution_count": 60,
   "metadata": {},
   "outputs": [
    {
     "name": "stdout",
     "output_type": "stream",
     "text": [
      "Saved model to disk\n",
      "Saved weights to disk\n"
     ]
    }
   ],
   "source": [
    "# Save model\n",
    "best_model = grid_result.best_estimator_.model\n",
    "save_model_to_JSON(best_model)\n",
    "save_weights_to_HDF5(best_model)"
   ]
  },
  {
   "cell_type": "code",
   "execution_count": 38,
   "metadata": {},
   "outputs": [
    {
     "name": "stdout",
     "output_type": "stream",
     "text": [
      "Loaded model with weights from disk\n",
      "_________________________________________________________________\n",
      "Layer (type)                 Output Shape              Param #   \n",
      "=================================================================\n",
      "embedding_1 (Embedding)      (None, None, 64)          1600000   \n",
      "_________________________________________________________________\n",
      "lstm_1 (LSTM)                (None, None, 100)         66000     \n",
      "_________________________________________________________________\n",
      "global_max_pooling1d_1 (Glob (None, 100)               0         \n",
      "_________________________________________________________________\n",
      "dropout_1 (Dropout)          (None, 100)               0         \n",
      "_________________________________________________________________\n",
      "dense_1 (Dense)              (None, 50)                5050      \n",
      "_________________________________________________________________\n",
      "dense_2 (Dense)              (None, 6)                 306       \n",
      "=================================================================\n",
      "Total params: 1,671,356\n",
      "Trainable params: 1,671,356\n",
      "Non-trainable params: 0\n",
      "_________________________________________________________________\n"
     ]
    }
   ],
   "source": [
    "# Load model\n",
    "loaded_model = load_json_wih_weights_to_model()\n",
    "loaded_model.summary()"
   ]
  },
  {
   "cell_type": "markdown",
   "metadata": {},
   "source": [
    "##### Predicting on test dataset and create submission file"
   ]
  },
  {
   "cell_type": "code",
   "execution_count": 61,
   "metadata": {},
   "outputs": [],
   "source": [
    "X_test = fixed_sequences_test\n",
    "y_test = best_model.predict([X_test], batch_size=1024)"
   ]
  },
  {
   "cell_type": "code",
   "execution_count": 62,
   "metadata": {},
   "outputs": [],
   "source": [
    "sample_submission = pd.read_csv(f'{INPUT_PATH}sample_submission.csv')\n",
    "sample_submission[classes_names] = y_test\n",
    "sample_submission.to_csv(f'{SUBMISSION_PATH}submission.csv', index=False)"
   ]
  },
  {
   "cell_type": "markdown",
   "metadata": {},
   "source": [
    "##### Manual model testing"
   ]
  },
  {
   "cell_type": "code",
   "execution_count": 63,
   "metadata": {},
   "outputs": [],
   "source": [
    "def prepare_comment(comment):\n",
    "    tokenized_comment = tokenizer.texts_to_sequences(comment)\n",
    "    return pad_sequences(tokenized_comment, maxlen=maxlen)"
   ]
  },
  {
   "cell_type": "code",
   "execution_count": 70,
   "metadata": {},
   "outputs": [
    {
     "name": "stdout",
     "output_type": "stream",
     "text": [
      "\n",
      "No toxicity detected!\n",
      "\n",
      " \\ (•◡•) /\n",
      "\n",
      "All results:\n",
      "       toxic severe_toxic   obscene    threat    insult identity_hate\n",
      "0  0.193931     0.000994  0.026451  0.004569  0.029543      0.010934\n"
     ]
    }
   ],
   "source": [
    "single_comment = 'You are nice!'\n",
    "single_prediction = best_model.predict([prepare_comment([single_comment])], batch_size=1024)\n",
    "results = pd.DataFrame(single_prediction, columns=[classes_names])\n",
    "\n",
    "class_with_highest_prob = results.idxmax(axis=1).get(0)[0]\n",
    "highest_prob = results.max(axis=1).get(0)\n",
    "\n",
    "happy_face = '\\ (•◡•) /'\n",
    "sad_face = '¯\\_(ツ)_/¯'\n",
    "\n",
    "if (highest_prob > .5):\n",
    "    print('\\nDeteced class: ', class_with_highest_prob, '\\nScore: ', highest_prob * 100, ' %\\n\\n', sad_face)\n",
    "else:\n",
    "    print('\\nNo toxicity detected!\\n\\n', happy_face)\n",
    "print('\\nAll results:\\n', results)"
   ]
  },
  {
   "cell_type": "markdown",
   "metadata": {},
   "source": [
    "##### <font color=\"#7affa0\">TODO:</font>\n",
    "- <font color=\"green\">✔</font> add plot of spammers classification based on variable spam_ratio\n",
    "- try to use new features from EDA during model fitting\n",
    "- execute SearchGrid of model's params\n",
    "- try diffrent values of num_words (Tokenizer), maxlen (padding) (SearchGrid here not possible)\n",
    "- <font color=\"green\">✔</font> update Tensorflow to GPU version\n",
    "- try diffrent architectures e.g. Pooling (Max -> Average), Early Stopping and Checkpoints (callbacks), Pretrained Embedding (Glove), LSTM with Bidirectional\n",
    "\n",
    "##### <font color=\"#a07aff\">Konsultacje:</font>\n",
    "- Klasyfikacja dwupoziomowa: binarna (clean/toxic data) + wieloetykietowa (tylko toxic data); dwa klasyfikatory\n",
    "- Dataset jest niezrównoważony (10/90); klasyfikacja niezrównoważona\n",
    "- Oversampling (sprawdzić)\n",
    "- Sprawdzić macierz pomyłek\n",
    "- Klasyfikacja hierarchiczna (np. severe toxic zawsze jest toxic)\n",
    "- <b>Zrobić przegląd literatury</b>"
   ]
  }
 ],
 "metadata": {
  "kernelspec": {
   "display_name": "Python 3",
   "language": "python",
   "name": "python3"
  },
  "language_info": {
   "codemirror_mode": {
    "name": "ipython",
    "version": 3
   },
   "file_extension": ".py",
   "mimetype": "text/x-python",
   "name": "python",
   "nbconvert_exporter": "python",
   "pygments_lexer": "ipython3",
   "version": "3.6.3"
  }
 },
 "nbformat": 4,
 "nbformat_minor": 2
}
