{
 "cells": [
  {
   "cell_type": "markdown",
   "metadata": {},
   "source": [
    "#### Imports and settings"
   ]
  },
  {
   "cell_type": "code",
   "execution_count": 4,
   "metadata": {
    "scrolled": true
   },
   "outputs": [
    {
     "name": "stderr",
     "output_type": "stream",
     "text": [
      "Using TensorFlow backend.\n"
     ]
    },
    {
     "data": {
      "application/javascript": [
       "if (!(\"Notification\" in window)) {\n",
       "    alert(\"This browser does not support desktop notifications, so the %%notify magic will not work.\");\n",
       "} else if (Notification.permission !== 'granted' && Notification.permission !== 'denied') {\n",
       "    Notification.requestPermission(function (permission) {\n",
       "        if(!('permission' in Notification)) {\n",
       "            Notification.permission = permission;\n",
       "        }\n",
       "    })\n",
       "}\n"
      ],
      "text/plain": [
       "<IPython.core.display.Javascript object>"
      ]
     },
     "metadata": {},
     "output_type": "display_data"
    },
    {
     "name": "stdout",
     "output_type": "stream",
     "text": [
      "Intel-optimized TensorFlow is enabled: True\n"
     ]
    }
   ],
   "source": [
    "import warnings\n",
    "warnings.simplefilter(action='ignore', category=FutureWarning)\n",
    "\n",
    "from random import randint\n",
    "import numpy as np\n",
    "import matplotlib.pyplot as plt\n",
    "import pandas as pd\n",
    "import seaborn as sns\n",
    "from sklearn.model_selection import GridSearchCV\n",
    "from sklearn.metrics import confusion_matrix\n",
    "import tensorflow as tf\n",
    "\n",
    "from wordcloud import WordCloud, STOPWORDS\n",
    "from keras.preprocessing.text import Tokenizer\n",
    "from keras.preprocessing.sequence import pad_sequences\n",
    "from keras.layers import Input, Embedding, GlobalMaxPool1D, LSTM, Dropout, Dense\n",
    "from keras.layers.convolutional import Conv1D, MaxPooling1D\n",
    "from keras.models import Model, Sequential\n",
    "from keras.wrappers.scikit_learn import KerasClassifier\n",
    "from keras.models import model_from_json\n",
    "from keras import backend as K\n",
    "from keras.callbacks import EarlyStopping, ModelCheckpoint\n",
    "from keras.initializers import Constant\n",
    "\n",
    "with warnings.catch_warnings():\n",
    "    warnings.filterwarnings(\"ignore\",category=FutureWarning)\n",
    "    import h5py\n",
    "tf.logging.set_verbosity(tf.logging.ERROR)\n",
    "\n",
    "%matplotlib inline\n",
    "%reload_ext jupyternotify\n",
    "\n",
    "print('Intel-optimized TensorFlow is enabled:', tf.pywrap_tensorflow.IsMklEnabled())"
   ]
  },
  {
   "cell_type": "markdown",
   "metadata": {},
   "source": [
    "#### Customize IDE (currently raw)"
   ]
  },
  {
   "cell_type": "raw",
   "metadata": {},
   "source": [
    "# IDE theme\n",
    "!jt -t chesterish -f roboto -fs 9 -nfs 11"
   ]
  },
  {
   "cell_type": "code",
   "execution_count": 5,
   "metadata": {},
   "outputs": [],
   "source": [
    "# Font color on plots \n",
    "COLOR = 'A9B0C2'\n",
    "plt.rcParams['text.color'] = COLOR\n",
    "plt.rcParams['axes.labelcolor'] = COLOR\n",
    "plt.rcParams['xtick.color'] = COLOR\n",
    "plt.rcParams['ytick.color'] = COLOR\n",
    "\n",
    "plt.rcParams[\"figure.figsize\"] = [10,5]"
   ]
  },
  {
   "cell_type": "markdown",
   "metadata": {},
   "source": [
    "#### Load datasets and pretrained models"
   ]
  },
  {
   "cell_type": "code",
   "execution_count": 6,
   "metadata": {},
   "outputs": [],
   "source": [
    "INPUT_PATH = '../input/'\n",
    "SUBMISSION_PATH = '../submission/'\n",
    "MODEL_PATH = '../model/'\n",
    "PRETRAINED_PATH = '../pretrained-models/'\n",
    "\n",
    "train = pd.read_csv(f'{INPUT_PATH}train.csv')\n",
    "test = pd.read_csv(f'{INPUT_PATH}test.csv')\n",
    "test_labels = pd.read_csv(f'{INPUT_PATH}test_labels.csv')"
   ]
  },
  {
   "cell_type": "markdown",
   "metadata": {},
   "source": [
    "### EDA (Exploratory data analysis)"
   ]
  },
  {
   "cell_type": "code",
   "execution_count": 7,
   "metadata": {
    "scrolled": true
   },
   "outputs": [
    {
     "data": {
      "text/plain": [
       "id               False\n",
       "comment_text     False\n",
       "toxic            False\n",
       "severe_toxic     False\n",
       "obscene          False\n",
       "threat           False\n",
       "insult           False\n",
       "identity_hate    False\n",
       "dtype: bool"
      ]
     },
     "execution_count": 7,
     "metadata": {},
     "output_type": "execute_result"
    }
   ],
   "source": [
    "train.isnull().any()"
   ]
  },
  {
   "cell_type": "code",
   "execution_count": 8,
   "metadata": {
    "scrolled": true
   },
   "outputs": [
    {
     "data": {
      "text/plain": [
       "id              False\n",
       "comment_text    False\n",
       "dtype: bool"
      ]
     },
     "execution_count": 8,
     "metadata": {},
     "output_type": "execute_result"
    }
   ],
   "source": [
    "test.isnull().any()"
   ]
  },
  {
   "cell_type": "code",
   "execution_count": 9,
   "metadata": {
    "scrolled": true
   },
   "outputs": [
    {
     "data": {
      "text/html": [
       "<div>\n",
       "<style scoped>\n",
       "    .dataframe tbody tr th:only-of-type {\n",
       "        vertical-align: middle;\n",
       "    }\n",
       "\n",
       "    .dataframe tbody tr th {\n",
       "        vertical-align: top;\n",
       "    }\n",
       "\n",
       "    .dataframe thead th {\n",
       "        text-align: right;\n",
       "    }\n",
       "</style>\n",
       "<table border=\"1\" class=\"dataframe\">\n",
       "  <thead>\n",
       "    <tr style=\"text-align: right;\">\n",
       "      <th></th>\n",
       "      <th>id</th>\n",
       "      <th>comment_text</th>\n",
       "      <th>toxic</th>\n",
       "      <th>severe_toxic</th>\n",
       "      <th>obscene</th>\n",
       "      <th>threat</th>\n",
       "      <th>insult</th>\n",
       "      <th>identity_hate</th>\n",
       "    </tr>\n",
       "  </thead>\n",
       "  <tbody>\n",
       "    <tr>\n",
       "      <th>0</th>\n",
       "      <td>0000997932d777bf</td>\n",
       "      <td>Explanation\\nWhy the edits made under my usern...</td>\n",
       "      <td>0</td>\n",
       "      <td>0</td>\n",
       "      <td>0</td>\n",
       "      <td>0</td>\n",
       "      <td>0</td>\n",
       "      <td>0</td>\n",
       "    </tr>\n",
       "    <tr>\n",
       "      <th>1</th>\n",
       "      <td>000103f0d9cfb60f</td>\n",
       "      <td>D'aww! He matches this background colour I'm s...</td>\n",
       "      <td>0</td>\n",
       "      <td>0</td>\n",
       "      <td>0</td>\n",
       "      <td>0</td>\n",
       "      <td>0</td>\n",
       "      <td>0</td>\n",
       "    </tr>\n",
       "    <tr>\n",
       "      <th>2</th>\n",
       "      <td>000113f07ec002fd</td>\n",
       "      <td>Hey man, I'm really not trying to edit war. It...</td>\n",
       "      <td>0</td>\n",
       "      <td>0</td>\n",
       "      <td>0</td>\n",
       "      <td>0</td>\n",
       "      <td>0</td>\n",
       "      <td>0</td>\n",
       "    </tr>\n",
       "    <tr>\n",
       "      <th>3</th>\n",
       "      <td>0001b41b1c6bb37e</td>\n",
       "      <td>\"\\nMore\\nI can't make any real suggestions on ...</td>\n",
       "      <td>0</td>\n",
       "      <td>0</td>\n",
       "      <td>0</td>\n",
       "      <td>0</td>\n",
       "      <td>0</td>\n",
       "      <td>0</td>\n",
       "    </tr>\n",
       "    <tr>\n",
       "      <th>4</th>\n",
       "      <td>0001d958c54c6e35</td>\n",
       "      <td>You, sir, are my hero. Any chance you remember...</td>\n",
       "      <td>0</td>\n",
       "      <td>0</td>\n",
       "      <td>0</td>\n",
       "      <td>0</td>\n",
       "      <td>0</td>\n",
       "      <td>0</td>\n",
       "    </tr>\n",
       "  </tbody>\n",
       "</table>\n",
       "</div>"
      ],
      "text/plain": [
       "                 id                                       comment_text  toxic  \\\n",
       "0  0000997932d777bf  Explanation\\nWhy the edits made under my usern...      0   \n",
       "1  000103f0d9cfb60f  D'aww! He matches this background colour I'm s...      0   \n",
       "2  000113f07ec002fd  Hey man, I'm really not trying to edit war. It...      0   \n",
       "3  0001b41b1c6bb37e  \"\\nMore\\nI can't make any real suggestions on ...      0   \n",
       "4  0001d958c54c6e35  You, sir, are my hero. Any chance you remember...      0   \n",
       "\n",
       "   severe_toxic  obscene  threat  insult  identity_hate  \n",
       "0             0        0       0       0              0  \n",
       "1             0        0       0       0              0  \n",
       "2             0        0       0       0              0  \n",
       "3             0        0       0       0              0  \n",
       "4             0        0       0       0              0  "
      ]
     },
     "execution_count": 9,
     "metadata": {},
     "output_type": "execute_result"
    }
   ],
   "source": [
    "train.head()"
   ]
  },
  {
   "cell_type": "code",
   "execution_count": 10,
   "metadata": {
    "scrolled": true
   },
   "outputs": [
    {
     "name": "stdout",
     "output_type": "stream",
     "text": [
      "Samples in train dataset:  159571 ( 51 % )\n",
      "Samples in test dataset:  153164 ( 49 % )\n"
     ]
    }
   ],
   "source": [
    "n_train = train.shape[0]\n",
    "n_test = test.shape[0]\n",
    "print(\"Samples in train dataset: \", n_train, \"(\", round(n_train * 100 / (n_train + n_test)), \"% )\")\n",
    "print(\"Samples in test dataset: \", n_test, \"(\", round(n_test  *100 / (n_train + n_test)), \"% )\")"
   ]
  },
  {
   "cell_type": "code",
   "execution_count": 11,
   "metadata": {},
   "outputs": [],
   "source": [
    "# Do not operate on original test dataset during EDA\n",
    "train_extended = train.reset_index(drop=True)"
   ]
  },
  {
   "cell_type": "code",
   "execution_count": 12,
   "metadata": {},
   "outputs": [
    {
     "name": "stdout",
     "output_type": "stream",
     "text": [
      "Clean:  143346 ( 90.0 % )\n",
      "Toxic:  16225 ( 10.0 % )\n"
     ]
    }
   ],
   "source": [
    "comments_labels_train = train_extended.iloc[:,2:]\n",
    "comments_labels_sums = comments_labels_train.sum(axis=1)\n",
    "train_extended[\"clean\"] = (comments_labels_sums == 0)\n",
    "n_clean_samples = train_extended[\"clean\"].sum()\n",
    "n_toxic_samples = len(train_extended) - n_clean_samples\n",
    "print(\"Clean: \", n_clean_samples, \"(\", round(n_clean_samples * 100 / len(train_extended)), \"% )\")\n",
    "print(\"Toxic: \", n_toxic_samples, \"(\", round(n_toxic_samples * 100 / len(train_extended)), \"% )\")"
   ]
  },
  {
   "cell_type": "markdown",
   "metadata": {},
   "source": [
    "###### <font color=\"LIGHTSALMON\">The large majority of train dataset are comments labelled as clean</font>"
   ]
  },
  {
   "cell_type": "code",
   "execution_count": 13,
   "metadata": {
    "scrolled": false
   },
   "outputs": [
    {
     "data": {
      "image/png": "[encoded data removed]",
      "text/plain": [
       "<Figure size 720x360 with 1 Axes>"
      ]
     },
     "metadata": {
      "needs_background": "dark"
     },
     "output_type": "display_data"
    }
   ],
   "source": [
    "# extended by 'clean' column\n",
    "summed_labels_extended_train = train_extended.iloc[:,2:].sum()\n",
    "\n",
    "plt.figure(figsize=(10,5))\n",
    "plt.title(\"Samples per class\")\n",
    "plt.ylabel(\"Number of samples\")\n",
    "plt.xlabel(\"Class name\")\n",
    "ax = sns.barplot(summed_labels_extended_train.index, summed_labels_extended_train.values, palette=\"Blues_d\")\n",
    "plt.show()"
   ]
  },
  {
   "cell_type": "code",
   "execution_count": 14,
   "metadata": {},
   "outputs": [],
   "source": [
    "imbalance_ratios_class_names = {}\n",
    "imbalance_ratios_class_nums = {}\n",
    "for label in range(len(summed_labels_extended_train) - 1):\n",
    "    ratio_label = n_clean_samples / summed_labels_extended_train.get(label)\n",
    "    imbalance_ratios_class_nums[label] = round(ratio_label, 2)\n",
    "    imbalance_ratios_class_names[summed_labels_extended_train.index[label]] = round(ratio_label, 2)"
   ]
  },
  {
   "cell_type": "code",
   "execution_count": 15,
   "metadata": {
    "scrolled": true
   },
   "outputs": [
    {
     "data": {
      "image/png": "[encoded data removed]",
      "text/plain": [
       "<Figure size 720x360 with 1 Axes>"
      ]
     },
     "metadata": {
      "needs_background": "dark"
     },
     "output_type": "display_data"
    },
    {
     "name": "stdout",
     "output_type": "stream",
     "text": [
      "1    6360\n",
      "3    4209\n",
      "2    3480\n",
      "4    1760\n",
      "5     385\n",
      "6      31\n",
      "dtype: int64\n"
     ]
    }
   ],
   "source": [
    "# without '0 classes' (clean comments)\n",
    "multiple_classes_occurance = comments_labels_sums.value_counts().iloc[1:]\n",
    "\n",
    "plt.figure(figsize=(10,5))\n",
    "plt.title(\"Number of classes per sample\")\n",
    "plt.ylabel(\"Number of samples\")\n",
    "plt.xlabel(\"Number of classes\")\n",
    "ax = sns.barplot(multiple_classes_occurance.index, multiple_classes_occurance.values, palette=\"Blues_d\")\n",
    "plt.show()\n",
    "print(multiple_classes_occurance)"
   ]
  },
  {
   "cell_type": "code",
   "execution_count": 16,
   "metadata": {},
   "outputs": [
    {
     "name": "stdout",
     "output_type": "stream",
     "text": [
      "Single-classed toxic comments: 39.20 %\n",
      "Multiple-classed toxic comments: 60.80 %\n"
     ]
    }
   ],
   "source": [
    "print(\"Single-classed toxic comments:\", '{0:.2f}'.format(multiple_classes_occurance.get(1) / n_toxic_samples * 100), '%')\n",
    "print(\"Multiple-classed toxic comments:\", '{0:.2f}'.format(multiple_classes_occurance[1:].sum() / n_toxic_samples * 100), '%')"
   ]
  },
  {
   "cell_type": "markdown",
   "metadata": {},
   "source": [
    "###### <font color=\"LIGHTSALMON\">Most of toxic comments has more than one toxic class</font>"
   ]
  },
  {
   "cell_type": "markdown",
   "metadata": {},
   "source": [
    "#### Example samples"
   ]
  },
  {
   "cell_type": "code",
   "execution_count": 17,
   "metadata": {},
   "outputs": [],
   "source": [
    "def get_random_sample(comments_group):\n",
    "    min_samples_in_class = comments_labels_train.sum().min() - 1\n",
    "    return comments_group.iloc[randint(0, min_samples_in_class), 1]"
   ]
  },
  {
   "cell_type": "code",
   "execution_count": 18,
   "metadata": {},
   "outputs": [
    {
     "name": "stdout",
     "output_type": "stream",
     "text": [
      "Toxic:\n",
      "\n",
      "> Yeah, he said he'd never heard of Ferrara, what a crook, the name bad lieutenant just appeared to him in a german sausage.\n",
      "\n",
      " --- \n",
      "\n",
      "Severe toxic:\n",
      "\n",
      "> FUCK YOU \n",
      "\n",
      "70.17.2.2 Forever\n",
      "\n",
      " --- \n",
      "\n",
      "Obscene:\n",
      "\n",
      "> ur so immature fr3nzi3,im 17 and ur not evn debating.ur a 6 year old baby and im like an adult,nobody likes you.anyway,everybody doesn't like any fat assholes like u.grown-ups fight like a man,i fight using words like swearin' like eminem dos in is songs.u don't evn have a brain,shit wat a crazy guy.\n",
      "user:dark-hooded smoker\n",
      "\n",
      " --- \n",
      "\n",
      "Threat:\n",
      "\n",
      "> \"\n",
      "\n",
      " A knife for you! \n",
      "\n",
      "  A knife for you! One of this days, I am going to cut you into little pieces…   \"\n",
      "\n",
      " --- \n",
      "\n",
      "Insult:\n",
      "\n",
      "> YEAH\n",
      "\n",
      "looking thorough history and stuff, get a life, you sad little man, get off your arse a get a life, find better things to do than governing things on Wikipedia, I BET UOU LIKE THE SMELL OF YOUR OWN SHIT, I BET YOU GARGLE YOUR OWN PISS, I BET YOU LIKE TO WANK OFF TO KIDDY PORN, YOU SADDO, YOU FUCKING SADDO, FUCK OFF AND DIIIIIIIEEEEEEEEE\n",
      "\n",
      " --- \n",
      "\n",
      "Identity hate:\n",
      "\n",
      "> Dude this guy is so gay.\n",
      "\n",
      " --- \n",
      "\n",
      "Clean:\n",
      "\n",
      "> \"\n",
      "Ok. But it will take a bit of work but I can't quite picture it. Do you have an example I can base it on?  the Duck \"\n"
     ]
    }
   ],
   "source": [
    "toxic_samples = train_extended[train_extended.toxic == 1]\n",
    "severe_toxic_samples = train_extended[train_extended.severe_toxic == 1]\n",
    "obscene_samples = train_extended[train_extended.obscene == 1]\n",
    "threat_samples = train_extended[train_extended.threat == 1]\n",
    "insult_samples = train_extended[train_extended.insult == 1]\n",
    "identity_hate_samples = train_extended[train_extended.identity_hate == 1]\n",
    "clean_samples = train_extended[train_extended.clean == 1]\n",
    "\n",
    "print(\"Toxic:\\n\\n>\", get_random_sample(toxic_samples))\n",
    "print(\"\\n --- \\n\\nSevere toxic:\\n\\n>\", get_random_sample(severe_toxic_samples))\n",
    "print(\"\\n --- \\n\\nObscene:\\n\\n>\", get_random_sample(obscene_samples))\n",
    "print(\"\\n --- \\n\\nThreat:\\n\\n>\", get_random_sample(threat_samples))\n",
    "print(\"\\n --- \\n\\nInsult:\\n\\n>\", get_random_sample(insult_samples))\n",
    "print(\"\\n --- \\n\\nIdentity hate:\\n\\n>\", get_random_sample(identity_hate_samples))\n",
    "print(\"\\n --- \\n\\nClean:\\n\\n>\", get_random_sample(clean_samples))"
   ]
  },
  {
   "cell_type": "markdown",
   "metadata": {},
   "source": [
    "#### Wordclouds"
   ]
  },
  {
   "cell_type": "raw",
   "metadata": {},
   "source": [
    "stopwords=set(STOPWORDS)\n",
    "\n",
    "wordcloud_toxic = WordCloud(max_words=1000, stopwords=stopwords, colormap=\"Reds\")\n",
    "wordcloud_toxic.generate(\" \".join(toxic_samples.comment_text.values))\n",
    "\n",
    "wordcloud_clean = WordCloud(max_words=1000, stopwords=stopwords, colormap=\"Greens\")\n",
    "wordcloud_clean.generate(\" \".join(clean_samples.comment_text.values))"
   ]
  },
  {
   "cell_type": "raw",
   "metadata": {
    "scrolled": false
   },
   "source": [
    "plt.figure(figsize=(15,10))\n",
    "\n",
    "plt.subplot(211)\n",
    "plt.title(\"Wordcloud of \\'toxic\\' class\")\n",
    "plt.imshow(wordcloud_toxic, interpolation='bilinear')\n",
    "plt.axis(\"off\")\n",
    "\n",
    "plt.subplot(212)\n",
    "plt.axis(\"off\")\n",
    "plt.title(\"Wordcloud of \\'clean\\' class\")\n",
    "plt.imshow(wordcloud_clean, interpolation='bilinear')\n",
    "\n",
    "plt.show()"
   ]
  },
  {
   "cell_type": "markdown",
   "metadata": {},
   "source": [
    "#### Spam significance "
   ]
  },
  {
   "cell_type": "code",
   "execution_count": 19,
   "metadata": {},
   "outputs": [],
   "source": [
    "train_extended['n_unique_words'] = train_extended[\"comment_text\"].apply(lambda x: len(set(str(x).split())))\n",
    "train_extended['n_words'] = train_extended[\"comment_text\"].apply(lambda x: len(str(x).split()))\n",
    "train_extended['unique_words_per'] = train_extended['n_unique_words'] * 100 / train_extended['n_words']"
   ]
  },
  {
   "cell_type": "markdown",
   "metadata": {},
   "source": [
    "###### <font color=\"LIGHTSALMON\">Spam ratio (coefficient) =  unique words in comment / number of words in comment</font>"
   ]
  },
  {
   "cell_type": "code",
   "execution_count": 20,
   "metadata": {},
   "outputs": [
    {
     "name": "stdout",
     "output_type": "stream",
     "text": [
      "For spam coefficient equal 10%:\n",
      "\n",
      "Clean spammers:  67 ( 19 % )\n",
      "Toxic spammers:  292 ( 81 % )\n",
      "\n",
      "There are 4.36 times more toxic spammers than clean ones!\n"
     ]
    }
   ],
   "source": [
    "spam_ratio = 10\n",
    "spammers = train_extended[train_extended['unique_words_per'] < spam_ratio]\n",
    "clean_spammers = spammers[spammers['clean'] == True]\n",
    "toxic_spammers = spammers[spammers['clean'] == False]\n",
    "n_clean_spammers = clean_spammers.shape[0]\n",
    "n_toxic_spammers = toxic_spammers.shape[0]\n",
    "n_spammers = spammers.shape[0]\n",
    "print('For spam coefficient equal 10%:\\n')\n",
    "print('Clean spammers: ', n_clean_spammers, \"(\", round(n_clean_spammers * 100 / n_spammers), \"% )\")\n",
    "print('Toxic spammers: ', n_toxic_spammers, \"(\", round(n_toxic_spammers * 100 / n_spammers), \"% )\")\n",
    "print('\\nThere are', '{0:.2f}'.format(n_toxic_spammers / n_clean_spammers), \n",
    "      'times more toxic spammers than clean ones!')"
   ]
  },
  {
   "cell_type": "code",
   "execution_count": 21,
   "metadata": {
    "scrolled": false
   },
   "outputs": [],
   "source": [
    "spam_ratio_values = np.arange(0, 41, 1)\n",
    "n_clean_spammers_values = []\n",
    "n_toxic_spammers_values = []\n",
    "for spam_ratio in spam_ratio_values:\n",
    "    curr_spammers = train_extended[train_extended['unique_words_per'] < spam_ratio]\n",
    "    curr_clean_spammers = curr_spammers[curr_spammers['clean'] == True]\n",
    "    curr_toxic_spammers = curr_spammers[curr_spammers['clean'] == False]\n",
    "    n_clean_spammers_values.append(curr_clean_spammers.shape[0])\n",
    "    n_toxic_spammers_values.append(curr_toxic_spammers.shape[0])"
   ]
  },
  {
   "cell_type": "code",
   "execution_count": 22,
   "metadata": {},
   "outputs": [
    {
     "data": {
      "image/png": "[encoded data removed]",
      "text/plain": [
       "<Figure size 720x360 with 1 Axes>"
      ]
     },
     "metadata": {
      "needs_background": "dark"
     },
     "output_type": "display_data"
    }
   ],
   "source": [
    "plt.title(\"Number of spammers depending on the spam coefficient\", fontsize=12)\n",
    "\n",
    "plt.plot(spam_ratio_values, n_clean_spammers_values)\n",
    "plt.fill_between(spam_ratio_values, n_clean_spammers_values, 0, color='blue', alpha=0.4)  \n",
    "plt.plot(spam_ratio_values, n_toxic_spammers_values, 'r')\n",
    "plt.fill_between(spam_ratio_values, n_toxic_spammers_values, 0, color='red', alpha=0.2) \n",
    "\n",
    "plt.legend(['Clean spammers', 'Toxic spammers'])\n",
    "plt.ylabel('Number of users', fontsize=12)\n",
    "plt.xlabel('Value of spam coefficient [%]', fontsize=12)\n",
    "plt.xlim(0, 40)\n",
    "plt.ylim(0, 370)\n",
    "plt.show()"
   ]
  },
  {
   "cell_type": "code",
   "execution_count": 23,
   "metadata": {
    "scrolled": true
   },
   "outputs": [
    {
     "name": "stdout",
     "output_type": "stream",
     "text": [
      "Sample clean spam:\n",
      "\n",
      "> OH LAWDY.\n",
      "OH LAWDY.\n",
      "OH LAWDY.\n",
      "OH LAWDY.\n",
      "OH LAWDY.\n",
      "OH LAWDY.\n",
      "OH LAWDY.\n",
      "OH LAWDY.\n",
      "OH LAWDY.\n",
      "OH LAWDY.\n",
      "OH LAWDY.\n",
      "OH LAWDY.\n",
      "OH LAWDY.\n",
      "OH LAWDY.\n",
      "OH LAWDY.\n",
      "OH LAWDY.\n",
      "OH LAWDY.\n",
      "OH LAWDY.\n",
      "OH LAWDY.\n",
      "OH LAWDY.\n",
      "OH LAWDY.\n",
      "OH LAWDY.\n",
      "OH LAWDY.\n",
      "OH LAWDY.\n",
      "OH LAWDY.\n",
      "OH LAWDY.\n",
      "OH LAWDY.\n",
      "OH LAWDY.\n",
      "OH LAWDY.\n",
      "OH LAWDY.\n",
      "OH LAWDY.\n",
      "OH LAWDY.\n",
      "OH LAWDY.\n",
      "OH LAWDY.\n",
      "OH LAWDY.\n",
      "OH LAWDY.\n",
      "OH LAWDY.\n",
      "OH LAWDY.\n",
      "OH LAWDY.\n",
      "OH LAWDY.\n",
      "OH LAWDY.\n",
      "OH LAWDY.\n",
      "OH LAWDY.\n",
      "OH LAWDY.\n",
      "OH LAWDY.\n",
      "OH LAWDY.\n",
      "OH LAWDY.\n",
      "OH LAWDY.\n",
      "OH LAWDY.\n",
      "OH LAWDY.\n",
      "OH LAWDY.\n",
      "OH LAWDY.\n",
      "OH LAWDY.\n",
      "OH LAWDY.\n",
      "OH LAWDY.\n",
      "OH LAWDY.\n",
      "OH LAWDY.\n",
      "OH LAWDY.\n",
      "OH LAWDY.\n",
      "OH LAWDY.\n",
      "OH LAWDY.\n",
      "OH LAWDY.\n",
      "OH LAWDY.\n",
      "OH LAWDY.\n",
      "OH LAWDY.\n",
      "OH LAWDY.\n",
      "OH LAWDY.\n",
      "OH LAWDY.\n",
      "OH LAWDY.\n",
      "OH LAWDY.\n",
      "OH LAWDY.\n",
      "OH LAWDY.\n",
      "OH LAWDY.\n",
      "OH LAWDY.\n",
      "OH LAWDY.\n",
      "OH LAWDY.\n",
      "OH LAWDY.\n",
      "OH LAWDY.\n",
      "OH LAWDY.\n",
      "OH LAWDY.\n",
      "OH LAWDY.\n",
      "OH LAWDY.\n",
      "OH LAWDY.\n",
      "OH LAWDY.\n",
      "OH LAWDY.\n",
      "OH LAWDY.\n",
      "OH LAWDY.\n",
      "OH LAWDY.\n",
      "OH LAWDY.\n",
      "OH LAWDY.\n",
      "OH LAWDY.\n",
      "OH LAWDY.\n",
      "OH LAWDY.\n",
      "OH LAWDY.\n",
      "OH LAWDY.\n",
      "OH LAWDY.\n",
      "OH LAWDY.\n",
      "OH LAWDY.\n",
      "OH LAWDY.\n",
      "OH LAWDY.\n",
      "OH LAWDY.\n",
      "OH LAWDY.\n",
      "OH LAWDY.\n",
      "OH LAWDY.\n",
      "OH LAWDY.\n",
      "OH LAWDY.\n",
      "OH LAWDY.\n",
      "OH LAWDY.\n",
      "OH LAWDY.\n",
      "OH LAWDY.\n",
      "OH LAWDY.\n",
      "OH LAWDY.\n",
      "OH LAWDY.\n",
      "OH LAWDY.\n",
      "OH LAWDY.\n",
      "OH LAWDY.\n",
      "OH LAWDY.\n",
      "OH LAWDY.\n",
      "OH LAWDY.\n",
      "OH LAWDY.\n",
      "OH LAWDY.\n",
      "OH LAWDY.\n",
      "OH LAWDY.\n",
      "OH LAWDY.\n",
      "OH LAWDY.\n",
      "OH LAWDY.\n",
      "OH LAWDY.\n",
      "OH LAWDY.\n",
      "OH LAWDY.\n",
      "OH LAWDY.\n",
      "OH LAWDY.\n",
      "OH LAWDY.\n",
      "OH LAWDY.\n",
      "OH LAWDY.\n",
      "OH LAWDY.\n",
      "OH LAWDY.\n",
      "OH LAWDY.\n",
      "OH LAWDY.\n",
      "OH LAWDY.\n",
      "OH LAWDY.\n",
      "OH LAWDY.\n",
      "OH LAWDY.\n",
      "OH LAWDY.\n",
      "OH LAWDY.\n",
      "OH LAWDY.\n",
      "OH LAWDY.\n",
      "OH LAWDY.\n",
      "OH LAWDY.\n",
      "OH LAWDY.\n",
      "OH LAWDY.\n",
      "OH LAWDY.\n",
      "OH LAWDY.\n",
      "OH LAWDY.\n",
      "OH LAWDY.\n",
      "OH LAWDY.\n",
      "OH LAWDY.\n",
      "OH LAWDY.\n",
      "OH LAWDY.\n",
      "OH LAWDY.\n",
      "OH LAWDY.\n",
      "OH LAWDY.\n",
      "OH LAWDY.\n",
      "OH LAWDY.\n",
      "OH LAWDY.\n",
      "OH LAWDY.\n",
      "OH LAWDY.\n",
      "OH LAWDY.\n",
      "OH LAWDY.\n",
      "OH LAWDY.\n",
      "OH LAWDY.\n",
      "OH LAWDY.\n",
      "OH LAWDY.\n",
      "OH LAWDY.\n",
      "OH LAWDY.\n",
      "OH LAWDY.\n",
      "OH LAWDY.\n",
      "OH LAWDY.\n",
      "OH LAWDY.\n",
      "OH LAWDY.\n",
      "OH LAWDY.\n",
      "OH LAWDY.\n",
      "OH LAWDY.\n",
      "OH LAWDY.\n",
      "OH LAWDY.\n",
      "OH LAWDY.\n",
      "OH LAWDY.\n",
      "OH LAWDY.\n",
      "OH LAWDY.\n",
      "OH LAWDY.\n",
      "OH LAWDY.\n",
      "OH LAWDY.\n",
      "OH LAWDY.\n",
      "OH LAWDY.\n",
      "OH LAWDY.\n",
      "OH LAWDY.\n",
      "OH LAWDY.\n",
      "OH LAWDY.\n",
      "OH LAWDY.\n",
      "OH LAWDY.\n",
      "OH LAWDY.\n",
      "OH LAWDY.\n",
      "OH LAWDY.\n",
      "OH LAWDY.\n",
      "OH LAWDY.\n",
      "OH LAWDY.\n",
      "OH LAWDY.\n",
      "OH LAWDY.\n",
      "OH LAWDY.\n",
      "OH LAWDY.\n",
      "OH LAWDY.\n",
      "OH LAWDY.\n",
      "OH LAWDY.\n",
      "OH LAWDY.\n",
      "OH LAWDY.\n",
      "OH LAWDY.\n",
      "OH LAWDY.\n",
      "OH LAWDY.\n",
      "OH LAWDY.\n",
      "OH LAWDY.\n",
      "OH LAWDY.\n",
      "OH LAWDY.\n",
      "OH LAWDY.\n",
      "OH LAWDY.\n",
      "OH LAWDY.\n",
      "OH LAWDY.\n",
      "OH LAWDY.\n",
      "OH LAWDY.\n",
      "OH LAWDY.\n",
      "OH LAWDY.\n",
      "OH LAWDY.\n",
      "OH LAWDY.\n",
      "OH LAWDY.\n",
      "OH LAWDY.\n",
      "OH LAWDY.\n",
      "OH LAWDY.\n",
      "OH LAWDY.\n",
      "OH LAWDY.\n",
      "OH LAWDY.\n",
      "OH LAWDY.\n",
      "OH LAWDY.\n",
      "OH LAWDY.\n",
      "OH LAWDY.\n",
      "OH LAWDY.\n",
      "OH LAWDY.\n",
      "OH LAWDY.\n",
      "OH LAWDY.\n",
      "OH LAWDY.\n",
      "OH LAWDY.\n",
      "OH LAWDY.\n",
      "OH LAWDY.\n",
      "OH LAWDY.\n",
      "OH LAWDY.\n",
      "OH LAWDY.\n",
      "OH LAWDY.\n",
      "OH LAWDY.\n",
      "OH LAWDY.\n",
      "OH LAWDY.\n",
      "OH LAWDY.\n",
      "OH LAWDY.\n",
      "OH LAWDY.\n",
      "OH LAWDY.\n",
      "OH LAWDY.\n",
      "OH LAWDY.\n",
      "OH LAWDY.\n",
      "OH LAWDY.\n",
      "OH LAWDY.\n",
      "OH LAWDY.\n",
      "OH LAWDY.\n",
      "OH LAWDY.\n",
      "OH LAWDY.\n",
      "OH LAWDY.\n",
      "OH LAWDY.\n",
      "OH LAWDY.\n",
      "OH LAWDY.\n",
      "OH LAWDY.\n",
      "OH LAWDY.\n",
      "OH LAWDY.\n",
      "OH LAWDY.\n",
      "OH LAWDY.\n",
      "OH LAWDY.\n",
      "OH LAWDY.\n",
      "OH LAWDY.\n",
      "OH LAWDY.\n",
      "OH LAWDY.\n",
      "OH LAWDY.\n",
      "OH LAWDY.\n",
      "OH LAWDY.\n",
      "OH LAWDY.\n",
      "OH LAWDY.\n",
      "OH LAWDY.\n",
      "OH LAWDY.\n",
      "OH LAWDY.\n",
      "OH LAWDY.\n",
      "OH LAWDY.\n",
      "OH LAWDY.\n",
      "OH LAWDY.\n",
      "OH LAWDY.\n",
      "OH LAWDY.\n",
      "OH LAWDY.\n",
      "OH LAWDY.\n",
      "OH LAWDY.\n",
      "OH LAWDY.\n",
      "OH LAWDY.\n",
      "OH LAWDY.\n",
      "OH LAWDY.\n",
      "OH LAWDY.\n",
      "OH LAWDY.\n",
      "OH LAWDY.\n",
      "OH LAWDY.\n",
      "OH LAWDY.\n",
      "OH LAWDY.\n",
      "OH LAWDY.\n",
      "O\n",
      "\n",
      " --- \n",
      "\n",
      "Sample toxic spam:\n",
      "\n",
      "> Hanibal911You're a bastard Pro-Assad.Hanibal911You're a bastard Pro-Assad.Hanibal911You're a bastard Pro-Assad.Hanibal911You're a bastard Pro-Assad.Hanibal911You're a bastard Pro-Assad.Hanibal911You're a bastard Pro-Assad.Hanibal911You're a bastard Pro-Assad.Hanibal911You're a bastard Pro-Assad.Hanibal911You're a bastard Pro-Assad.Hanibal911You're a bastard Pro-Assad.Hanibal911You're a bastard Pro-Assad.Hanibal911You're a bastard Pro-Assad.Hanibal911You're a bastard Pro-Assad.Hanibal911You're a bastard Pro-Assad.Hanibal911You're a bastard Pro-Assad.Hanibal911You're a bastard Pro-Assad.Hanibal911You're a bastard Pro-Assad.Hanibal911You're a bastard Pro-Assad.Hanibal911You're a bastard Pro-Assad.Hanibal911You're a bastard Pro-Assad.Hanibal911You're a bastard Pro-Assad.Hanibal911You're a bastard Pro-Assad.Hanibal911You're a bastard Pro-Assad.Hanibal911You're a bastard Pro-Assad.Hanibal911You're a bastard Pro-Assad.Hanibal911You're a bastard Pro-Assad.Hanibal911You're a bastard Pro-Assad.Hanibal911You're a bastard Pro-Assad.Hanibal911You're a bastard Pro-Assad.Hanibal911You're a bastard Pro-Assad.Hanibal911You're a bastard Pro-Assad.Hanibal911You're a bastard Pro-Assad.Hanibal911You're a bastard Pro-Assad.Hanibal911You're a bastard Pro-Assad.Hanibal911You're a bastard Pro-Assad.Hanibal911You're a bastard Pro-Assad.Hanibal911You're a bastard Pro-Assad.Hanibal911You're a bastard Pro-Assad.Hanibal911You're a bastard Pro-Assad.Hanibal911You're a bastard Pro-Assad.Hanibal911You're a bastard Pro-Assad.Hanibal911You're a bastard Pro-Assad.Hanibal911You're a bastard Pro-Assad.Hanibal911You're a bastard Pro-Assad.Hanibal911You're a bastard Pro-Assad.Hanibal911You're a bastard Pro-Assad.Hanibal911You're a bastard Pro-Assad.Hanibal911You're a bastard Pro-Assad.Hanibal911You're a bastard Pro-Assad.Hanibal911You're a bastard Pro-Assad.Hanibal911You're a bastard Pro-Assad.Hanibal911You're a bastard Pro-Assad.Hanibal911You're a bastard Pro-Assad.Hanibal911You're a bastard Pro-Assad.Hanibal911You're a bastard Pro-Assad.Hanibal911You're a bastard Pro-Assad.Hanibal911You're a bastard Pro-Assad.Hanibal911You're a bastard Pro-Assad.Hanibal911You're a bastard Pro-Assad.Hanibal911You're a bastard Pro-Assad.Hanibal911You're a bastard Pro-Assad.Hanibal911You're a bastard Pro-Assad.Hanibal911You're a bastard Pro-Assad.Hanibal911You're a bastard Pro-Assad.Hanibal911You're a bastard Pro-Assad.Hanibal911You're a bastard Pro-Assad.Hanibal911You're a bastard Pro-Assad.Hanibal911You're a bastard Pro-Assad.Hanibal911You're a bastard Pro-Assad.Hanibal911You're a bastard Pro-Assad.Hanibal911You're a bastard Pro-Assad.Hanibal911You're a bastard Pro-Assad.Hanibal911You're a bastard Pro-Assad.Hanibal911You're a bastard Pro-Assad.Hanibal911You're a bastard Pro-Assad.Hanibal911You're a bastard Pro-Assad.Hanibal911You're a bastard Pro-Assad.Hanibal911You're a bastard Pro-Assad.Hanibal911You're a bastard Pro-Assad.Hanibal911You're a bastard Pro-Assad.Hanibal911You're a bastard Pro-Assad.Hanibal911You're a bastard Pro-Assad.Hanibal911You're a bastard Pro-Assad.Hanibal911You're a bastard Pro-Assad.Hanibal911You're a bastard Pro-Assad.Hanibal911You're a bastard Pro-Assad.Hanibal911You're a bastard Pro-Assad.Hanibal911You're a bastard Pro-Assad.Hanibal911You're a bastard Pro-Assad.Hanibal911You're a bastard Pro-Assad.Hanibal911You're a bastard Pro-Assad.Hanibal911You're a bastard Pro-Assad.Hanibal911You're a bastard Pro-Assad.Hanibal911You're a bastard Pro-Assad.Hanibal911You're a bastard Pro-Assad.Hanibal911You're a bastard Pro-Assad.Hanibal911You're a bastard Pro-Assad.Hanibal911You're a bastard Pro-Assad.Hanibal911You're a bastard Pro-Assad.Hanibal911You're a bastard Pro-Assad.Hanibal911You're a bastard Pro-Assad.Hanibal911You're a bastard Pro-Assad.Hanibal911You're a bastard Pro-Assad.Hanibal911You're a bastard Pro-Assad.Hanibal911You're a bastard Pro-Assad.Hanibal911You're a bastard Pro-Assad.Hanibal911You're a bastard Pro-Assad.Hanibal911You're a bastard Pro-Assad.Hanibal911You're a bastard Pro-Assad.Hanibal911You're a bastard Pro-Assad.Hanibal911You're a bastard Pro-Assad.Hanibal911You're a bastard Pro-Assad.Hanibal911You're a bastard Pro-Assad.Hanibal911You're a bastard Pro-Assad.Hanibal911You're a bastard Pro-Assad.Hanibal911You're a bastard Pro-Assad.Hanibal911You're a bastard Pro-Assad.Hanibal911You're a bastard Pro-Assad.Hanibal911You're a bastard Pro-Assad.Hanibal911You're a bastard Pro-Assad.Hanibal911You're a bastard Pro-Assad.Hanibal911You're a bastard Pro-Assad.Hanibal911You're a bastard Pro-Assad.Hanibal911You're a bastard Pro-Assad.Hanibal911You're a bastard Pro-Assad.Hanibal911You're a bastard Pro-Assad.Hanibal911You're a bastard Pro-Assad.Hanibal911You're a bastard Pro-Assad.Hanibal911You're a bastard Pro-Assad.Hanibal911You're a bastard Pro-Assad.Hanibal911You're a bastard Pro-Assad.Hanibal911You're a bastard Pro-Assad.Hanibal911You're a bastard Pro-Assad.Hanibal911You're a bastard Pro-Assad.Hanibal911You're a bastard P\n"
     ]
    }
   ],
   "source": [
    "spam_min_index = min(n_clean_spammers, n_toxic_spammers) - 1\n",
    "print(\"Sample clean spam:\\n\\n>\", clean_spammers.iloc[randint(0, spam_min_index)].comment_text)\n",
    "print(\"\\n --- \\n\\nSample toxic spam:\\n\\n>\", toxic_spammers.iloc[randint(0, spam_min_index)].comment_text)"
   ]
  },
  {
   "cell_type": "markdown",
   "metadata": {},
   "source": [
    "### Prepare data for model training"
   ]
  },
  {
   "cell_type": "markdown",
   "metadata": {},
   "source": [
    "#####  Custom Tokenizer"
   ]
  },
  {
   "cell_type": "code",
   "execution_count": 24,
   "metadata": {},
   "outputs": [],
   "source": [
    "classes_names = train.columns.values[2:]\n",
    "labels_train = train[classes_names].values\n",
    "comments_train = train[\"comment_text\"]\n",
    "comments_test = test[\"comment_text\"]"
   ]
  },
  {
   "cell_type": "code",
   "execution_count": 25,
   "metadata": {},
   "outputs": [
    {
     "name": "stdout",
     "output_type": "stream",
     "text": [
      "Found 210337 unique words.\n"
     ]
    }
   ],
   "source": [
    "num_words = 25000\n",
    "tokenizer = Tokenizer(num_words=num_words)\n",
    "tokenizer.fit_on_texts(list(comments_train))\n",
    "print('Found %d unique words.' % len(tokenizer.word_index))"
   ]
  },
  {
   "cell_type": "code",
   "execution_count": 26,
   "metadata": {},
   "outputs": [
    {
     "data": {
      "text/plain": [
       "{'the': 1,\n",
       " 'to': 2,\n",
       " 'of': 3,\n",
       " 'and': 4,\n",
       " 'a': 5,\n",
       " 'you': 6,\n",
       " 'i': 7,\n",
       " 'is': 8,\n",
       " 'that': 9,\n",
       " 'in': 10,\n",
       " 'it': 11,\n",
       " 'for': 12,\n",
       " 'this': 13,\n",
       " 'not': 14,\n",
       " 'on': 15,\n",
       " 'be': 16,\n",
       " 'as': 17,\n",
       " 'have': 18,\n",
       " 'are': 19,\n",
       " 'your': 20}"
      ]
     },
     "execution_count": 26,
     "metadata": {},
     "output_type": "execute_result"
    }
   ],
   "source": [
    "# Check first 20 unique words with the highest occurance from our dictonary\n",
    "dict(list(tokenizer.word_index.items())[0:20])"
   ]
  },
  {
   "cell_type": "markdown",
   "metadata": {},
   "source": [
    "##### Pre-trained GloVe model"
   ]
  },
  {
   "cell_type": "code",
   "execution_count": 27,
   "metadata": {},
   "outputs": [
    {
     "name": "stdout",
     "output_type": "stream",
     "text": [
      "Found 400000 word vectors.\n"
     ]
    }
   ],
   "source": [
    "glove_model = f'{PRETRAINED_PATH}glove.6B.100d.txt'\n",
    "\n",
    "embeddings_index = {}\n",
    "f = open(glove_model, encoding='utf8')\n",
    "for line in f:\n",
    "    values = line.split()\n",
    "    word = values[0]\n",
    "    coefs = np.asarray(values[1:], dtype='float32')\n",
    "    embeddings_index[word] = coefs\n",
    "f.close()\n",
    "print('Found %s word vectors.' % len(embeddings_index))"
   ]
  },
  {
   "cell_type": "code",
   "execution_count": 28,
   "metadata": {},
   "outputs": [],
   "source": [
    "# Prepare embedding matrix\n",
    "custom_word_index = tokenizer.word_index\n",
    "embedding_output_dim = 100\n",
    "\n",
    "resultant_num_words = min(num_words, len(custom_word_index)) + 1\n",
    "embedding_matrix = np.zeros((resultant_num_words, embedding_output_dim))\n",
    "\n",
    "for word, i in custom_word_index.items():\n",
    "    if i > num_words:\n",
    "        continue\n",
    "    embedding_vector = embeddings_index.get(word)\n",
    "    if embedding_vector is not None:\n",
    "        # words not found in embedding index will be all-zeros\n",
    "        embedding_matrix[i] = embedding_vector"
   ]
  },
  {
   "cell_type": "markdown",
   "metadata": {},
   "source": [
    "#####  Comments tokenizing"
   ]
  },
  {
   "cell_type": "code",
   "execution_count": 29,
   "metadata": {},
   "outputs": [],
   "source": [
    "tokenized_sequences_train = tokenizer.texts_to_sequences(comments_train)\n",
    "tokenized_sequences_test = tokenizer.texts_to_sequences(comments_test)"
   ]
  },
  {
   "cell_type": "code",
   "execution_count": 30,
   "metadata": {},
   "outputs": [
    {
     "data": {
      "image/png": "[encoded data removed]",
      "text/plain": [
       "<Figure size 720x360 with 1 Axes>"
      ]
     },
     "metadata": {
      "needs_background": "dark"
     },
     "output_type": "display_data"
    }
   ],
   "source": [
    "# Analysis of lengths of comments (maxlen param)\n",
    "n_words_comments = [len(comment) for comment in tokenized_sequences_train]\n",
    "plt.hist(n_words_comments, bins=np.arange(0,300,5))\n",
    "plt.show()"
   ]
  },
  {
   "cell_type": "markdown",
   "metadata": {},
   "source": [
    "##### Vector padding"
   ]
  },
  {
   "cell_type": "code",
   "execution_count": 31,
   "metadata": {},
   "outputs": [
    {
     "name": "stdout",
     "output_type": "stream",
     "text": [
      "Before padding: ( 8 elements )\n",
      " [1873, 147, 6, 3476, 324, 15, 29, 141]\n",
      "\n",
      "After padding: ( 180 elements )\n",
      " [   0    0    0    0    0    0    0    0    0    0    0    0    0    0\n",
      "    0    0    0    0    0    0    0    0    0    0    0    0    0    0\n",
      "    0    0    0    0    0    0    0    0    0    0    0    0    0    0\n",
      "    0    0    0    0    0    0    0    0    0    0    0    0    0    0\n",
      "    0    0    0    0    0    0    0    0    0    0    0    0    0    0\n",
      "    0    0    0    0    0    0    0    0    0    0    0    0    0    0\n",
      "    0    0    0    0    0    0    0    0    0    0    0    0    0    0\n",
      "    0    0    0    0    0    0    0    0    0    0    0    0    0    0\n",
      "    0    0    0    0    0    0    0    0    0    0    0    0    0    0\n",
      "    0    0    0    0    0    0    0    0    0    0    0    0    0    0\n",
      "    0    0    0    0    0    0    0    0    0    0    0    0    0    0\n",
      "    0    0    0    0    0    0    0    0    0    0    0    0    0    0\n",
      "    0    0    0    0 1873  147    6 3476  324   15   29  141]\n"
     ]
    }
   ],
   "source": [
    "maxlen = 180\n",
    "fixed_sequences_train = pad_sequences(tokenized_sequences_train, maxlen=maxlen)\n",
    "fixed_sequences_test = pad_sequences(tokenized_sequences_test, maxlen=maxlen)\n",
    "\n",
    "print('Before padding: (', len(tokenized_sequences_train[6]) ,'elements )\\n', tokenized_sequences_train[6])\n",
    "print('\\nAfter padding: (', len(fixed_sequences_train[6]) ,'elements )\\n', fixed_sequences_train[6])"
   ]
  },
  {
   "cell_type": "markdown",
   "metadata": {},
   "source": [
    "##### <font color=\"red\">!</font> Oversampling"
   ]
  },
  {
   "cell_type": "code",
   "execution_count": 32,
   "metadata": {},
   "outputs": [
    {
     "name": "stdout",
     "output_type": "stream",
     "text": [
      "(159571, 180) (159571, 6)\n",
      "(793200, 180) (793200, 5)\n"
     ]
    }
   ],
   "source": [
    "# One column in y_train is cut\n",
    "\n",
    "from imblearn.over_sampling import SMOTE, RandomOverSampler, ADASYN\n",
    "\n",
    "X_train = fixed_sequences_train\n",
    "y_train = labels_train\n",
    "\n",
    "adasyn = ADASYN(random_state=42)\n",
    "smote = SMOTE(random_state=42)\n",
    "ros = RandomOverSampler(random_state=0)\n",
    "\n",
    "X_resampled, y_resampled = smote.fit_resample(X_train, y_train)\n",
    "print(X_train.shape, y_train.shape)\n",
    "print(X_resampled.shape, y_resampled.shape)"
   ]
  },
  {
   "cell_type": "raw",
   "metadata": {},
   "source": [
    "# 'KerasClassifier' object has no attribute 'fit_generator'\n",
    "\n",
    "from imblearn.keras import BalancedBatchGenerator\n",
    "\n",
    "training_generator = BalancedBatchGenerator(\n",
    "    X_train, y_train, sampler=RandomOverSampler(), batch_size=10, random_state=42)\n",
    "callback_history = model.fit_generator(generator=training_generator, epochs=10, verbose=0)"
   ]
  },
  {
   "cell_type": "markdown",
   "metadata": {},
   "source": [
    "### Building the model"
   ]
  },
  {
   "cell_type": "code",
   "execution_count": 33,
   "metadata": {},
   "outputs": [],
   "source": [
    "# Params for model training\n",
    "batch_size = 64\n",
    "epochs = 2\n",
    "n_classes = len(classes_names)"
   ]
  },
  {
   "cell_type": "markdown",
   "metadata": {},
   "source": [
    "##### Tuning params with Grid Search"
   ]
  },
  {
   "cell_type": "code",
   "execution_count": 34,
   "metadata": {},
   "outputs": [],
   "source": [
    "def create_model(lstm_units = 100, \n",
    "                 lstm_recurrent_dropout = 0.2, \n",
    "                 lstm_return_sequences = True, \n",
    "                 dropout_rate = 0.2, \n",
    "                 relu_dense_units = 50, \n",
    "                 optimizer = 'adam'):\n",
    "    model = Sequential()\n",
    "    model.add(Embedding(input_dim=resultant_num_words,\n",
    "                        output_dim=embedding_output_dim,\n",
    "                        embeddings_initializer=Constant(embedding_matrix),\n",
    "                        input_length=maxlen,\n",
    "                        trainable=False))\n",
    "    model.add(LSTM(units=lstm_units, \n",
    "                   return_sequences=lstm_return_sequences, \n",
    "                   recurrent_dropout=lstm_recurrent_dropout))\n",
    "    model.add(GlobalMaxPool1D())\n",
    "    model.add(Dropout(rate=dropout_rate))\n",
    "    model.add(Dense(units=relu_dense_units, activation='relu'))\n",
    "    model.add(Dense(n_classes, activation='sigmoid'))\n",
    "    \n",
    "    model.compile(loss='binary_crossentropy',\n",
    "                  optimizer=optimizer,\n",
    "                  metrics=['accuracy'])\n",
    "    return model"
   ]
  },
  {
   "cell_type": "code",
   "execution_count": 35,
   "metadata": {},
   "outputs": [],
   "source": [
    "param_grid = {\n",
    "    'lstm_units': [100],\n",
    "    'dropout_rate': [0.2],\n",
    "    'optimizer': ['adam'],\n",
    "    'relu_dense_units': [50],\n",
    "    'lstm_recurrent_dropout': [0.2],\n",
    "    'lstm_return_sequences': [True]\n",
    "}"
   ]
  },
  {
   "cell_type": "code",
   "execution_count": 36,
   "metadata": {},
   "outputs": [],
   "source": [
    "# Define callbacks\n",
    "name_checkpoint_file = 'checkpoint.weights.hdf5'\n",
    "checkpoint = ModelCheckpoint(filepath=f'{MODEL_PATH}{name_checkpoint_file}',\n",
    "                             monitor='val_loss',\n",
    "                             mode='min',\n",
    "                             verbose=2,\n",
    "                             save_best_only=True)\n",
    "early_stopping = EarlyStopping(monitor='val_loss', mode=\"min\", patience=20)\n",
    "\n",
    "callbacks_list = [checkpoint, early_stopping]"
   ]
  },
  {
   "cell_type": "code",
   "execution_count": 74,
   "metadata": {},
   "outputs": [],
   "source": [
    "model = KerasClassifier(build_fn=create_model, \n",
    "                        epochs=epochs, \n",
    "                        batch_size=batch_size, \n",
    "                        validation_split=0.1,\n",
    "                        verbose=2)\n",
    "\n",
    "grid = GridSearchCV(estimator=model, param_grid=param_grid, cv=3)"
   ]
  },
  {
   "cell_type": "markdown",
   "metadata": {},
   "source": [
    "### Model training"
   ]
  },
  {
   "cell_type": "code",
   "execution_count": 75,
   "metadata": {},
   "outputs": [
    {
     "name": "stdout",
     "output_type": "stream",
     "text": [
      "Train on 95742 samples, validate on 10638 samples\n",
      "Epoch 1/2\n",
      " - 314s - loss: 0.9294 - acc: 0.9733 - val_loss: 0.6536 - val_acc: 0.9789\n",
      "\n",
      "Epoch 00001: val_loss improved from inf to 0.65362, saving model to ../model/checkpoint.weights.hdf5\n",
      "Epoch 2/2\n",
      " - 310s - loss: 0.6420 - acc: 0.9798 - val_loss: 0.5620 - val_acc: 0.9800\n",
      "\n",
      "Epoch 00002: val_loss improved from 0.65362 to 0.56199, saving model to ../model/checkpoint.weights.hdf5\n",
      "Train on 95742 samples, validate on 10639 samples\n",
      "Epoch 1/2\n",
      " - 304s - loss: 0.8694 - acc: 0.9740 - val_loss: 0.5984 - val_acc: 0.9792\n",
      "\n",
      "Epoch 00001: val_loss did not improve from 0.56199\n",
      "Epoch 2/2\n",
      " - 302s - loss: 0.6215 - acc: 0.9798 - val_loss: 0.5470 - val_acc: 0.9801\n",
      "\n",
      "Epoch 00002: val_loss improved from 0.56199 to 0.54696, saving model to ../model/checkpoint.weights.hdf5\n",
      "Train on 95742 samples, validate on 10639 samples\n",
      "Epoch 1/2\n",
      " - 307s - loss: 0.9256 - acc: 0.9722 - val_loss: 0.6044 - val_acc: 0.9807\n",
      "\n",
      "Epoch 00001: val_loss did not improve from 0.54696\n",
      "Epoch 2/2\n",
      " - 304s - loss: 0.6409 - acc: 0.9796 - val_loss: 0.5641 - val_acc: 0.9816\n",
      "\n",
      "Epoch 00002: val_loss did not improve from 0.54696\n",
      "Train on 143613 samples, validate on 15958 samples\n",
      "Epoch 1/2\n",
      " - 458s - loss: 0.7868 - acc: 0.9761 - val_loss: 0.6505 - val_acc: 0.9790\n",
      "\n",
      "Epoch 00001: val_loss did not improve from 0.54696\n",
      "Epoch 2/2\n",
      " - 454s - loss: 0.5916 - acc: 0.9806 - val_loss: 0.6088 - val_acc: 0.9810\n",
      "\n",
      "Epoch 00002: val_loss did not improve from 0.54696\n"
     ]
    }
   ],
   "source": [
    "X_train = fixed_sequences_train\n",
    "y_train = labels_train\n",
    "\n",
    "grid_result = grid.fit(X_train, y_train, class_weight=imbalance_ratios_class_nums, callbacks=callbacks_list)"
   ]
  },
  {
   "cell_type": "code",
   "execution_count": 76,
   "metadata": {},
   "outputs": [
    {
     "name": "stdout",
     "output_type": "stream",
     "text": [
      "Best params:\n",
      " {'dropout_rate': 0.2, 'lstm_recurrent_dropout': 0.2, 'lstm_return_sequences': True, 'lstm_units': 100, 'optimizer': 'adam', 'relu_dense_units': 50} (score: 0.980902)\n"
     ]
    }
   ],
   "source": [
    "print(\"Best params:\\n %s (score: %f)\" % (grid_result.best_params_, grid_result.best_score_))"
   ]
  },
  {
   "cell_type": "code",
   "execution_count": 77,
   "metadata": {},
   "outputs": [
    {
     "name": "stdout",
     "output_type": "stream",
     "text": [
      "All results:\n",
      "\n",
      "Set of params:\n",
      " {'dropout_rate': 0.2, 'lstm_recurrent_dropout': 0.2, 'lstm_return_sequences': True, 'lstm_units': 100, 'optimizer': 'adam', 'relu_dense_units': 50}\n",
      " Mean: (0.980902); Standard deviation: 0.000364\n"
     ]
    }
   ],
   "source": [
    "params = grid_result.cv_results_['params']\n",
    "means = grid_result.cv_results_['mean_test_score']\n",
    "stds = grid_result.cv_results_['std_test_score']\n",
    "print('All results:')\n",
    "for param, mean, std in zip(params, means, stds):\n",
    "    print('\\nSet of params:\\n %r\\n Mean: (%f); Standard deviation: %f' % (param, mean, std))"
   ]
  },
  {
   "cell_type": "markdown",
   "metadata": {},
   "source": [
    "##### Save and load model"
   ]
  },
  {
   "cell_type": "code",
   "execution_count": 78,
   "metadata": {},
   "outputs": [],
   "source": [
    "name_model_file = 'glove-embeddings.model.json'\n",
    "name_weights_file = 'glove-embeddings.weights.h5'\n",
    "\n",
    "def save_model_to_JSON(model):\n",
    "    model_json = model.to_json()\n",
    "    with open(f'{MODEL_PATH}{name_model_file}', 'w') as json_file:\n",
    "        json_file.write(model_json)\n",
    "    print('Saved model to disk')\n",
    "        \n",
    "def save_weights_to_HDF5(model):\n",
    "    model.save_weights(f'{MODEL_PATH}{name_weights_file}')\n",
    "    print('Saved weights to disk')\n",
    "\n",
    "def load_json_wih_weights_to_model(name_model_file, name_weights_file):\n",
    "    json_file = open(f'{MODEL_PATH}{name_model_file}', 'r')\n",
    "    loaded_model_json = json_file.read()\n",
    "    json_file.close()\n",
    "    loaded_model = model_from_json(loaded_model_json)\n",
    "    loaded_model.load_weights(f'{MODEL_PATH}{name_weights_file}')\n",
    "    print('Loaded model with weights from disk')\n",
    "    return loaded_model"
   ]
  },
  {
   "cell_type": "code",
   "execution_count": 79,
   "metadata": {},
   "outputs": [
    {
     "name": "stdout",
     "output_type": "stream",
     "text": [
      "Saved model to disk\n",
      "Saved weights to disk\n"
     ]
    }
   ],
   "source": [
    "# Save model\n",
    "best_model = grid_result.best_estimator_.model\n",
    "save_model_to_JSON(best_model)\n",
    "save_weights_to_HDF5(best_model)"
   ]
  },
  {
   "cell_type": "code",
   "execution_count": 80,
   "metadata": {},
   "outputs": [
    {
     "name": "stdout",
     "output_type": "stream",
     "text": [
      "Loaded model with weights from disk\n",
      "_________________________________________________________________\n",
      "Layer (type)                 Output Shape              Param #   \n",
      "=================================================================\n",
      "embedding_4 (Embedding)      (None, 180, 100)          2500100   \n",
      "_________________________________________________________________\n",
      "lstm_4 (LSTM)                (None, 180, 100)          80400     \n",
      "_________________________________________________________________\n",
      "global_max_pooling1d_4 (Glob (None, 100)               0         \n",
      "_________________________________________________________________\n",
      "dropout_4 (Dropout)          (None, 100)               0         \n",
      "_________________________________________________________________\n",
      "dense_7 (Dense)              (None, 50)                5050      \n",
      "_________________________________________________________________\n",
      "dense_8 (Dense)              (None, 6)                 306       \n",
      "=================================================================\n",
      "Total params: 2,585,856\n",
      "Trainable params: 85,756\n",
      "Non-trainable params: 2,500,100\n",
      "_________________________________________________________________\n"
     ]
    }
   ],
   "source": [
    "# Load model\n",
    "loaded_model = load_json_wih_weights_to_model(name_model_file, name_weights_file)\n",
    "loaded_model.summary()"
   ]
  },
  {
   "cell_type": "markdown",
   "metadata": {},
   "source": [
    "##### Predicting on test dataset"
   ]
  },
  {
   "cell_type": "code",
   "execution_count": 41,
   "metadata": {},
   "outputs": [],
   "source": [
    "def drop_entries_with_invalid_labels(test, test_labels):\n",
    "    indexes_invalid_labels = test_labels.index[test_labels['toxic'] == -1].tolist()\n",
    "    valid_test_labels = test_labels.drop(test_labels.index[indexes_invalid_labels])\n",
    "    valid_test = np.delete(test, indexes_invalid_labels, axis=0)\n",
    "    assert (valid_test_labels.shape[0] == len(valid_test))\n",
    "    return valid_test, valid_test_labels"
   ]
  },
  {
   "cell_type": "code",
   "execution_count": 42,
   "metadata": {},
   "outputs": [],
   "source": [
    "test_labels_without_ids = test_labels.iloc[:,1:]\n",
    "X_test, y_test_df = drop_entries_with_invalid_labels(fixed_sequences_test, test_labels_without_ids)\n",
    "\n",
    "y_pred_float = loaded_model.predict([X_test], batch_size=1024)\n",
    "y_pred = (y_pred_float > .5)\n",
    "y_test = y_test_df.values"
   ]
  },
  {
   "cell_type": "markdown",
   "metadata": {},
   "source": [
    "##### <font color=\"red\">!</font> Use metrics for imbalanced learning"
   ]
  },
  {
   "cell_type": "code",
   "execution_count": 52,
   "metadata": {},
   "outputs": [
    {
     "name": "stderr",
     "output_type": "stream",
     "text": [
      "c:\\users\\andrz\\anaconda3\\lib\\site-packages\\sklearn\\metrics\\classification.py:1143: UndefinedMetricWarning: Precision and F-score are ill-defined and being set to 0.0 in labels with no predicted samples.\n",
      "  'precision', 'predicted', average, warn_for)\n"
     ]
    }
   ],
   "source": [
    "from sklearn.metrics import cohen_kappa_score\n",
    "from sklearn.metrics import precision_recall_fscore_support as score\n",
    "from imblearn.metrics import specificity_score, sensitivity_score\n",
    "\n",
    "precision, recall, fscore, support = score(y_test, y_pred)\n",
    "kappa = cohen_kappa_score(y_test.ravel(), y_pred.ravel())\n",
    "specificity = specificity_score(y_test.ravel(), y_pred.ravel())\n",
    "sensitivity = sensitivity_score(y_test.ravel(), y_pred.ravel())"
   ]
  },
  {
   "cell_type": "code",
   "execution_count": 53,
   "metadata": {},
   "outputs": [
    {
     "name": "stdout",
     "output_type": "stream",
     "text": [
      "Precision: \t ['0.586', '0.448', '0.640', '0.000', '0.617', '0.000']\n",
      "Recall: \t ['0.806', '0.117', '0.764', '0.000', '0.635', '0.000']\n",
      "F1 score: \t ['0.678', '0.186', '0.696', '0.000', '0.626', '0.000']\n",
      "Support: \t [6090  367 3691  211 3427  712]\n",
      "\n",
      " --- \n",
      "\n",
      "Kappa score: \t0.629\n",
      "Specificity: \t0.982\n",
      "Sensitivity: \t0.686\n"
     ]
    }
   ],
   "source": [
    "print('Precision: \\t', list(map('{:.3f}'.format, precision)))\n",
    "print('Recall: \\t', list(map('{:.3f}'.format, recall)))\n",
    "print('F1 score: \\t', list(map('{:.3f}'.format, fscore)))\n",
    "print('Support: \\t', support)\n",
    "print('\\n --- \\n')\n",
    "print('Kappa score: \\t{:.3f}'.format(kappa))\n",
    "print('Specificity: \\t{:.3f}'.format(specificity))\n",
    "print('Sensitivity: \\t{:.3f}'.format(sensitivity))"
   ]
  },
  {
   "cell_type": "code",
   "execution_count": 54,
   "metadata": {},
   "outputs": [
    {
     "name": "stdout",
     "output_type": "stream",
     "text": [
      "Confusion matrices:\n"
     ]
    },
    {
     "data": {
      "image/png": "[encoded data removed]",
      "text/plain": [
       "<Figure size 360x360 with 2 Axes>"
      ]
     },
     "metadata": {
      "needs_background": "dark"
     },
     "output_type": "display_data"
    },
    {
     "data": {
      "image/png": "[encoded data removed]",
      "text/plain": [
       "<Figure size 360x360 with 2 Axes>"
      ]
     },
     "metadata": {
      "needs_background": "dark"
     },
     "output_type": "display_data"
    },
    {
     "data": {
      "image/png": "[encoded data removed]",
      "text/plain": [
       "<Figure size 360x360 with 2 Axes>"
      ]
     },
     "metadata": {
      "needs_background": "dark"
     },
     "output_type": "display_data"
    },
    {
     "data": {
      "image/png": "[encoded data removed]",
      "text/plain": [
       "<Figure size 360x360 with 2 Axes>"
      ]
     },
     "metadata": {
      "needs_background": "dark"
     },
     "output_type": "display_data"
    },
    {
     "data": {
      "image/png": "[encoded data removed]",
      "text/plain": [
       "<Figure size 360x360 with 2 Axes>"
      ]
     },
     "metadata": {
      "needs_background": "dark"
     },
     "output_type": "display_data"
    },
    {
     "data": {
      "image/png": "[encoded data removed]",
      "text/plain": [
       "<Figure size 360x360 with 2 Axes>"
      ]
     },
     "metadata": {
      "needs_background": "dark"
     },
     "output_type": "display_data"
    }
   ],
   "source": [
    "conf_matrices = {}\n",
    "for label in range(len(classes_names)):\n",
    "    y_test_label = y_test[:, label]\n",
    "    y_pred_label = y_pred[:, label]\n",
    "    conf_matrices[classes_names[label]] = confusion_matrix(y_pred=y_pred_label, y_true=y_test_label)\n",
    "    \n",
    "print(\"Confusion matrices:\")\n",
    "for label, matrix in conf_matrices.items():\n",
    "    df_cm = pd.DataFrame(matrix, index = [i for i in ['No', 'Yes']], columns = [i for i in ['No', 'Yes']])\n",
    "    plt.figure(figsize = (5, 5))\n",
    "    ax = plt.axes()\n",
    "    sns.heatmap(df_cm, annot=True, cmap='magma', fmt='g')\n",
    "    ax.set_title(\"Class '{}':\".format(label))\n",
    "    ax.set_ylabel('Actual Values')    \n",
    "    ax.set_xlabel('Predicted Values')\n",
    "    plt.show()"
   ]
  },
  {
   "cell_type": "markdown",
   "metadata": {},
   "source": [
    "##### Create submission file"
   ]
  },
  {
   "cell_type": "raw",
   "metadata": {},
   "source": [
    "sample_submission = pd.read_csv(f'{INPUT_PATH}sample_submission.csv')\n",
    "sample_submission[classes_names] = y_pred_float\n",
    "sample_submission.to_csv(f'{SUBMISSION_PATH}submission.csv', index=False)"
   ]
  },
  {
   "cell_type": "markdown",
   "metadata": {},
   "source": [
    "##### Manual model testing"
   ]
  },
  {
   "cell_type": "code",
   "execution_count": 55,
   "metadata": {},
   "outputs": [],
   "source": [
    "def prepare_comment(comment):\n",
    "    tokenized_comment = tokenizer.texts_to_sequences(comment)\n",
    "    return pad_sequences(tokenized_comment, maxlen=maxlen)"
   ]
  },
  {
   "cell_type": "code",
   "execution_count": 70,
   "metadata": {},
   "outputs": [
    {
     "name": "stdout",
     "output_type": "stream",
     "text": [
      "\n",
      "No toxicity detected!\n",
      "\n",
      " \\ (•◡•) /\n",
      "\n",
      "All results:\n",
      "       toxic severe_toxic   obscene    threat   insult identity_hate\n",
      "0  0.011582     0.000065  0.002869  0.001177  0.00186      0.001015\n"
     ]
    }
   ],
   "source": [
    "single_comment = 'Meh!'\n",
    "single_prediction = loaded_model.predict([prepare_comment([single_comment])], batch_size=1024)\n",
    "results = pd.DataFrame(single_prediction, columns=[classes_names])\n",
    "\n",
    "class_with_highest_prob = results.idxmax(axis=1).get(0)[0]\n",
    "highest_prob = results.max(axis=1).get(0)\n",
    "\n",
    "happy_face = '\\ (•◡•) /'\n",
    "sad_face = '¯\\_(ツ)_/¯'\n",
    "\n",
    "if (highest_prob > .5):\n",
    "    print('\\nDeteced class: ', class_with_highest_prob, '\\nScore: ', highest_prob * 100, ' %\\n\\n', sad_face)\n",
    "else:\n",
    "    print('\\nNo toxicity detected!\\n\\n', happy_face)\n",
    "print('\\nAll results:\\n', results)"
   ]
  },
  {
   "cell_type": "markdown",
   "metadata": {},
   "source": [
    "##### <font color=\"#7affa0\">TODO:</font>\n",
    "- <font color=\"green\">✔</font> add plot of spammers classification based on variable spam_ratio\n",
    "- try to use new features from EDA during model fitting (e. g. spam)\n",
    "- ⌛ execute SearchGrid of model's params\n",
    "    - ⌛ try diffrent values of non-model params num_words (Tokenizer), maxlen (padding)\n",
    "- <font color=\"green\">✔</font> update Tensorflow to GPU version\n",
    "- try diffrent architectures:\n",
    "    - ⌛ Pooling (Max -> Average)\n",
    "    - <font color=\"green\">✔</font> Early Stopping and Checkpoints (callbacks)\n",
    "    - <font color=\"green\">✔</font> Pretrained Embedding (Glove)\n",
    "\n",
    "##### <font color=\"#a07aff\">Konsultacje:</font>\n",
    "- Klasyfikacja dwupoziomowa: binarna (clean/toxic data) + wieloetykietowa (tylko toxic data); dwa klasyfikatory\n",
    "- <font color=\"green\">✔</font> Dataset jest niezrównoważony (10/90); klasyfikacja niezrównoważona\n",
    "- Oversampling\n",
    "- <font color=\"green\">✔</font> Sprawdzić macierz pomyłek\n",
    "- <font color=\"green\">✔</font> Klasyfikacja hierarchiczna (np. severe toxic zawsze jest toxic)\n",
    "- <b>Zrobić przegląd literatury</b>"
   ]
  }
 ],
 "metadata": {
  "kernelspec": {
   "display_name": "Python 3",
   "language": "python",
   "name": "python3"
  },
  "language_info": {
   "codemirror_mode": {
    "name": "ipython",
    "version": 3
   },
   "file_extension": ".py",
   "mimetype": "text/x-python",
   "name": "python",
   "nbconvert_exporter": "python",
   "pygments_lexer": "ipython3",
   "version": "3.6.3"
  }
 },
 "nbformat": 4,
 "nbformat_minor": 2
}
